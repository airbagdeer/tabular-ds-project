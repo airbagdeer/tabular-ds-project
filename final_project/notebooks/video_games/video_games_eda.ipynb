{
 "cells": [
  {
   "cell_type": "code",
   "execution_count": 5,
   "metadata": {
    "ExecuteTime": {
     "end_time": "2025-03-05T09:09:45.891109300Z",
     "start_time": "2025-03-05T09:09:45.887439600Z"
    }
   },
   "outputs": [],
   "source": [
    "import pandas as pd\n",
    "from ydata_profiling import ProfileReport\n",
    "import warnings\n",
    "warnings.filterwarnings(\"ignore\")\n"
   ]
  },
  {
   "cell_type": "code",
   "execution_count": 6,
   "metadata": {
    "ExecuteTime": {
     "end_time": "2025-03-05T09:09:46.306315800Z",
     "start_time": "2025-03-05T09:09:46.281378900Z"
    }
   },
   "outputs": [],
   "source": [
    "USER_REVIEWS_PATH = '../data/video-games/processed/eda_user_reviews.csv'\n",
    "SALES_PATH = '../data/video-games/processed/eda_sales.csv'\n",
    "COMBINED_PATH = '../data/video-games/processed/eda_combined_video_games.csv'\n",
    "\n",
    "user_reviews_df = pd.read_csv(USER_REVIEWS_PATH)\n",
    "sales_df = pd.read_csv(SALES_PATH)\n",
    "combined_df = pd.read_csv(COMBINED_PATH)"
   ]
  },
  {
   "cell_type": "code",
   "execution_count": 7,
   "metadata": {
    "ExecuteTime": {
     "end_time": "2025-03-05T09:09:47.291227300Z",
     "start_time": "2025-03-05T09:09:47.282211500Z"
    }
   },
   "outputs": [
    {
     "data": {
      "text/plain": "        meta_score  user_review\ncount  6169.000000  5812.000000\nmean     72.969687     7.372505\nstd      11.692777     1.261159\nmin      22.000000     1.000000\n25%      66.000000     7.000000\n50%      74.000000     8.000000\n75%      81.000000     8.000000\nmax      99.000000    10.000000",
      "text/html": "<div>\n<style scoped>\n    .dataframe tbody tr th:only-of-type {\n        vertical-align: middle;\n    }\n\n    .dataframe tbody tr th {\n        vertical-align: top;\n    }\n\n    .dataframe thead th {\n        text-align: right;\n    }\n</style>\n<table border=\"1\" class=\"dataframe\">\n  <thead>\n    <tr style=\"text-align: right;\">\n      <th></th>\n      <th>meta_score</th>\n      <th>user_review</th>\n    </tr>\n  </thead>\n  <tbody>\n    <tr>\n      <th>count</th>\n      <td>6169.000000</td>\n      <td>5812.000000</td>\n    </tr>\n    <tr>\n      <th>mean</th>\n      <td>72.969687</td>\n      <td>7.372505</td>\n    </tr>\n    <tr>\n      <th>std</th>\n      <td>11.692777</td>\n      <td>1.261159</td>\n    </tr>\n    <tr>\n      <th>min</th>\n      <td>22.000000</td>\n      <td>1.000000</td>\n    </tr>\n    <tr>\n      <th>25%</th>\n      <td>66.000000</td>\n      <td>7.000000</td>\n    </tr>\n    <tr>\n      <th>50%</th>\n      <td>74.000000</td>\n      <td>8.000000</td>\n    </tr>\n    <tr>\n      <th>75%</th>\n      <td>81.000000</td>\n      <td>8.000000</td>\n    </tr>\n    <tr>\n      <th>max</th>\n      <td>99.000000</td>\n      <td>10.000000</td>\n    </tr>\n  </tbody>\n</table>\n</div>"
     },
     "execution_count": 7,
     "metadata": {},
     "output_type": "execute_result"
    }
   ],
   "source": [
    "user_reviews_df.describe()"
   ]
  },
  {
   "cell_type": "code",
   "execution_count": 8,
   "metadata": {
    "ExecuteTime": {
     "end_time": "2025-03-05T09:09:51.949828600Z",
     "start_time": "2025-03-05T09:09:48.017003600Z"
    }
   },
   "outputs": [
    {
     "data": {
      "text/plain": "Summarize dataset:   0%|          | 0/5 [00:00<?, ?it/s]",
      "application/vnd.jupyter.widget-view+json": {
       "version_major": 2,
       "version_minor": 0,
       "model_id": "db251d98a8b34ccfa5d7d03334badf12"
      }
     },
     "metadata": {},
     "output_type": "display_data"
    },
    {
     "ename": "AttributeError",
     "evalue": "'float' object has no attribute 'ndim'",
     "output_type": "error",
     "traceback": [
      "\u001B[31m---------------------------------------------------------------------------\u001B[39m",
      "\u001B[31mAttributeError\u001B[39m                            Traceback (most recent call last)",
      "\u001B[32m~\\AppData\\Local\\Temp\\ipykernel_29768\\260257612.py\u001B[39m in \u001B[36m?\u001B[39m\u001B[34m()\u001B[39m\n\u001B[32m      1\u001B[39m user_reviews_report = ProfileReport(user_reviews_df, explorative=\u001B[38;5;28;01mTrue\u001B[39;00m)  \u001B[38;5;66;03m# Generate EDA report\u001B[39;00m\n\u001B[32m----> \u001B[39m\u001B[32m2\u001B[39m user_reviews_report.to_file(\u001B[33m'eda_user_reviews.html'\u001B[39m)\n",
      "\u001B[32m~\\dev\\tabular-ds-project\\venv\\Lib\\site-packages\\ydata_profiling\\profile_report.py\u001B[39m in \u001B[36m?\u001B[39m\u001B[34m(self, output_file, silent)\u001B[39m\n\u001B[32m    370\u001B[39m                 \u001B[38;5;28;01mif\u001B[39;00m self.config.html.assets_prefix \u001B[38;5;28;01mis\u001B[39;00m \u001B[38;5;28;01mNone\u001B[39;00m:\n\u001B[32m    371\u001B[39m                     self.config.html.assets_prefix = str(output_file.stem) + \u001B[33m\"_assets\"\u001B[39m\n\u001B[32m    372\u001B[39m                 create_html_assets(self.config, output_file)\n\u001B[32m    373\u001B[39m \n\u001B[32m--> \u001B[39m\u001B[32m374\u001B[39m             data = self.to_html()\n\u001B[32m    375\u001B[39m \n\u001B[32m    376\u001B[39m             \u001B[38;5;28;01mif\u001B[39;00m output_file.suffix != \u001B[33m\".html\"\u001B[39m:\n\u001B[32m    377\u001B[39m                 suffix = output_file.suffix\n",
      "\u001B[32m~\\dev\\tabular-ds-project\\venv\\Lib\\site-packages\\ydata_profiling\\profile_report.py\u001B[39m in \u001B[36m?\u001B[39m\u001B[34m(self)\u001B[39m\n\u001B[32m    487\u001B[39m         Returns:\n\u001B[32m    488\u001B[39m             Profiling report html including wrapper.\n\u001B[32m    489\u001B[39m \n\u001B[32m    490\u001B[39m         \"\"\"\n\u001B[32m--> \u001B[39m\u001B[32m491\u001B[39m         \u001B[38;5;28;01mreturn\u001B[39;00m self.html\n",
      "\u001B[32m~\\dev\\tabular-ds-project\\venv\\Lib\\site-packages\\ydata_profiling\\profile_report.py\u001B[39m in \u001B[36m?\u001B[39m\u001B[34m(self)\u001B[39m\n\u001B[32m    284\u001B[39m     @property\n\u001B[32m    285\u001B[39m     \u001B[38;5;28;01mdef\u001B[39;00m html(self) -> str:\n\u001B[32m    286\u001B[39m         \u001B[38;5;28;01mif\u001B[39;00m self._html \u001B[38;5;28;01mis\u001B[39;00m \u001B[38;5;28;01mNone\u001B[39;00m:\n\u001B[32m--> \u001B[39m\u001B[32m287\u001B[39m             self._html = self._render_html()\n\u001B[32m    288\u001B[39m         \u001B[38;5;28;01mreturn\u001B[39;00m self._html\n",
      "\u001B[32m~\\dev\\tabular-ds-project\\venv\\Lib\\site-packages\\ydata_profiling\\profile_report.py\u001B[39m in \u001B[36m?\u001B[39m\u001B[34m(self)\u001B[39m\n\u001B[32m    401\u001B[39m     \u001B[38;5;28;01mdef\u001B[39;00m _render_html(self) -> str:\n\u001B[32m    402\u001B[39m         \u001B[38;5;28;01mfrom\u001B[39;00m ydata_profiling.report.presentation.flavours \u001B[38;5;28;01mimport\u001B[39;00m HTMLReport\n\u001B[32m    403\u001B[39m \n\u001B[32m--> \u001B[39m\u001B[32m404\u001B[39m         report = self.report\n\u001B[32m    405\u001B[39m \n\u001B[32m    406\u001B[39m         with tqdm(\n\u001B[32m    407\u001B[39m             total=\u001B[32m1\u001B[39m, desc=\u001B[33m\"Render HTML\"\u001B[39m, disable=\u001B[38;5;28;01mnot\u001B[39;00m self.config.progress_bar\n",
      "\u001B[32m~\\dev\\tabular-ds-project\\venv\\Lib\\site-packages\\ydata_profiling\\profile_report.py\u001B[39m in \u001B[36m?\u001B[39m\u001B[34m(self)\u001B[39m\n\u001B[32m    278\u001B[39m     @property\n\u001B[32m    279\u001B[39m     \u001B[38;5;28;01mdef\u001B[39;00m report(self) -> Root:\n\u001B[32m    280\u001B[39m         \u001B[38;5;28;01mif\u001B[39;00m self._report \u001B[38;5;28;01mis\u001B[39;00m \u001B[38;5;28;01mNone\u001B[39;00m:\n\u001B[32m--> \u001B[39m\u001B[32m281\u001B[39m             self._report = get_report_structure(self.config, self.description_set)\n\u001B[32m    282\u001B[39m         \u001B[38;5;28;01mreturn\u001B[39;00m self._report\n",
      "\u001B[32m~\\dev\\tabular-ds-project\\venv\\Lib\\site-packages\\ydata_profiling\\profile_report.py\u001B[39m in \u001B[36m?\u001B[39m\u001B[34m(self)\u001B[39m\n\u001B[32m    260\u001B[39m     @property\n\u001B[32m    261\u001B[39m     \u001B[38;5;28;01mdef\u001B[39;00m description_set(self) -> BaseDescription:\n\u001B[32m    262\u001B[39m         \u001B[38;5;28;01mif\u001B[39;00m self._description_set \u001B[38;5;28;01mis\u001B[39;00m \u001B[38;5;28;01mNone\u001B[39;00m:\n\u001B[32m--> \u001B[39m\u001B[32m263\u001B[39m             self._description_set = describe_df(\n\u001B[32m    264\u001B[39m                 self.config,\n\u001B[32m    265\u001B[39m                 self.df,\n\u001B[32m    266\u001B[39m                 self.summarizer,\n",
      "\u001B[32m~\\dev\\tabular-ds-project\\venv\\Lib\\site-packages\\ydata_profiling\\model\\describe.py\u001B[39m in \u001B[36m?\u001B[39m\u001B[34m(config, df, summarizer, typeset, sample)\u001B[39m\n\u001B[32m     70\u001B[39m         date_start = datetime.utcnow()\n\u001B[32m     71\u001B[39m \n\u001B[32m     72\u001B[39m         \u001B[38;5;66;03m# Variable-specific\u001B[39;00m\n\u001B[32m     73\u001B[39m         pbar.total += len(df.columns)\n\u001B[32m---> \u001B[39m\u001B[32m74\u001B[39m         series_description = get_series_descriptions(\n\u001B[32m     75\u001B[39m             config, df, summarizer, typeset, pbar\n\u001B[32m     76\u001B[39m         )\n\u001B[32m     77\u001B[39m \n",
      "\u001B[32m~\\dev\\tabular-ds-project\\venv\\Lib\\site-packages\\multimethod\\__init__.py\u001B[39m in \u001B[36m?\u001B[39m\u001B[34m(self, *args, **kwargs)\u001B[39m\n\u001B[32m    372\u001B[39m         self.evaluate()\n\u001B[32m    373\u001B[39m         func = self.dispatch(*args)\n\u001B[32m    374\u001B[39m         \u001B[38;5;28;01mtry\u001B[39;00m:\n\u001B[32m    375\u001B[39m             \u001B[38;5;28;01mreturn\u001B[39;00m func(*args, **kwargs)\n\u001B[32m--> \u001B[39m\u001B[32m376\u001B[39m         \u001B[38;5;28;01mexcept\u001B[39;00m TypeError \u001B[38;5;28;01mas\u001B[39;00m ex:\n\u001B[32m    377\u001B[39m             \u001B[38;5;28;01mraise\u001B[39;00m DispatchError(\u001B[33mf\"Function {func.__code__}\"\u001B[39m) \u001B[38;5;28;01mfrom\u001B[39;00m ex\n",
      "\u001B[32m~\\dev\\tabular-ds-project\\venv\\Lib\\site-packages\\ydata_profiling\\model\\pandas\\summary_pandas.py\u001B[39m in \u001B[36m?\u001B[39m\u001B[34m(config, df, summarizer, typeset, pbar)\u001B[39m\n\u001B[32m    108\u001B[39m             pbar.update()\n\u001B[32m    109\u001B[39m     \u001B[38;5;28;01melse\u001B[39;00m:\n\u001B[32m    110\u001B[39m         \u001B[38;5;66;03m# TODO: use `Pool` for Linux-based systems\u001B[39;00m\n\u001B[32m    111\u001B[39m         \u001B[38;5;28;01mwith\u001B[39;00m multiprocessing.pool.ThreadPool(pool_size) \u001B[38;5;28;01mas\u001B[39;00m executor:\n\u001B[32m--> \u001B[39m\u001B[32m112\u001B[39m             for i, (column, description) in enumerate(\n\u001B[32m    113\u001B[39m                 executor.imap_unordered(multiprocess_1d, args)\n\u001B[32m    114\u001B[39m             ):\n\u001B[32m    115\u001B[39m                 pbar.set_postfix_str(\u001B[33mf\"Describe variable:{column}\"\u001B[39m)\n",
      "\u001B[32m~\\AppData\\Local\\Programs\\Python\\Python311\\Lib\\multiprocessing\\pool.py\u001B[39m in \u001B[36m?\u001B[39m\u001B[34m(self, timeout)\u001B[39m\n\u001B[32m    869\u001B[39m \n\u001B[32m    870\u001B[39m         success, value = item\n\u001B[32m    871\u001B[39m         \u001B[38;5;28;01mif\u001B[39;00m success:\n\u001B[32m    872\u001B[39m             \u001B[38;5;28;01mreturn\u001B[39;00m value\n\u001B[32m--> \u001B[39m\u001B[32m873\u001B[39m         \u001B[38;5;28;01mraise\u001B[39;00m value\n",
      "\u001B[32m~\\AppData\\Local\\Programs\\Python\\Python311\\Lib\\multiprocessing\\pool.py\u001B[39m in \u001B[36m?\u001B[39m\u001B[34m(inqueue, outqueue, initializer, initargs, maxtasks, wrap_exception)\u001B[39m\n\u001B[32m    136\u001B[39m             put((job, i, (\u001B[38;5;28;01mFalse\u001B[39;00m, wrapped)))\n\u001B[32m    137\u001B[39m \n\u001B[32m    138\u001B[39m         task = job = result = func = args = kwds = \u001B[38;5;28;01mNone\u001B[39;00m\n\u001B[32m    139\u001B[39m         completed += \u001B[32m1\u001B[39m\n\u001B[32m--> \u001B[39m\u001B[32m140\u001B[39m     util.debug(\u001B[33m'worker exiting after %d tasks'\u001B[39m % completed)\n",
      "\u001B[32m~\\dev\\tabular-ds-project\\venv\\Lib\\site-packages\\ydata_profiling\\model\\pandas\\summary_pandas.py\u001B[39m in \u001B[36m?\u001B[39m\u001B[34m(args)\u001B[39m\n\u001B[32m     88\u001B[39m         Returns:\n\u001B[32m     89\u001B[39m             A tuple \u001B[38;5;28;01mwith\u001B[39;00m column \u001B[38;5;28;01mand\u001B[39;00m the series description.\n\u001B[32m     90\u001B[39m         \"\"\"\n\u001B[32m     91\u001B[39m         column, series = args\n\u001B[32m---> \u001B[39m\u001B[32m92\u001B[39m         \u001B[38;5;28;01mreturn\u001B[39;00m column, describe_1d(config, series, summarizer, typeset)\n",
      "\u001B[32m~\\dev\\tabular-ds-project\\venv\\Lib\\site-packages\\multimethod\\__init__.py\u001B[39m in \u001B[36m?\u001B[39m\u001B[34m(self, *args, **kwargs)\u001B[39m\n\u001B[32m    372\u001B[39m         self.evaluate()\n\u001B[32m    373\u001B[39m         func = self.dispatch(*args)\n\u001B[32m    374\u001B[39m         \u001B[38;5;28;01mtry\u001B[39;00m:\n\u001B[32m    375\u001B[39m             \u001B[38;5;28;01mreturn\u001B[39;00m func(*args, **kwargs)\n\u001B[32m--> \u001B[39m\u001B[32m376\u001B[39m         \u001B[38;5;28;01mexcept\u001B[39;00m TypeError \u001B[38;5;28;01mas\u001B[39;00m ex:\n\u001B[32m    377\u001B[39m             \u001B[38;5;28;01mraise\u001B[39;00m DispatchError(\u001B[33mf\"Function {func.__code__}\"\u001B[39m) \u001B[38;5;28;01mfrom\u001B[39;00m ex\n",
      "\u001B[32m~\\dev\\tabular-ds-project\\venv\\Lib\\site-packages\\ydata_profiling\\model\\pandas\\summary_pandas.py\u001B[39m in \u001B[36m?\u001B[39m\u001B[34m(config, series, summarizer, typeset)\u001B[39m\n\u001B[32m     61\u001B[39m         \u001B[38;5;66;03m# [new dtypes, changed using `astype` function are now considered]\u001B[39;00m\n\u001B[32m     62\u001B[39m         vtype = typeset.detect_type(series)\n\u001B[32m     63\u001B[39m \n\u001B[32m     64\u001B[39m     typeset.type_schema[series.name] = vtype\n\u001B[32m---> \u001B[39m\u001B[32m65\u001B[39m     summary = summarizer.summarize(config, series, dtype=vtype)\n\u001B[32m     66\u001B[39m     \u001B[38;5;66;03m# Cast type is only used on unsupported columns rendering pipeline\u001B[39;00m\n\u001B[32m     67\u001B[39m     \u001B[38;5;66;03m# to indicate the correct variable type when inference is not possible\u001B[39;00m\n\u001B[32m     68\u001B[39m     summary[\u001B[33m\"cast_type\"\u001B[39m] = cast_type\n",
      "\u001B[32m~\\dev\\tabular-ds-project\\venv\\Lib\\site-packages\\ydata_profiling\\model\\summarizer.py\u001B[39m in \u001B[36m?\u001B[39m\u001B[34m(self, config, series, dtype)\u001B[39m\n\u001B[32m     38\u001B[39m \n\u001B[32m     39\u001B[39m         Returns:\n\u001B[32m     40\u001B[39m             object:\n\u001B[32m     41\u001B[39m         \"\"\"\n\u001B[32m---> \u001B[39m\u001B[32m42\u001B[39m         _, _, summary = self.handle(str(dtype), config, series, {\u001B[33m\"type\"\u001B[39m: str(dtype)})\n\u001B[32m     43\u001B[39m         \u001B[38;5;28;01mreturn\u001B[39;00m summary\n",
      "\u001B[32m~\\dev\\tabular-ds-project\\venv\\Lib\\site-packages\\ydata_profiling\\model\\handler.py\u001B[39m in \u001B[36m?\u001B[39m\u001B[34m(self, dtype, *args, **kwargs)\u001B[39m\n\u001B[32m     58\u001B[39m             object:\n\u001B[32m     59\u001B[39m         \"\"\"\n\u001B[32m     60\u001B[39m         funcs = self.mapping.get(dtype, [])\n\u001B[32m     61\u001B[39m         op = compose(funcs)\n\u001B[32m---> \u001B[39m\u001B[32m62\u001B[39m         \u001B[38;5;28;01mreturn\u001B[39;00m op(*args)\n",
      "\u001B[32m~\\dev\\tabular-ds-project\\venv\\Lib\\site-packages\\ydata_profiling\\model\\handler.py\u001B[39m in \u001B[36m?\u001B[39m\u001B[34m(*x)\u001B[39m\n\u001B[32m     17\u001B[39m             res = g(*x)\n\u001B[32m     18\u001B[39m             \u001B[38;5;28;01mif\u001B[39;00m type(res) == bool:\n\u001B[32m     19\u001B[39m                 \u001B[38;5;28;01mreturn\u001B[39;00m f(*x)\n\u001B[32m     20\u001B[39m             \u001B[38;5;28;01melse\u001B[39;00m:\n\u001B[32m---> \u001B[39m\u001B[32m21\u001B[39m                 \u001B[38;5;28;01mreturn\u001B[39;00m f(*res)\n",
      "\u001B[32m~\\dev\\tabular-ds-project\\venv\\Lib\\site-packages\\ydata_profiling\\model\\handler.py\u001B[39m in \u001B[36m?\u001B[39m\u001B[34m(*x)\u001B[39m\n\u001B[32m     17\u001B[39m             res = g(*x)\n\u001B[32m     18\u001B[39m             \u001B[38;5;28;01mif\u001B[39;00m type(res) == bool:\n\u001B[32m     19\u001B[39m                 \u001B[38;5;28;01mreturn\u001B[39;00m f(*x)\n\u001B[32m     20\u001B[39m             \u001B[38;5;28;01melse\u001B[39;00m:\n\u001B[32m---> \u001B[39m\u001B[32m21\u001B[39m                 \u001B[38;5;28;01mreturn\u001B[39;00m f(*res)\n",
      "\u001B[32m~\\dev\\tabular-ds-project\\venv\\Lib\\site-packages\\ydata_profiling\\model\\handler.py\u001B[39m in \u001B[36m?\u001B[39m\u001B[34m(*x)\u001B[39m\n\u001B[32m     17\u001B[39m             res = g(*x)\n\u001B[32m     18\u001B[39m             \u001B[38;5;28;01mif\u001B[39;00m type(res) == bool:\n\u001B[32m     19\u001B[39m                 \u001B[38;5;28;01mreturn\u001B[39;00m f(*x)\n\u001B[32m     20\u001B[39m             \u001B[38;5;28;01melse\u001B[39;00m:\n\u001B[32m---> \u001B[39m\u001B[32m21\u001B[39m                 \u001B[38;5;28;01mreturn\u001B[39;00m f(*res)\n",
      "\u001B[32m~\\dev\\tabular-ds-project\\venv\\Lib\\site-packages\\ydata_profiling\\model\\handler.py\u001B[39m in \u001B[36m?\u001B[39m\u001B[34m(*x)\u001B[39m\n\u001B[32m     16\u001B[39m         \u001B[38;5;28;01mdef\u001B[39;00m func2(*x) -> Any:\n\u001B[32m---> \u001B[39m\u001B[32m17\u001B[39m             res = g(*x)\n\u001B[32m     18\u001B[39m             \u001B[38;5;28;01mif\u001B[39;00m type(res) == bool:\n\u001B[32m     19\u001B[39m                 \u001B[38;5;28;01mreturn\u001B[39;00m f(*x)\n\u001B[32m     20\u001B[39m             \u001B[38;5;28;01melse\u001B[39;00m:\n",
      "\u001B[32m~\\dev\\tabular-ds-project\\venv\\Lib\\site-packages\\multimethod\\__init__.py\u001B[39m in \u001B[36m?\u001B[39m\u001B[34m(self, *args, **kwargs)\u001B[39m\n\u001B[32m    372\u001B[39m         self.evaluate()\n\u001B[32m    373\u001B[39m         func = self.dispatch(*args)\n\u001B[32m    374\u001B[39m         \u001B[38;5;28;01mtry\u001B[39;00m:\n\u001B[32m    375\u001B[39m             \u001B[38;5;28;01mreturn\u001B[39;00m func(*args, **kwargs)\n\u001B[32m--> \u001B[39m\u001B[32m376\u001B[39m         \u001B[38;5;28;01mexcept\u001B[39;00m TypeError \u001B[38;5;28;01mas\u001B[39;00m ex:\n\u001B[32m    377\u001B[39m             \u001B[38;5;28;01mraise\u001B[39;00m DispatchError(\u001B[33mf\"Function {func.__code__}\"\u001B[39m) \u001B[38;5;28;01mfrom\u001B[39;00m ex\n",
      "\u001B[32m~\\dev\\tabular-ds-project\\venv\\Lib\\site-packages\\ydata_profiling\\model\\summary_algorithms.py\u001B[39m in \u001B[36m?\u001B[39m\u001B[34m(config, series, summary)\u001B[39m\n\u001B[32m     69\u001B[39m         config: Settings, series: pd.Series, summary: dict\n\u001B[32m     70\u001B[39m     ) -> Tuple[Settings, pd.Series, dict]:\n\u001B[32m     71\u001B[39m         \u001B[38;5;28;01mif\u001B[39;00m \u001B[38;5;28;01mnot\u001B[39;00m summary[\u001B[33m\"hashable\"\u001B[39m]:\n\u001B[32m     72\u001B[39m             \u001B[38;5;28;01mreturn\u001B[39;00m config, series, summary\n\u001B[32m---> \u001B[39m\u001B[32m73\u001B[39m         \u001B[38;5;28;01mreturn\u001B[39;00m fn(config, series, summary)\n",
      "\u001B[32m~\\dev\\tabular-ds-project\\venv\\Lib\\site-packages\\ydata_profiling\\model\\summary_algorithms.py\u001B[39m in \u001B[36m?\u001B[39m\u001B[34m(config, series, summary)\u001B[39m\n\u001B[32m     86\u001B[39m     ) -> Tuple[Settings, pd.Series, dict]:\n\u001B[32m     87\u001B[39m         \u001B[38;5;28;01mif\u001B[39;00m series.hasnans:\n\u001B[32m     88\u001B[39m             series = series.dropna()\n\u001B[32m     89\u001B[39m \n\u001B[32m---> \u001B[39m\u001B[32m90\u001B[39m         \u001B[38;5;28;01mreturn\u001B[39;00m fn(config, series, summary)\n",
      "\u001B[32m~\\dev\\tabular-ds-project\\venv\\Lib\\site-packages\\ydata_profiling\\model\\pandas\\describe_categorical_pandas.py\u001B[39m in \u001B[36m?\u001B[39m\u001B[34m(config, series, summary)\u001B[39m\n\u001B[32m    241\u001B[39m         summary.update({\u001B[33m\"first_rows\"\u001B[39m: series.head(\u001B[32m5\u001B[39m)})\n\u001B[32m    242\u001B[39m \n\u001B[32m    243\u001B[39m     chi_squared_threshold = config.vars.num.chi_squared_threshold\n\u001B[32m    244\u001B[39m     \u001B[38;5;28;01mif\u001B[39;00m chi_squared_threshold > \u001B[32m0.0\u001B[39m:\n\u001B[32m--> \u001B[39m\u001B[32m245\u001B[39m         summary[\u001B[33m\"chi_squared\"\u001B[39m] = chi_square(histogram=value_counts.values)\n\u001B[32m    246\u001B[39m \n\u001B[32m    247\u001B[39m     \u001B[38;5;28;01mif\u001B[39;00m config.vars.cat.length:\n\u001B[32m    248\u001B[39m         summary.update(length_summary_vc(value_counts))\n",
      "\u001B[32m~\\dev\\tabular-ds-project\\venv\\Lib\\site-packages\\ydata_profiling\\model\\summary_algorithms.py\u001B[39m in \u001B[36m?\u001B[39m\u001B[34m(values, histogram)\u001B[39m\n\u001B[32m     57\u001B[39m         bins = np.histogram_bin_edges(values, bins=\u001B[33m\"auto\"\u001B[39m)\n\u001B[32m     58\u001B[39m         histogram, _ = np.histogram(values, bins=bins)\n\u001B[32m     59\u001B[39m     \u001B[38;5;28;01mif\u001B[39;00m len(histogram) == \u001B[32m0\u001B[39m \u001B[38;5;28;01mor\u001B[39;00m np.sum(histogram) == \u001B[32m0\u001B[39m:\n\u001B[32m     60\u001B[39m         \u001B[38;5;28;01mreturn\u001B[39;00m {\u001B[33m\"statistic\"\u001B[39m: \u001B[32m0\u001B[39m, \u001B[33m\"pvalue\"\u001B[39m: \u001B[32m0\u001B[39m}\n\u001B[32m---> \u001B[39m\u001B[32m61\u001B[39m     \u001B[38;5;28;01mreturn\u001B[39;00m dict(chisquare(histogram)._asdict())\n",
      "\u001B[32m~\\dev\\tabular-ds-project\\venv\\Lib\\site-packages\\scipy\\stats\\_stats_py.py\u001B[39m in \u001B[36m?\u001B[39m\u001B[34m(f_obs, f_exp, ddof, axis, sum_check)\u001B[39m\n\u001B[32m   7502\u001B[39m     Power_divergenceResult(statistic=array([\u001B[32m3.5\u001B[39m , \u001B[32m9.25\u001B[39m]), pvalue=array([\u001B[32m0.62338763\u001B[39m, \u001B[32m0.09949846\u001B[39m]))\n\u001B[32m   7503\u001B[39m \n\u001B[32m   7504\u001B[39m     For a more detailed example, see :ref:`hypothesis_chisquare`.\n\u001B[32m   7505\u001B[39m     \"\"\"  # noqa: E501\n\u001B[32m-> \u001B[39m\u001B[32m7506\u001B[39m     return _power_divergence(f_obs, f_exp=f_exp, ddof=ddof, axis=axis,\n\u001B[32m   7507\u001B[39m                              lambda_=\"pearson\", sum_check=sum_check)\n",
      "\u001B[32m~\\dev\\tabular-ds-project\\venv\\Lib\\site-packages\\scipy\\stats\\_stats_py.py\u001B[39m in \u001B[36m?\u001B[39m\u001B[34m(f_obs, f_exp, ddof, axis, lambda_, sum_check)\u001B[39m\n\u001B[32m   7352\u001B[39m     df = xp.asarray(num_obs - \u001B[32m1\u001B[39m - ddof)\n\u001B[32m   7353\u001B[39m     chi2 = _SimpleChi2(df)\n\u001B[32m   7354\u001B[39m     pvalue = _get_pvalue(stat, chi2 , alternative=\u001B[33m'greater'\u001B[39m, symmetric=\u001B[38;5;28;01mFalse\u001B[39;00m, xp=xp)\n\u001B[32m   7355\u001B[39m \n\u001B[32m-> \u001B[39m\u001B[32m7356\u001B[39m     stat = stat[()] \u001B[38;5;28;01mif\u001B[39;00m stat.ndim == \u001B[32m0\u001B[39m \u001B[38;5;28;01melse\u001B[39;00m stat\n\u001B[32m   7357\u001B[39m     pvalue = pvalue[()] \u001B[38;5;28;01mif\u001B[39;00m pvalue.ndim == \u001B[32m0\u001B[39m \u001B[38;5;28;01melse\u001B[39;00m pvalue\n\u001B[32m   7358\u001B[39m \n\u001B[32m   7359\u001B[39m     \u001B[38;5;28;01mreturn\u001B[39;00m Power_divergenceResult(stat, pvalue)\n",
      "\u001B[31mAttributeError\u001B[39m: 'float' object has no attribute 'ndim'"
     ]
    }
   ],
   "source": [
    "user_reviews_report = ProfileReport(user_reviews_df, explorative=True)  # Generate EDA report\n",
    "user_reviews_report.to_file('eda_user_reviews.html')"
   ]
  },
  {
   "cell_type": "markdown",
   "metadata": {},
   "source": []
  },
  {
   "cell_type": "code",
   "execution_count": null,
   "metadata": {},
   "outputs": [],
   "source": [
    "sales_report = ProfileReport(sales_df, explorative=True)  # Generate EDA report\n",
    "sales_report.to_file('eda_sales.html')"
   ]
  },
  {
   "cell_type": "code",
   "execution_count": null,
   "metadata": {},
   "outputs": [],
   "source": [
    "combined_report = ProfileReport(combined_df, explorative=True)  # Generate EDA report\n",
    "combined_report.to_file('eda_combined.html')"
   ]
  },
  {
   "cell_type": "code",
   "execution_count": null,
   "metadata": {},
   "outputs": [],
   "source": []
  }
 ],
 "metadata": {
  "kernelspec": {
   "display_name": "Python 3",
   "language": "python",
   "name": "python3"
  },
  "language_info": {
   "codemirror_mode": {
    "name": "ipython",
    "version": 3
   },
   "file_extension": ".py",
   "mimetype": "text/x-python",
   "name": "python",
   "nbconvert_exporter": "python",
   "pygments_lexer": "ipython3",
   "version": "3.11.11"
  }
 },
 "nbformat": 4,
 "nbformat_minor": 2
}
