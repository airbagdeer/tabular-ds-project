{
 "nbformat": 4,
 "nbformat_minor": 0,
 "metadata": {
  "colab": {
   "provenance": []
  },
  "kernelspec": {
   "name": "python3",
   "language": "python",
   "display_name": "Python 3 (ipykernel)"
  },
  "language_info": {
   "name": "python"
  }
 },
 "cells": [
  {
   "cell_type": "code",
   "execution_count": 2,
   "metadata": {
    "id": "9Af9iDzGl26-",
    "ExecuteTime": {
     "end_time": "2025-03-09T19:03:04.993180800Z",
     "start_time": "2025-03-09T19:03:04.975080100Z"
    }
   },
   "outputs": [],
   "source": [
    "import numpy as np\n",
    "import pandas as pd\n",
    "import seaborn as sns\n",
    "import matplotlib.pyplot as plt\n",
    "from datetime import datetime"
   ]
  },
  {
   "cell_type": "markdown",
   "source": [
    "dataset:\n",
    "\n",
    "https://www.kaggle.com/datasets/davidcariboo/player-scores/data\n",
    "\n",
    "To run you need to download and take the appearances and players files from the link"
   ],
   "metadata": {
    "collapsed": false
   }
  },
  {
   "cell_type": "code",
   "source": [
    "df_appearances = pd.read_csv(\"../data/football/raw/appearances.csv\", low_memory=False)\n",
    "df_players = pd.read_csv(\"../data/football/raw/players.csv\")\n",
    "df_appearances_backup = df_appearances.copy()"
   ],
   "metadata": {
    "id": "dlDKq4W2rp0t",
    "ExecuteTime": {
     "end_time": "2025-03-09T19:03:08.174475500Z",
     "start_time": "2025-03-09T19:03:05.812007300Z"
    }
   },
   "execution_count": 3,
   "outputs": []
  },
  {
   "cell_type": "code",
   "source": [
    "df_appearances"
   ],
   "metadata": {
    "colab": {
     "base_uri": "https://localhost:8080/",
     "height": 617
    },
    "id": "kBu0Si4INnNW",
    "outputId": "825245d6-a672-42a0-b4f3-69bf03f7019b",
    "ExecuteTime": {
     "end_time": "2025-03-09T19:03:09.292411700Z",
     "start_time": "2025-03-09T19:03:09.248943100Z"
    }
   },
   "execution_count": 4,
   "outputs": [
    {
     "data": {
      "text/plain": "          appearance_id  game_id  player_id  player_club_id  \\\n0         2231978_38004  2231978      38004             853   \n1         2233748_79232  2233748      79232            8841   \n2         2234413_42792  2234413      42792            6251   \n3         2234418_73333  2234418      73333            1274   \n4        2234421_122011  2234421     122011             195   \n...                 ...      ...        ...             ...   \n1692985   4547690_69633  4547690      69633             985   \n1692986  4547690_811779  4547690     811779             985   \n1692987  4547690_907813  4547690     907813             681   \n1692988  4547690_923831  4547690     923831             985   \n1692989  4547690_926952  4547690     926952             985   \n\n         player_current_club_id        date         player_name  \\\n0                           235  2012-07-03    Aurélien Joachim   \n1                          2698  2012-07-05      Ruslan Abyshov   \n2                           465  2012-07-05         Sander Puri   \n3                          6646  2012-07-05     Vegar Hedenstad   \n4                          3008  2012-07-05    Markus Henriksen   \n...                         ...         ...                 ...   \n1692985                     985  2025-03-06   Christian Eriksen   \n1692986                     985  2025-03-06  Alejandro Garnacho   \n1692987                     681  2025-03-06         Pablo Marín   \n1692988                     985  2025-03-06           Leny Yoro   \n1692989                     985  2025-03-06       Patrick Dorgu   \n\n        competition_id  yellow_cards  red_cards  goals  assists  \\\n0                  CLQ             0          0      2        0   \n1                  ELQ             0          0      0        0   \n2                  ELQ             0          0      0        0   \n3                  ELQ             0          0      0        0   \n4                  ELQ             0          0      0        1   \n...                ...           ...        ...    ...      ...   \n1692985             EL             0          0      0        0   \n1692986             EL             0          0      0        1   \n1692987             EL             0          0      0        0   \n1692988             EL             0          0      0        0   \n1692989             EL             0          0      0        0   \n\n         minutes_played  \n0                    90  \n1                    90  \n2                    45  \n3                    90  \n4                    90  \n...                 ...  \n1692985              12  \n1692986              78  \n1692987              27  \n1692988              88  \n1692989              90  \n\n[1692990 rows x 13 columns]",
      "text/html": "<div>\n<style scoped>\n    .dataframe tbody tr th:only-of-type {\n        vertical-align: middle;\n    }\n\n    .dataframe tbody tr th {\n        vertical-align: top;\n    }\n\n    .dataframe thead th {\n        text-align: right;\n    }\n</style>\n<table border=\"1\" class=\"dataframe\">\n  <thead>\n    <tr style=\"text-align: right;\">\n      <th></th>\n      <th>appearance_id</th>\n      <th>game_id</th>\n      <th>player_id</th>\n      <th>player_club_id</th>\n      <th>player_current_club_id</th>\n      <th>date</th>\n      <th>player_name</th>\n      <th>competition_id</th>\n      <th>yellow_cards</th>\n      <th>red_cards</th>\n      <th>goals</th>\n      <th>assists</th>\n      <th>minutes_played</th>\n    </tr>\n  </thead>\n  <tbody>\n    <tr>\n      <th>0</th>\n      <td>2231978_38004</td>\n      <td>2231978</td>\n      <td>38004</td>\n      <td>853</td>\n      <td>235</td>\n      <td>2012-07-03</td>\n      <td>Aurélien Joachim</td>\n      <td>CLQ</td>\n      <td>0</td>\n      <td>0</td>\n      <td>2</td>\n      <td>0</td>\n      <td>90</td>\n    </tr>\n    <tr>\n      <th>1</th>\n      <td>2233748_79232</td>\n      <td>2233748</td>\n      <td>79232</td>\n      <td>8841</td>\n      <td>2698</td>\n      <td>2012-07-05</td>\n      <td>Ruslan Abyshov</td>\n      <td>ELQ</td>\n      <td>0</td>\n      <td>0</td>\n      <td>0</td>\n      <td>0</td>\n      <td>90</td>\n    </tr>\n    <tr>\n      <th>2</th>\n      <td>2234413_42792</td>\n      <td>2234413</td>\n      <td>42792</td>\n      <td>6251</td>\n      <td>465</td>\n      <td>2012-07-05</td>\n      <td>Sander Puri</td>\n      <td>ELQ</td>\n      <td>0</td>\n      <td>0</td>\n      <td>0</td>\n      <td>0</td>\n      <td>45</td>\n    </tr>\n    <tr>\n      <th>3</th>\n      <td>2234418_73333</td>\n      <td>2234418</td>\n      <td>73333</td>\n      <td>1274</td>\n      <td>6646</td>\n      <td>2012-07-05</td>\n      <td>Vegar Hedenstad</td>\n      <td>ELQ</td>\n      <td>0</td>\n      <td>0</td>\n      <td>0</td>\n      <td>0</td>\n      <td>90</td>\n    </tr>\n    <tr>\n      <th>4</th>\n      <td>2234421_122011</td>\n      <td>2234421</td>\n      <td>122011</td>\n      <td>195</td>\n      <td>3008</td>\n      <td>2012-07-05</td>\n      <td>Markus Henriksen</td>\n      <td>ELQ</td>\n      <td>0</td>\n      <td>0</td>\n      <td>0</td>\n      <td>1</td>\n      <td>90</td>\n    </tr>\n    <tr>\n      <th>...</th>\n      <td>...</td>\n      <td>...</td>\n      <td>...</td>\n      <td>...</td>\n      <td>...</td>\n      <td>...</td>\n      <td>...</td>\n      <td>...</td>\n      <td>...</td>\n      <td>...</td>\n      <td>...</td>\n      <td>...</td>\n      <td>...</td>\n    </tr>\n    <tr>\n      <th>1692985</th>\n      <td>4547690_69633</td>\n      <td>4547690</td>\n      <td>69633</td>\n      <td>985</td>\n      <td>985</td>\n      <td>2025-03-06</td>\n      <td>Christian Eriksen</td>\n      <td>EL</td>\n      <td>0</td>\n      <td>0</td>\n      <td>0</td>\n      <td>0</td>\n      <td>12</td>\n    </tr>\n    <tr>\n      <th>1692986</th>\n      <td>4547690_811779</td>\n      <td>4547690</td>\n      <td>811779</td>\n      <td>985</td>\n      <td>985</td>\n      <td>2025-03-06</td>\n      <td>Alejandro Garnacho</td>\n      <td>EL</td>\n      <td>0</td>\n      <td>0</td>\n      <td>0</td>\n      <td>1</td>\n      <td>78</td>\n    </tr>\n    <tr>\n      <th>1692987</th>\n      <td>4547690_907813</td>\n      <td>4547690</td>\n      <td>907813</td>\n      <td>681</td>\n      <td>681</td>\n      <td>2025-03-06</td>\n      <td>Pablo Marín</td>\n      <td>EL</td>\n      <td>0</td>\n      <td>0</td>\n      <td>0</td>\n      <td>0</td>\n      <td>27</td>\n    </tr>\n    <tr>\n      <th>1692988</th>\n      <td>4547690_923831</td>\n      <td>4547690</td>\n      <td>923831</td>\n      <td>985</td>\n      <td>985</td>\n      <td>2025-03-06</td>\n      <td>Leny Yoro</td>\n      <td>EL</td>\n      <td>0</td>\n      <td>0</td>\n      <td>0</td>\n      <td>0</td>\n      <td>88</td>\n    </tr>\n    <tr>\n      <th>1692989</th>\n      <td>4547690_926952</td>\n      <td>4547690</td>\n      <td>926952</td>\n      <td>985</td>\n      <td>985</td>\n      <td>2025-03-06</td>\n      <td>Patrick Dorgu</td>\n      <td>EL</td>\n      <td>0</td>\n      <td>0</td>\n      <td>0</td>\n      <td>0</td>\n      <td>90</td>\n    </tr>\n  </tbody>\n</table>\n<p>1692990 rows × 13 columns</p>\n</div>"
     },
     "execution_count": 4,
     "metadata": {},
     "output_type": "execute_result"
    }
   ]
  },
  {
   "cell_type": "code",
   "source": [
    "df_players"
   ],
   "metadata": {
    "colab": {
     "base_uri": "https://localhost:8080/",
     "height": 669
    },
    "id": "sLhfI3fdO8WU",
    "outputId": "805bd8e0-53ee-43c6-cd77-bf79a03e0c80",
    "ExecuteTime": {
     "end_time": "2025-03-09T19:03:10.723913700Z",
     "start_time": "2025-03-09T19:03:10.672966400Z"
    }
   },
   "execution_count": 5,
   "outputs": [
    {
     "data": {
      "text/plain": "       player_id     first_name       last_name                  name  \\\n0             10       Miroslav           Klose        Miroslav Klose   \n1             26          Roman    Weidenfeller    Roman Weidenfeller   \n2             65        Dimitar        Berbatov      Dimitar Berbatov   \n3             77            NaN           Lúcio                 Lúcio   \n4             80            Tom          Starke            Tom Starke   \n...          ...            ...             ...                   ...   \n32583    1369057          Yusuf            Kurt            Yusuf Kurt   \n32584    1375876            NaN  Diego Henrique        Diego Henrique   \n32585    1378362         Orseer          Achihi         Orseer Achihi   \n32586    1380311  Prince Amoako          Junior  Prince Amoako Junior   \n32587    1380876  Gabriel Jesus           David   Gabriel Jesus David   \n\n       last_season  current_club_id           player_code    country_of_birth  \\\n0             2015              398        miroslav-klose              Poland   \n1             2017               16    roman-weidenfeller             Germany   \n2             2015             1091      dimitar-berbatov            Bulgaria   \n3             2012              506                 lucio              Brazil   \n4             2017               27            tom-starke  East Germany (GDR)   \n...            ...              ...                   ...                 ...   \n32583         2024            11282            yusuf-kurt             Türkiye   \n32584         2024            86209        diego-henrique              Brazil   \n32585         2024             1096         orseer-achihi                 NaN   \n32586         2024             2778  prince-amoako-junior                 NaN   \n32587         2024             1096   gabriel-jesus-david                 NaN   \n\n       city_of_birth country_of_citizenship  ...   foot height_in_cm  \\\n0              Opole                Germany  ...  right        184.0   \n1               Diez                Germany  ...   left        190.0   \n2        Blagoevgrad               Bulgaria  ...    NaN          NaN   \n3           Brasília                 Brazil  ...    NaN          NaN   \n4            Freital                Germany  ...  right        194.0   \n...              ...                    ...  ...    ...          ...   \n32583         Batman                Türkiye  ...   left        186.0   \n32584  Andradina, SP                 Brazil  ...   left        170.0   \n32585            NaN                Nigeria  ...    NaN          NaN   \n32586            NaN                  Ghana  ...    NaN          NaN   \n32587            NaN                Nigeria  ...    NaN          NaN   \n\n      contract_expiration_date            agent_name  \\\n0                          NaN  ASBW Sport Marketing   \n1                          NaN      Neubauer 13 GmbH   \n2                          NaN       CSKA-AS-23 Ltd.   \n3                          NaN                   NaN   \n4                          NaN                   IFM   \n...                        ...                   ...   \n32583      2025-06-30 00:00:00                   NaN   \n32584      2026-06-30 00:00:00                   NaN   \n32585      2029-06-30 00:00:00            Aneke/PMG    \n32586      2029-12-31 00:00:00           CAA Stellar   \n32587      2025-06-30 00:00:00            Aneke/PMG    \n\n                                               image_url  \\\n0      https://img.a.transfermarkt.technology/portrai...   \n1      https://img.a.transfermarkt.technology/portrai...   \n2      https://img.a.transfermarkt.technology/portrai...   \n3      https://img.a.transfermarkt.technology/portrai...   \n4      https://img.a.transfermarkt.technology/portrai...   \n...                                                  ...   \n32583  https://tmssl.akamaized.net//images/portrait/h...   \n32584  https://tmssl.akamaized.net//images/portrait/h...   \n32585  https://tmssl.akamaized.net//images/portrait/h...   \n32586  https://tmssl.akamaized.net//images/portrait/h...   \n32587  https://tmssl.akamaized.net//images/portrait/h...   \n\n                                                     url  \\\n0      https://www.transfermarkt.co.uk/miroslav-klose...   \n1      https://www.transfermarkt.co.uk/roman-weidenfe...   \n2      https://www.transfermarkt.co.uk/dimitar-berbat...   \n3      https://www.transfermarkt.co.uk/lucio/profil/s...   \n4      https://www.transfermarkt.co.uk/tom-starke/pro...   \n...                                                  ...   \n32583  https://www.transfermarkt.co.uk/yusuf-kurt/pro...   \n32584  https://www.transfermarkt.co.uk/diego-henrique...   \n32585  https://www.transfermarkt.co.uk/orseer-achihi/...   \n32586  https://www.transfermarkt.co.uk/prince-amoako-...   \n32587  https://www.transfermarkt.co.uk/gabriel-jesus-...   \n\n      current_club_domestic_competition_id  \\\n0                                      IT1   \n1                                       L1   \n2                                      GR1   \n3                                      IT1   \n4                                       L1   \n...                                    ...   \n32583                                  TR1   \n32584                                 UKR1   \n32585                                  BE1   \n32586                                  DK1   \n32587                                  BE1   \n\n                                       current_club_name market_value_in_eur  \\\n0                          Società Sportiva Lazio S.p.A.           1000000.0   \n1                                      Borussia Dortmund            750000.0   \n2      Panthessalonikios Athlitikos Omilos Konstantin...           1000000.0   \n3                                 Juventus Football Club            200000.0   \n4                                      FC Bayern München            100000.0   \n...                                                  ...                 ...   \n32583                                         Alanyaspor                 NaN   \n32584                                     FK Livyi Bereh                 NaN   \n32585                        Royal Antwerp Football Club                 NaN   \n32586                          Fodbold Club Nordsjælland                 NaN   \n32587                        Royal Antwerp Football Club                 NaN   \n\n      highest_market_value_in_eur  \n0                      30000000.0  \n1                       8000000.0  \n2                      34500000.0  \n3                      24500000.0  \n4                       3000000.0  \n...                           ...  \n32583                         NaN  \n32584                         NaN  \n32585                         NaN  \n32586                         NaN  \n32587                         NaN  \n\n[32588 rows x 23 columns]",
      "text/html": "<div>\n<style scoped>\n    .dataframe tbody tr th:only-of-type {\n        vertical-align: middle;\n    }\n\n    .dataframe tbody tr th {\n        vertical-align: top;\n    }\n\n    .dataframe thead th {\n        text-align: right;\n    }\n</style>\n<table border=\"1\" class=\"dataframe\">\n  <thead>\n    <tr style=\"text-align: right;\">\n      <th></th>\n      <th>player_id</th>\n      <th>first_name</th>\n      <th>last_name</th>\n      <th>name</th>\n      <th>last_season</th>\n      <th>current_club_id</th>\n      <th>player_code</th>\n      <th>country_of_birth</th>\n      <th>city_of_birth</th>\n      <th>country_of_citizenship</th>\n      <th>...</th>\n      <th>foot</th>\n      <th>height_in_cm</th>\n      <th>contract_expiration_date</th>\n      <th>agent_name</th>\n      <th>image_url</th>\n      <th>url</th>\n      <th>current_club_domestic_competition_id</th>\n      <th>current_club_name</th>\n      <th>market_value_in_eur</th>\n      <th>highest_market_value_in_eur</th>\n    </tr>\n  </thead>\n  <tbody>\n    <tr>\n      <th>0</th>\n      <td>10</td>\n      <td>Miroslav</td>\n      <td>Klose</td>\n      <td>Miroslav Klose</td>\n      <td>2015</td>\n      <td>398</td>\n      <td>miroslav-klose</td>\n      <td>Poland</td>\n      <td>Opole</td>\n      <td>Germany</td>\n      <td>...</td>\n      <td>right</td>\n      <td>184.0</td>\n      <td>NaN</td>\n      <td>ASBW Sport Marketing</td>\n      <td>https://img.a.transfermarkt.technology/portrai...</td>\n      <td>https://www.transfermarkt.co.uk/miroslav-klose...</td>\n      <td>IT1</td>\n      <td>Società Sportiva Lazio S.p.A.</td>\n      <td>1000000.0</td>\n      <td>30000000.0</td>\n    </tr>\n    <tr>\n      <th>1</th>\n      <td>26</td>\n      <td>Roman</td>\n      <td>Weidenfeller</td>\n      <td>Roman Weidenfeller</td>\n      <td>2017</td>\n      <td>16</td>\n      <td>roman-weidenfeller</td>\n      <td>Germany</td>\n      <td>Diez</td>\n      <td>Germany</td>\n      <td>...</td>\n      <td>left</td>\n      <td>190.0</td>\n      <td>NaN</td>\n      <td>Neubauer 13 GmbH</td>\n      <td>https://img.a.transfermarkt.technology/portrai...</td>\n      <td>https://www.transfermarkt.co.uk/roman-weidenfe...</td>\n      <td>L1</td>\n      <td>Borussia Dortmund</td>\n      <td>750000.0</td>\n      <td>8000000.0</td>\n    </tr>\n    <tr>\n      <th>2</th>\n      <td>65</td>\n      <td>Dimitar</td>\n      <td>Berbatov</td>\n      <td>Dimitar Berbatov</td>\n      <td>2015</td>\n      <td>1091</td>\n      <td>dimitar-berbatov</td>\n      <td>Bulgaria</td>\n      <td>Blagoevgrad</td>\n      <td>Bulgaria</td>\n      <td>...</td>\n      <td>NaN</td>\n      <td>NaN</td>\n      <td>NaN</td>\n      <td>CSKA-AS-23 Ltd.</td>\n      <td>https://img.a.transfermarkt.technology/portrai...</td>\n      <td>https://www.transfermarkt.co.uk/dimitar-berbat...</td>\n      <td>GR1</td>\n      <td>Panthessalonikios Athlitikos Omilos Konstantin...</td>\n      <td>1000000.0</td>\n      <td>34500000.0</td>\n    </tr>\n    <tr>\n      <th>3</th>\n      <td>77</td>\n      <td>NaN</td>\n      <td>Lúcio</td>\n      <td>Lúcio</td>\n      <td>2012</td>\n      <td>506</td>\n      <td>lucio</td>\n      <td>Brazil</td>\n      <td>Brasília</td>\n      <td>Brazil</td>\n      <td>...</td>\n      <td>NaN</td>\n      <td>NaN</td>\n      <td>NaN</td>\n      <td>NaN</td>\n      <td>https://img.a.transfermarkt.technology/portrai...</td>\n      <td>https://www.transfermarkt.co.uk/lucio/profil/s...</td>\n      <td>IT1</td>\n      <td>Juventus Football Club</td>\n      <td>200000.0</td>\n      <td>24500000.0</td>\n    </tr>\n    <tr>\n      <th>4</th>\n      <td>80</td>\n      <td>Tom</td>\n      <td>Starke</td>\n      <td>Tom Starke</td>\n      <td>2017</td>\n      <td>27</td>\n      <td>tom-starke</td>\n      <td>East Germany (GDR)</td>\n      <td>Freital</td>\n      <td>Germany</td>\n      <td>...</td>\n      <td>right</td>\n      <td>194.0</td>\n      <td>NaN</td>\n      <td>IFM</td>\n      <td>https://img.a.transfermarkt.technology/portrai...</td>\n      <td>https://www.transfermarkt.co.uk/tom-starke/pro...</td>\n      <td>L1</td>\n      <td>FC Bayern München</td>\n      <td>100000.0</td>\n      <td>3000000.0</td>\n    </tr>\n    <tr>\n      <th>...</th>\n      <td>...</td>\n      <td>...</td>\n      <td>...</td>\n      <td>...</td>\n      <td>...</td>\n      <td>...</td>\n      <td>...</td>\n      <td>...</td>\n      <td>...</td>\n      <td>...</td>\n      <td>...</td>\n      <td>...</td>\n      <td>...</td>\n      <td>...</td>\n      <td>...</td>\n      <td>...</td>\n      <td>...</td>\n      <td>...</td>\n      <td>...</td>\n      <td>...</td>\n      <td>...</td>\n    </tr>\n    <tr>\n      <th>32583</th>\n      <td>1369057</td>\n      <td>Yusuf</td>\n      <td>Kurt</td>\n      <td>Yusuf Kurt</td>\n      <td>2024</td>\n      <td>11282</td>\n      <td>yusuf-kurt</td>\n      <td>Türkiye</td>\n      <td>Batman</td>\n      <td>Türkiye</td>\n      <td>...</td>\n      <td>left</td>\n      <td>186.0</td>\n      <td>2025-06-30 00:00:00</td>\n      <td>NaN</td>\n      <td>https://tmssl.akamaized.net//images/portrait/h...</td>\n      <td>https://www.transfermarkt.co.uk/yusuf-kurt/pro...</td>\n      <td>TR1</td>\n      <td>Alanyaspor</td>\n      <td>NaN</td>\n      <td>NaN</td>\n    </tr>\n    <tr>\n      <th>32584</th>\n      <td>1375876</td>\n      <td>NaN</td>\n      <td>Diego Henrique</td>\n      <td>Diego Henrique</td>\n      <td>2024</td>\n      <td>86209</td>\n      <td>diego-henrique</td>\n      <td>Brazil</td>\n      <td>Andradina, SP</td>\n      <td>Brazil</td>\n      <td>...</td>\n      <td>left</td>\n      <td>170.0</td>\n      <td>2026-06-30 00:00:00</td>\n      <td>NaN</td>\n      <td>https://tmssl.akamaized.net//images/portrait/h...</td>\n      <td>https://www.transfermarkt.co.uk/diego-henrique...</td>\n      <td>UKR1</td>\n      <td>FK Livyi Bereh</td>\n      <td>NaN</td>\n      <td>NaN</td>\n    </tr>\n    <tr>\n      <th>32585</th>\n      <td>1378362</td>\n      <td>Orseer</td>\n      <td>Achihi</td>\n      <td>Orseer Achihi</td>\n      <td>2024</td>\n      <td>1096</td>\n      <td>orseer-achihi</td>\n      <td>NaN</td>\n      <td>NaN</td>\n      <td>Nigeria</td>\n      <td>...</td>\n      <td>NaN</td>\n      <td>NaN</td>\n      <td>2029-06-30 00:00:00</td>\n      <td>Aneke/PMG</td>\n      <td>https://tmssl.akamaized.net//images/portrait/h...</td>\n      <td>https://www.transfermarkt.co.uk/orseer-achihi/...</td>\n      <td>BE1</td>\n      <td>Royal Antwerp Football Club</td>\n      <td>NaN</td>\n      <td>NaN</td>\n    </tr>\n    <tr>\n      <th>32586</th>\n      <td>1380311</td>\n      <td>Prince Amoako</td>\n      <td>Junior</td>\n      <td>Prince Amoako Junior</td>\n      <td>2024</td>\n      <td>2778</td>\n      <td>prince-amoako-junior</td>\n      <td>NaN</td>\n      <td>NaN</td>\n      <td>Ghana</td>\n      <td>...</td>\n      <td>NaN</td>\n      <td>NaN</td>\n      <td>2029-12-31 00:00:00</td>\n      <td>CAA Stellar</td>\n      <td>https://tmssl.akamaized.net//images/portrait/h...</td>\n      <td>https://www.transfermarkt.co.uk/prince-amoako-...</td>\n      <td>DK1</td>\n      <td>Fodbold Club Nordsjælland</td>\n      <td>NaN</td>\n      <td>NaN</td>\n    </tr>\n    <tr>\n      <th>32587</th>\n      <td>1380876</td>\n      <td>Gabriel Jesus</td>\n      <td>David</td>\n      <td>Gabriel Jesus David</td>\n      <td>2024</td>\n      <td>1096</td>\n      <td>gabriel-jesus-david</td>\n      <td>NaN</td>\n      <td>NaN</td>\n      <td>Nigeria</td>\n      <td>...</td>\n      <td>NaN</td>\n      <td>NaN</td>\n      <td>2025-06-30 00:00:00</td>\n      <td>Aneke/PMG</td>\n      <td>https://tmssl.akamaized.net//images/portrait/h...</td>\n      <td>https://www.transfermarkt.co.uk/gabriel-jesus-...</td>\n      <td>BE1</td>\n      <td>Royal Antwerp Football Club</td>\n      <td>NaN</td>\n      <td>NaN</td>\n    </tr>\n  </tbody>\n</table>\n<p>32588 rows × 23 columns</p>\n</div>"
     },
     "execution_count": 5,
     "metadata": {},
     "output_type": "execute_result"
    }
   ]
  },
  {
   "cell_type": "markdown",
   "source": [
    "# Data Cleaning"
   ],
   "metadata": {
    "id": "p0rGgHKe3bvG"
   }
  },
  {
   "cell_type": "markdown",
   "source": [
    "This code checks count of the missing value in each data Frame specifically and return it and also gets the percentage"
   ],
   "metadata": {
    "id": "E0UA-fdj80rQ"
   }
  },
  {
   "cell_type": "code",
   "source": [
    "def print_columns_with_missing_values(df, df_name):\n",
    "    missing_values = df.isnull().sum()\n",
    "    total_rows = df.shape[0]\n",
    "    missing_percentage = (missing_values / total_rows) * 100\n",
    "    missing_data = pd.DataFrame({\n",
    "        'Column': df.columns,\n",
    "        'Missing Values': missing_values,\n",
    "        'Missing Percentage': missing_percentage\n",
    "    })\n",
    "\n",
    "    missing_data = missing_data.sort_values(by='Missing Percentage', ascending=False)\n",
    "    print(f\"Columns with the most missing values in {df_name}:\")\n",
    "    print(missing_data.head())\n",
    "\n",
    "print_columns_with_missing_values(df_appearances, 'df_appearances')\n",
    "print_columns_with_missing_values(df_players, 'df_players')\n"
   ],
   "metadata": {
    "colab": {
     "base_uri": "https://localhost:8080/"
    },
    "id": "iybfG3Ov7geb",
    "outputId": "e08f3a54-608e-4d1c-ee54-fd83cbcffd1a",
    "ExecuteTime": {
     "end_time": "2025-03-09T19:03:13.884504600Z",
     "start_time": "2025-03-09T19:03:13.723687500Z"
    }
   },
   "execution_count": 6,
   "outputs": [
    {
     "name": "stdout",
     "output_type": "stream",
     "text": [
      "Columns with the most missing values in df_appearances:\n",
      "                        Column  Missing Values  Missing Percentage\n",
      "player_name        player_name               6            0.000354\n",
      "appearance_id    appearance_id               0            0.000000\n",
      "game_id                game_id               0            0.000000\n",
      "player_id            player_id               0            0.000000\n",
      "player_club_id  player_club_id               0            0.000000\n",
      "Columns with the most missing values in df_players:\n",
      "                                            Column  Missing Values  \\\n",
      "agent_name                              agent_name           16052   \n",
      "contract_expiration_date  contract_expiration_date           12098   \n",
      "country_of_birth                  country_of_birth            2809   \n",
      "foot                                          foot            2540   \n",
      "city_of_birth                        city_of_birth            2465   \n",
      "\n",
      "                          Missing Percentage  \n",
      "agent_name                         49.257395  \n",
      "contract_expiration_date           37.124095  \n",
      "country_of_birth                    8.619737  \n",
      "foot                                7.794280  \n",
      "city_of_birth                       7.564134  \n"
     ]
    }
   ]
  },
  {
   "cell_type": "markdown",
   "source": [
    "Since we are not going to use this column and it has 50% of missing values and it cannot be predicted we are going to drop it (\"agent_name\")."
   ],
   "metadata": {
    "id": "o4DYcWB48LJy"
   }
  },
  {
   "cell_type": "code",
   "source": [
    "df_players = df_players.drop(columns=['agent_name'])"
   ],
   "metadata": {
    "id": "RzRhSMkg8eDj",
    "ExecuteTime": {
     "end_time": "2025-03-09T19:03:14.617930500Z",
     "start_time": "2025-03-09T19:03:14.610423500Z"
    }
   },
   "execution_count": 7,
   "outputs": []
  },
  {
   "cell_type": "markdown",
   "source": [
    "Drop missing values from each DataFrame"
   ],
   "metadata": {
    "id": "S5-8PsGC3vRo"
   }
  },
  {
   "cell_type": "code",
   "source": [
    "df_appearances = df_appearances.dropna()\n",
    "df_players = df_players.dropna()"
   ],
   "metadata": {
    "id": "diGj3O303bFJ",
    "ExecuteTime": {
     "end_time": "2025-03-09T19:03:15.798577100Z",
     "start_time": "2025-03-09T19:03:15.593480500Z"
    }
   },
   "execution_count": 8,
   "outputs": []
  },
  {
   "cell_type": "code",
   "source": [
    "df_appearances_no_duplicates = df_appearances.drop_duplicates(keep='first')"
   ],
   "metadata": {
    "colab": {
     "base_uri": "https://localhost:8080/"
    },
    "id": "S7uUlKoQ-7gf",
    "outputId": "928aeafb-4fa1-486d-ae03-06ffc41916b2",
    "ExecuteTime": {
     "end_time": "2025-03-09T19:03:17.517210100Z",
     "start_time": "2025-03-09T19:03:16.247703800Z"
    }
   },
   "execution_count": 9,
   "outputs": []
  },
  {
   "cell_type": "code",
   "source": [
    "df_players_no_duplicates = df_players.drop_duplicates(keep='first')"
   ],
   "metadata": {
    "colab": {
     "base_uri": "https://localhost:8080/"
    },
    "id": "e1lpK4FV_Gak",
    "outputId": "d225d384-6422-4c92-c960-515b8c33c4da",
    "ExecuteTime": {
     "end_time": "2025-03-09T19:03:17.543543800Z",
     "start_time": "2025-03-09T19:03:17.518210400Z"
    }
   },
   "execution_count": 10,
   "outputs": []
  },
  {
   "cell_type": "markdown",
   "source": [
    "Drop the columns that we are not going to use in players csv"
   ],
   "metadata": {
    "id": "SyzhVGHeDQK5"
   }
  },
  {
   "cell_type": "code",
   "source": [
    "df_players = df_players.drop(columns=['image_url'])\n",
    "df_players = df_players.drop(columns=['url'])\n",
    "df_players = df_players.drop(columns=['country_of_birth'])\n",
    "df_players = df_players.drop(columns=['city_of_birth'])\n",
    "df_players = df_players.drop(columns=['player_code'])"
   ],
   "metadata": {
    "id": "O69vhcJnEfre",
    "ExecuteTime": {
     "end_time": "2025-03-09T19:03:18.839234100Z",
     "start_time": "2025-03-09T19:03:18.825244300Z"
    }
   },
   "execution_count": 11,
   "outputs": []
  },
  {
   "cell_type": "markdown",
   "source": [
    "Drop the columns that we are not going to use in appearances csv"
   ],
   "metadata": {
    "id": "PTP_47X5FJZN"
   }
  },
  {
   "cell_type": "code",
   "source": [
    "df_appearances = df_appearances.drop(columns=['appearance_id'])\n",
    "df_appearances = df_appearances.drop(columns=['game_id'])\n",
    "df_appearances = df_appearances.drop(columns=['yellow_cards'])\n",
    "df_appearances = df_appearances.drop(columns=['red_cards'])"
   ],
   "metadata": {
    "id": "iMIkxNvyDkfe",
    "ExecuteTime": {
     "end_time": "2025-03-09T19:03:20.130442600Z",
     "start_time": "2025-03-09T19:03:19.954650800Z"
    }
   },
   "execution_count": 12,
   "outputs": []
  },
  {
   "cell_type": "markdown",
   "source": [
    "# Data Integration"
   ],
   "metadata": {
    "id": "9v2EZqhc_Zt3"
   }
  },
  {
   "cell_type": "code",
   "source": [
    "# Merge df_appearances with df_players based on player_id\n",
    "df_integrated = df_appearances.merge(df_players, on='player_id', how='left')\n",
    "\n",
    "print(\"Shape of df_integrated:\", df_integrated.shape)\n",
    "df_integrated.head()\n"
   ],
   "metadata": {
    "id": "AqU4hGy9_fko",
    "colab": {
     "base_uri": "https://localhost:8080/",
     "height": 376
    },
    "outputId": "80a76590-87c6-42b9-e99a-cabd4a3d3d5f",
    "ExecuteTime": {
     "end_time": "2025-03-09T19:03:21.815202700Z",
     "start_time": "2025-03-09T19:03:21.409631Z"
    }
   },
   "execution_count": 13,
   "outputs": [
    {
     "name": "stdout",
     "output_type": "stream",
     "text": [
      "Shape of df_integrated: (1692984, 25)\n"
     ]
    },
    {
     "data": {
      "text/plain": "   player_id  player_club_id  player_current_club_id        date  \\\n0      38004             853                     235  2012-07-03   \n1      79232            8841                    2698  2012-07-05   \n2      42792            6251                     465  2012-07-05   \n3      73333            1274                    6646  2012-07-05   \n4     122011             195                    3008  2012-07-05   \n\n        player_name competition_id  goals  assists  minutes_played first_name  \\\n0  Aurélien Joachim            CLQ      2        0              90        NaN   \n1    Ruslan Abyshov            ELQ      0        0              90        NaN   \n2       Sander Puri            ELQ      0        0              45     Sander   \n3   Vegar Hedenstad            ELQ      0        0              90      Vegar   \n4  Markus Henriksen            ELQ      0        1              90     Markus   \n\n   ...        date_of_birth      sub_position  position   foot height_in_cm  \\\n0  ...                  NaN               NaN       NaN    NaN          NaN   \n1  ...                  NaN               NaN       NaN    NaN          NaN   \n2  ...  1988-05-07 00:00:00  Central Midfield  Midfield  right        177.0   \n3  ...  1991-06-26 00:00:00        Right-Back  Defender  right        178.0   \n4  ...  1992-07-25 00:00:00       Centre-Back  Defender  right        187.0   \n\n  contract_expiration_date current_club_domestic_competition_id  \\\n0                      NaN                                  NaN   \n1                      NaN                                  NaN   \n2      2023-12-31 00:00:00                                  SC1   \n3      2024-12-31 00:00:00                                  TR1   \n4      2024-12-31 00:00:00                                  GB1   \n\n            current_club_name market_value_in_eur  highest_market_value_in_eur  \n0                         NaN                 NaN                          NaN  \n1                         NaN                 NaN                          NaN  \n2  Saint Mirren Football Club            100000.0                     600000.0  \n3            Fatih Karagümrük            350000.0                    1500000.0  \n4                   Hull City            800000.0                    5000000.0  \n\n[5 rows x 25 columns]",
      "text/html": "<div>\n<style scoped>\n    .dataframe tbody tr th:only-of-type {\n        vertical-align: middle;\n    }\n\n    .dataframe tbody tr th {\n        vertical-align: top;\n    }\n\n    .dataframe thead th {\n        text-align: right;\n    }\n</style>\n<table border=\"1\" class=\"dataframe\">\n  <thead>\n    <tr style=\"text-align: right;\">\n      <th></th>\n      <th>player_id</th>\n      <th>player_club_id</th>\n      <th>player_current_club_id</th>\n      <th>date</th>\n      <th>player_name</th>\n      <th>competition_id</th>\n      <th>goals</th>\n      <th>assists</th>\n      <th>minutes_played</th>\n      <th>first_name</th>\n      <th>...</th>\n      <th>date_of_birth</th>\n      <th>sub_position</th>\n      <th>position</th>\n      <th>foot</th>\n      <th>height_in_cm</th>\n      <th>contract_expiration_date</th>\n      <th>current_club_domestic_competition_id</th>\n      <th>current_club_name</th>\n      <th>market_value_in_eur</th>\n      <th>highest_market_value_in_eur</th>\n    </tr>\n  </thead>\n  <tbody>\n    <tr>\n      <th>0</th>\n      <td>38004</td>\n      <td>853</td>\n      <td>235</td>\n      <td>2012-07-03</td>\n      <td>Aurélien Joachim</td>\n      <td>CLQ</td>\n      <td>2</td>\n      <td>0</td>\n      <td>90</td>\n      <td>NaN</td>\n      <td>...</td>\n      <td>NaN</td>\n      <td>NaN</td>\n      <td>NaN</td>\n      <td>NaN</td>\n      <td>NaN</td>\n      <td>NaN</td>\n      <td>NaN</td>\n      <td>NaN</td>\n      <td>NaN</td>\n      <td>NaN</td>\n    </tr>\n    <tr>\n      <th>1</th>\n      <td>79232</td>\n      <td>8841</td>\n      <td>2698</td>\n      <td>2012-07-05</td>\n      <td>Ruslan Abyshov</td>\n      <td>ELQ</td>\n      <td>0</td>\n      <td>0</td>\n      <td>90</td>\n      <td>NaN</td>\n      <td>...</td>\n      <td>NaN</td>\n      <td>NaN</td>\n      <td>NaN</td>\n      <td>NaN</td>\n      <td>NaN</td>\n      <td>NaN</td>\n      <td>NaN</td>\n      <td>NaN</td>\n      <td>NaN</td>\n      <td>NaN</td>\n    </tr>\n    <tr>\n      <th>2</th>\n      <td>42792</td>\n      <td>6251</td>\n      <td>465</td>\n      <td>2012-07-05</td>\n      <td>Sander Puri</td>\n      <td>ELQ</td>\n      <td>0</td>\n      <td>0</td>\n      <td>45</td>\n      <td>Sander</td>\n      <td>...</td>\n      <td>1988-05-07 00:00:00</td>\n      <td>Central Midfield</td>\n      <td>Midfield</td>\n      <td>right</td>\n      <td>177.0</td>\n      <td>2023-12-31 00:00:00</td>\n      <td>SC1</td>\n      <td>Saint Mirren Football Club</td>\n      <td>100000.0</td>\n      <td>600000.0</td>\n    </tr>\n    <tr>\n      <th>3</th>\n      <td>73333</td>\n      <td>1274</td>\n      <td>6646</td>\n      <td>2012-07-05</td>\n      <td>Vegar Hedenstad</td>\n      <td>ELQ</td>\n      <td>0</td>\n      <td>0</td>\n      <td>90</td>\n      <td>Vegar</td>\n      <td>...</td>\n      <td>1991-06-26 00:00:00</td>\n      <td>Right-Back</td>\n      <td>Defender</td>\n      <td>right</td>\n      <td>178.0</td>\n      <td>2024-12-31 00:00:00</td>\n      <td>TR1</td>\n      <td>Fatih Karagümrük</td>\n      <td>350000.0</td>\n      <td>1500000.0</td>\n    </tr>\n    <tr>\n      <th>4</th>\n      <td>122011</td>\n      <td>195</td>\n      <td>3008</td>\n      <td>2012-07-05</td>\n      <td>Markus Henriksen</td>\n      <td>ELQ</td>\n      <td>0</td>\n      <td>1</td>\n      <td>90</td>\n      <td>Markus</td>\n      <td>...</td>\n      <td>1992-07-25 00:00:00</td>\n      <td>Centre-Back</td>\n      <td>Defender</td>\n      <td>right</td>\n      <td>187.0</td>\n      <td>2024-12-31 00:00:00</td>\n      <td>GB1</td>\n      <td>Hull City</td>\n      <td>800000.0</td>\n      <td>5000000.0</td>\n    </tr>\n  </tbody>\n</table>\n<p>5 rows × 25 columns</p>\n</div>"
     },
     "execution_count": 13,
     "metadata": {},
     "output_type": "execute_result"
    }
   ]
  },
  {
   "cell_type": "markdown",
   "source": [
    "Removing the null rows from the intgrated csv"
   ],
   "metadata": {
    "id": "H99T9HJEKfrk"
   }
  },
  {
   "cell_type": "code",
   "source": [
    "# Remove rows with null values\n",
    "df_integrated_no_null = df_integrated.dropna()\n",
    "\n",
    "# Print the shape before and after removing null values\n",
    "print(df_integrated.shape)\n",
    "print(df_integrated_no_null.shape)\n"
   ],
   "metadata": {
    "colab": {
     "base_uri": "https://localhost:8080/"
    },
    "id": "A7zLNq21I8s0",
    "outputId": "42b9f8ec-dca6-46f7-b677-000354714145",
    "ExecuteTime": {
     "end_time": "2025-03-09T19:03:26.329016800Z",
     "start_time": "2025-03-09T19:03:25.837404700Z"
    }
   },
   "execution_count": 14,
   "outputs": [
    {
     "name": "stdout",
     "output_type": "stream",
     "text": [
      "(1692984, 25)\n",
      "(1054290, 25)\n"
     ]
    }
   ]
  },
  {
   "cell_type": "code",
   "execution_count": 15,
   "outputs": [],
   "source": [
    "df_integrated.to_csv('../data/football/processed/football_combined.csv')"
   ],
   "metadata": {
    "collapsed": false,
    "ExecuteTime": {
     "end_time": "2025-03-09T19:05:20.964445800Z",
     "start_time": "2025-03-09T19:05:12.525264400Z"
    }
   }
  },
  {
   "cell_type": "markdown",
   "source": [
    "## Merging game_lineups and player_valuations"
   ],
   "metadata": {
    "id": "9RSvOA2gfEpA"
   }
  },
  {
   "cell_type": "code",
   "source": [
    "df_game_lineups = pd.read_csv(\"../data/football/game_lineups.csv\", low_memory=False)\n",
    "df_player_valuations = pd.read_csv(\"../data/football/player_valuations.csv\")"
   ],
   "metadata": {
    "id": "ORgSIRWLfovr",
    "ExecuteTime": {
     "end_time": "2025-03-09T16:31:23.339622100Z",
     "start_time": "2025-03-09T16:31:20.267622800Z"
    }
   },
   "execution_count": 22,
   "outputs": []
  },
  {
   "cell_type": "code",
   "source": [
    "df_game_lineups"
   ],
   "metadata": {
    "colab": {
     "base_uri": "https://localhost:8080/",
     "height": 423
    },
    "id": "FJldEx4KgTqB",
    "outputId": "81889d8a-5ae2-43bc-82b6-881449a93b36",
    "ExecuteTime": {
     "end_time": "2025-03-09T16:31:23.347589800Z",
     "start_time": "2025-03-09T16:31:23.337621Z"
    }
   },
   "execution_count": 23,
   "outputs": [
    {
     "data": {
      "text/plain": "                          game_lineups_id        date  game_id  player_id  \\\n0        b2dbe01c3656b06c8e23e9de714e26bb  2013-07-27  2317258       1443   \n1        b50a3ec6d52fd1490aab42042ac4f738  2013-07-27  2317258       5017   \n2        7d890e6d0ff8af84b065839966a0ec81  2013-07-27  2317258       9602   \n3        8c355268678b9bbc7084221b1f0fde36  2013-07-27  2317258      12282   \n4        76193074d549e5fdce4cdcbba0d66247  2013-07-27  2317258      25427   \n...                                   ...         ...      ...        ...   \n2191906  563b02d753e317425a8d5061fd3f405e  2024-03-16  4300789     816124   \n2191907  6984340b1985d0bccb155b38ea6188c9  2024-03-16  4300789     863741   \n2191908  ef247c29468b34d12891b711fafb3770  2024-03-16  4300789     965924   \n2191909  8f5659d28d5211aa1d443835a8d45591  2024-03-16  4300789    1043634   \n2191910  ab38057d0de49d178d9bd46eb2735a20  2024-03-16  4300789    1080392   \n\n         club_id        player_name             type            position  \\\n0            610  Christian Poulsen      substitutes  Defensive Midfield   \n1            610   Niklas Moisander  starting_lineup         Centre-Back   \n2           1090    Maarten Martens      substitutes         Left Winger   \n3            610        Daley Blind  starting_lineup           Left-Back   \n4           1090        Roy Beerens  starting_lineup        Right Winger   \n...          ...                ...              ...                 ...   \n2191906      543        Noha Lemina      substitutes  Attacking Midfield   \n2191907      543      Nathan Fraser  starting_lineup      Centre-Forward   \n2191908      990        Kai Andrews      substitutes      Centre-Forward   \n2191909      543       Leon Chiwome      substitutes      Centre-Forward   \n2191910      543    Fletcher Holman      substitutes      Centre-Forward   \n\n                                           number  team_captain  \n0                                               5             0  \n1                                               4             0  \n2                                              11             0  \n3                                              17             0  \n4                                              23             0  \n...                                           ...           ...  \n2191906  \\n                  14\\n                             0  \n2191907  \\n                  63\\n                             0  \n2191908  \\n                  54\\n                             0  \n2191909  \\n                  84\\n                             0  \n2191910  \\n                  37\\n                             0  \n\n[2191911 rows x 10 columns]",
      "text/html": "<div>\n<style scoped>\n    .dataframe tbody tr th:only-of-type {\n        vertical-align: middle;\n    }\n\n    .dataframe tbody tr th {\n        vertical-align: top;\n    }\n\n    .dataframe thead th {\n        text-align: right;\n    }\n</style>\n<table border=\"1\" class=\"dataframe\">\n  <thead>\n    <tr style=\"text-align: right;\">\n      <th></th>\n      <th>game_lineups_id</th>\n      <th>date</th>\n      <th>game_id</th>\n      <th>player_id</th>\n      <th>club_id</th>\n      <th>player_name</th>\n      <th>type</th>\n      <th>position</th>\n      <th>number</th>\n      <th>team_captain</th>\n    </tr>\n  </thead>\n  <tbody>\n    <tr>\n      <th>0</th>\n      <td>b2dbe01c3656b06c8e23e9de714e26bb</td>\n      <td>2013-07-27</td>\n      <td>2317258</td>\n      <td>1443</td>\n      <td>610</td>\n      <td>Christian Poulsen</td>\n      <td>substitutes</td>\n      <td>Defensive Midfield</td>\n      <td>5</td>\n      <td>0</td>\n    </tr>\n    <tr>\n      <th>1</th>\n      <td>b50a3ec6d52fd1490aab42042ac4f738</td>\n      <td>2013-07-27</td>\n      <td>2317258</td>\n      <td>5017</td>\n      <td>610</td>\n      <td>Niklas Moisander</td>\n      <td>starting_lineup</td>\n      <td>Centre-Back</td>\n      <td>4</td>\n      <td>0</td>\n    </tr>\n    <tr>\n      <th>2</th>\n      <td>7d890e6d0ff8af84b065839966a0ec81</td>\n      <td>2013-07-27</td>\n      <td>2317258</td>\n      <td>9602</td>\n      <td>1090</td>\n      <td>Maarten Martens</td>\n      <td>substitutes</td>\n      <td>Left Winger</td>\n      <td>11</td>\n      <td>0</td>\n    </tr>\n    <tr>\n      <th>3</th>\n      <td>8c355268678b9bbc7084221b1f0fde36</td>\n      <td>2013-07-27</td>\n      <td>2317258</td>\n      <td>12282</td>\n      <td>610</td>\n      <td>Daley Blind</td>\n      <td>starting_lineup</td>\n      <td>Left-Back</td>\n      <td>17</td>\n      <td>0</td>\n    </tr>\n    <tr>\n      <th>4</th>\n      <td>76193074d549e5fdce4cdcbba0d66247</td>\n      <td>2013-07-27</td>\n      <td>2317258</td>\n      <td>25427</td>\n      <td>1090</td>\n      <td>Roy Beerens</td>\n      <td>starting_lineup</td>\n      <td>Right Winger</td>\n      <td>23</td>\n      <td>0</td>\n    </tr>\n    <tr>\n      <th>...</th>\n      <td>...</td>\n      <td>...</td>\n      <td>...</td>\n      <td>...</td>\n      <td>...</td>\n      <td>...</td>\n      <td>...</td>\n      <td>...</td>\n      <td>...</td>\n      <td>...</td>\n    </tr>\n    <tr>\n      <th>2191906</th>\n      <td>563b02d753e317425a8d5061fd3f405e</td>\n      <td>2024-03-16</td>\n      <td>4300789</td>\n      <td>816124</td>\n      <td>543</td>\n      <td>Noha Lemina</td>\n      <td>substitutes</td>\n      <td>Attacking Midfield</td>\n      <td>\\n                  14\\n</td>\n      <td>0</td>\n    </tr>\n    <tr>\n      <th>2191907</th>\n      <td>6984340b1985d0bccb155b38ea6188c9</td>\n      <td>2024-03-16</td>\n      <td>4300789</td>\n      <td>863741</td>\n      <td>543</td>\n      <td>Nathan Fraser</td>\n      <td>starting_lineup</td>\n      <td>Centre-Forward</td>\n      <td>\\n                  63\\n</td>\n      <td>0</td>\n    </tr>\n    <tr>\n      <th>2191908</th>\n      <td>ef247c29468b34d12891b711fafb3770</td>\n      <td>2024-03-16</td>\n      <td>4300789</td>\n      <td>965924</td>\n      <td>990</td>\n      <td>Kai Andrews</td>\n      <td>substitutes</td>\n      <td>Centre-Forward</td>\n      <td>\\n                  54\\n</td>\n      <td>0</td>\n    </tr>\n    <tr>\n      <th>2191909</th>\n      <td>8f5659d28d5211aa1d443835a8d45591</td>\n      <td>2024-03-16</td>\n      <td>4300789</td>\n      <td>1043634</td>\n      <td>543</td>\n      <td>Leon Chiwome</td>\n      <td>substitutes</td>\n      <td>Centre-Forward</td>\n      <td>\\n                  84\\n</td>\n      <td>0</td>\n    </tr>\n    <tr>\n      <th>2191910</th>\n      <td>ab38057d0de49d178d9bd46eb2735a20</td>\n      <td>2024-03-16</td>\n      <td>4300789</td>\n      <td>1080392</td>\n      <td>543</td>\n      <td>Fletcher Holman</td>\n      <td>substitutes</td>\n      <td>Centre-Forward</td>\n      <td>\\n                  37\\n</td>\n      <td>0</td>\n    </tr>\n  </tbody>\n</table>\n<p>2191911 rows × 10 columns</p>\n</div>"
     },
     "execution_count": 23,
     "metadata": {},
     "output_type": "execute_result"
    }
   ]
  },
  {
   "cell_type": "code",
   "source": [
    "df_player_valuations"
   ],
   "metadata": {
    "colab": {
     "base_uri": "https://localhost:8080/",
     "height": 423
    },
    "id": "mPX6tyiIgdF6",
    "outputId": "9aba5d76-765f-4953-e644-ac99ea734ae7",
    "ExecuteTime": {
     "end_time": "2025-03-09T16:31:24.063564500Z",
     "start_time": "2025-03-09T16:31:24.056054600Z"
    }
   },
   "execution_count": 24,
   "outputs": [
    {
     "data": {
      "text/plain": "        player_id        date  market_value_in_eur  current_club_id  \\\n0          405973  2000-01-20               150000             3057   \n1          342216  2001-07-20               100000             1241   \n2            3132  2003-12-09               400000              126   \n3            6893  2003-12-15               900000              984   \n4              10  2004-10-04              7000000              398   \n...           ...         ...                  ...              ...   \n494636     936874  2025-02-06              1000000              631   \n494637     996453  2025-02-07              2000000              430   \n494638    1130803  2025-02-25               350000              306   \n494639     926301  2025-03-01               300000               18   \n494640    1108203  2025-03-06              1000000            12321   \n\n       player_club_domestic_competition_id  \n0                                      BE1  \n1                                      SC1  \n2                                      TR1  \n3                                      GB1  \n4                                      IT1  \n...                                    ...  \n494636                                 GB1  \n494637                                 IT1  \n494638                                 NL1  \n494639                                  L1  \n494640                                 ES1  \n\n[494641 rows x 5 columns]",
      "text/html": "<div>\n<style scoped>\n    .dataframe tbody tr th:only-of-type {\n        vertical-align: middle;\n    }\n\n    .dataframe tbody tr th {\n        vertical-align: top;\n    }\n\n    .dataframe thead th {\n        text-align: right;\n    }\n</style>\n<table border=\"1\" class=\"dataframe\">\n  <thead>\n    <tr style=\"text-align: right;\">\n      <th></th>\n      <th>player_id</th>\n      <th>date</th>\n      <th>market_value_in_eur</th>\n      <th>current_club_id</th>\n      <th>player_club_domestic_competition_id</th>\n    </tr>\n  </thead>\n  <tbody>\n    <tr>\n      <th>0</th>\n      <td>405973</td>\n      <td>2000-01-20</td>\n      <td>150000</td>\n      <td>3057</td>\n      <td>BE1</td>\n    </tr>\n    <tr>\n      <th>1</th>\n      <td>342216</td>\n      <td>2001-07-20</td>\n      <td>100000</td>\n      <td>1241</td>\n      <td>SC1</td>\n    </tr>\n    <tr>\n      <th>2</th>\n      <td>3132</td>\n      <td>2003-12-09</td>\n      <td>400000</td>\n      <td>126</td>\n      <td>TR1</td>\n    </tr>\n    <tr>\n      <th>3</th>\n      <td>6893</td>\n      <td>2003-12-15</td>\n      <td>900000</td>\n      <td>984</td>\n      <td>GB1</td>\n    </tr>\n    <tr>\n      <th>4</th>\n      <td>10</td>\n      <td>2004-10-04</td>\n      <td>7000000</td>\n      <td>398</td>\n      <td>IT1</td>\n    </tr>\n    <tr>\n      <th>...</th>\n      <td>...</td>\n      <td>...</td>\n      <td>...</td>\n      <td>...</td>\n      <td>...</td>\n    </tr>\n    <tr>\n      <th>494636</th>\n      <td>936874</td>\n      <td>2025-02-06</td>\n      <td>1000000</td>\n      <td>631</td>\n      <td>GB1</td>\n    </tr>\n    <tr>\n      <th>494637</th>\n      <td>996453</td>\n      <td>2025-02-07</td>\n      <td>2000000</td>\n      <td>430</td>\n      <td>IT1</td>\n    </tr>\n    <tr>\n      <th>494638</th>\n      <td>1130803</td>\n      <td>2025-02-25</td>\n      <td>350000</td>\n      <td>306</td>\n      <td>NL1</td>\n    </tr>\n    <tr>\n      <th>494639</th>\n      <td>926301</td>\n      <td>2025-03-01</td>\n      <td>300000</td>\n      <td>18</td>\n      <td>L1</td>\n    </tr>\n    <tr>\n      <th>494640</th>\n      <td>1108203</td>\n      <td>2025-03-06</td>\n      <td>1000000</td>\n      <td>12321</td>\n      <td>ES1</td>\n    </tr>\n  </tbody>\n</table>\n<p>494641 rows × 5 columns</p>\n</div>"
     },
     "execution_count": 24,
     "metadata": {},
     "output_type": "execute_result"
    }
   ]
  },
  {
   "cell_type": "markdown",
   "source": [
    "## Date integration"
   ],
   "metadata": {
    "id": "4RhH154jkT9d"
   }
  },
  {
   "cell_type": "code",
   "source": [
    "# Merge DataFrames on 'player_id'\n",
    "merged_df = pd.merge(df_game_lineups, df_player_valuations, on='player_id', how='inner')\n",
    "\n",
    "merged_df.head()"
   ],
   "metadata": {
    "colab": {
     "base_uri": "https://localhost:8080/",
     "height": 399
    },
    "id": "nFQXfhGJkZUu",
    "outputId": "a7398974-3b07-476d-9775-901fa7407f1d",
    "ExecuteTime": {
     "end_time": "2025-03-09T16:31:34.849978900Z",
     "start_time": "2025-03-09T16:31:27.788318800Z"
    }
   },
   "execution_count": 25,
   "outputs": [
    {
     "data": {
      "text/plain": "                    game_lineups_id      date_x  game_id  player_id  club_id  \\\n0  b2dbe01c3656b06c8e23e9de714e26bb  2013-07-27  2317258       1443      610   \n1  b2dbe01c3656b06c8e23e9de714e26bb  2013-07-27  2317258       1443      610   \n2  b2dbe01c3656b06c8e23e9de714e26bb  2013-07-27  2317258       1443      610   \n3  b2dbe01c3656b06c8e23e9de714e26bb  2013-07-27  2317258       1443      610   \n4  b2dbe01c3656b06c8e23e9de714e26bb  2013-07-27  2317258       1443      610   \n\n         player_name         type            position number  team_captain  \\\n0  Christian Poulsen  substitutes  Defensive Midfield      5             0   \n1  Christian Poulsen  substitutes  Defensive Midfield      5             0   \n2  Christian Poulsen  substitutes  Defensive Midfield      5             0   \n3  Christian Poulsen  substitutes  Defensive Midfield      5             0   \n4  Christian Poulsen  substitutes  Defensive Midfield      5             0   \n\n       date_y  market_value_in_eur  current_club_id  \\\n0  2004-10-04              5000000              190   \n1  2005-08-12              3000000              190   \n2  2005-09-04              3600000              190   \n3  2005-10-29              4500000              190   \n4  2006-01-09              6000000              190   \n\n  player_club_domestic_competition_id  \n0                                 DK1  \n1                                 DK1  \n2                                 DK1  \n3                                 DK1  \n4                                 DK1  ",
      "text/html": "<div>\n<style scoped>\n    .dataframe tbody tr th:only-of-type {\n        vertical-align: middle;\n    }\n\n    .dataframe tbody tr th {\n        vertical-align: top;\n    }\n\n    .dataframe thead th {\n        text-align: right;\n    }\n</style>\n<table border=\"1\" class=\"dataframe\">\n  <thead>\n    <tr style=\"text-align: right;\">\n      <th></th>\n      <th>game_lineups_id</th>\n      <th>date_x</th>\n      <th>game_id</th>\n      <th>player_id</th>\n      <th>club_id</th>\n      <th>player_name</th>\n      <th>type</th>\n      <th>position</th>\n      <th>number</th>\n      <th>team_captain</th>\n      <th>date_y</th>\n      <th>market_value_in_eur</th>\n      <th>current_club_id</th>\n      <th>player_club_domestic_competition_id</th>\n    </tr>\n  </thead>\n  <tbody>\n    <tr>\n      <th>0</th>\n      <td>b2dbe01c3656b06c8e23e9de714e26bb</td>\n      <td>2013-07-27</td>\n      <td>2317258</td>\n      <td>1443</td>\n      <td>610</td>\n      <td>Christian Poulsen</td>\n      <td>substitutes</td>\n      <td>Defensive Midfield</td>\n      <td>5</td>\n      <td>0</td>\n      <td>2004-10-04</td>\n      <td>5000000</td>\n      <td>190</td>\n      <td>DK1</td>\n    </tr>\n    <tr>\n      <th>1</th>\n      <td>b2dbe01c3656b06c8e23e9de714e26bb</td>\n      <td>2013-07-27</td>\n      <td>2317258</td>\n      <td>1443</td>\n      <td>610</td>\n      <td>Christian Poulsen</td>\n      <td>substitutes</td>\n      <td>Defensive Midfield</td>\n      <td>5</td>\n      <td>0</td>\n      <td>2005-08-12</td>\n      <td>3000000</td>\n      <td>190</td>\n      <td>DK1</td>\n    </tr>\n    <tr>\n      <th>2</th>\n      <td>b2dbe01c3656b06c8e23e9de714e26bb</td>\n      <td>2013-07-27</td>\n      <td>2317258</td>\n      <td>1443</td>\n      <td>610</td>\n      <td>Christian Poulsen</td>\n      <td>substitutes</td>\n      <td>Defensive Midfield</td>\n      <td>5</td>\n      <td>0</td>\n      <td>2005-09-04</td>\n      <td>3600000</td>\n      <td>190</td>\n      <td>DK1</td>\n    </tr>\n    <tr>\n      <th>3</th>\n      <td>b2dbe01c3656b06c8e23e9de714e26bb</td>\n      <td>2013-07-27</td>\n      <td>2317258</td>\n      <td>1443</td>\n      <td>610</td>\n      <td>Christian Poulsen</td>\n      <td>substitutes</td>\n      <td>Defensive Midfield</td>\n      <td>5</td>\n      <td>0</td>\n      <td>2005-10-29</td>\n      <td>4500000</td>\n      <td>190</td>\n      <td>DK1</td>\n    </tr>\n    <tr>\n      <th>4</th>\n      <td>b2dbe01c3656b06c8e23e9de714e26bb</td>\n      <td>2013-07-27</td>\n      <td>2317258</td>\n      <td>1443</td>\n      <td>610</td>\n      <td>Christian Poulsen</td>\n      <td>substitutes</td>\n      <td>Defensive Midfield</td>\n      <td>5</td>\n      <td>0</td>\n      <td>2006-01-09</td>\n      <td>6000000</td>\n      <td>190</td>\n      <td>DK1</td>\n    </tr>\n  </tbody>\n</table>\n</div>"
     },
     "execution_count": 25,
     "metadata": {},
     "output_type": "execute_result"
    }
   ]
  },
  {
   "cell_type": "markdown",
   "source": [
    "### Drop unused columns"
   ],
   "metadata": {
    "id": "gVNYCwB8ktf0"
   }
  },
  {
   "cell_type": "code",
   "source": [
    "# List of columns to drop\n",
    "columns_to_drop = ['game_lineups_id', 'game_id', 'date', 'datetime', 'dateweek']\n",
    "\n",
    "# Drops the specified columns\n",
    "merged_df_cleaned = merged_df.drop(columns=columns_to_drop)\n",
    "merged_df_cleaned.head()"
   ],
   "metadata": {
    "colab": {
     "base_uri": "https://localhost:8080/",
     "height": 206
    },
    "id": "5DMcLPYBk0lW",
    "outputId": "32bdee5d-dda7-4d31-b3bc-162c4b9be9c8",
    "ExecuteTime": {
     "end_time": "2025-03-09T16:31:36.395016100Z",
     "start_time": "2025-03-09T16:31:34.849978900Z"
    }
   },
   "execution_count": 26,
   "outputs": [
    {
     "ename": "KeyError",
     "evalue": "\"['date', 'datetime', 'dateweek'] not found in axis\"",
     "output_type": "error",
     "traceback": [
      "\u001B[31m---------------------------------------------------------------------------\u001B[39m",
      "\u001B[31mKeyError\u001B[39m                                  Traceback (most recent call last)",
      "\u001B[36mCell\u001B[39m\u001B[36m \u001B[39m\u001B[32mIn[26]\u001B[39m\u001B[32m, line 5\u001B[39m\n\u001B[32m      2\u001B[39m columns_to_drop = [\u001B[33m'\u001B[39m\u001B[33mgame_lineups_id\u001B[39m\u001B[33m'\u001B[39m, \u001B[33m'\u001B[39m\u001B[33mgame_id\u001B[39m\u001B[33m'\u001B[39m, \u001B[33m'\u001B[39m\u001B[33mdate\u001B[39m\u001B[33m'\u001B[39m, \u001B[33m'\u001B[39m\u001B[33mdatetime\u001B[39m\u001B[33m'\u001B[39m, \u001B[33m'\u001B[39m\u001B[33mdateweek\u001B[39m\u001B[33m'\u001B[39m]\n\u001B[32m      4\u001B[39m \u001B[38;5;66;03m# Drops the specified columns\u001B[39;00m\n\u001B[32m----> \u001B[39m\u001B[32m5\u001B[39m merged_df_cleaned = merged_df.drop(columns=columns_to_drop)\n\u001B[32m      6\u001B[39m merged_df_cleaned.head()\n",
      "\u001B[36mFile \u001B[39m\u001B[32m~\\dev\\tabular-ds-project\\venv\\Lib\\site-packages\\pandas\\core\\frame.py:5344\u001B[39m, in \u001B[36mDataFrame.drop\u001B[39m\u001B[34m(self, labels, axis, index, columns, level, inplace, errors)\u001B[39m\n\u001B[32m   5196\u001B[39m \u001B[38;5;28;01mdef\u001B[39;00m\u001B[38;5;250m \u001B[39m\u001B[34mdrop\u001B[39m(\n\u001B[32m   5197\u001B[39m     \u001B[38;5;28mself\u001B[39m,\n\u001B[32m   5198\u001B[39m     labels: IndexLabel | \u001B[38;5;28;01mNone\u001B[39;00m = \u001B[38;5;28;01mNone\u001B[39;00m,\n\u001B[32m   (...)\u001B[39m\u001B[32m   5205\u001B[39m     errors: IgnoreRaise = \u001B[33m\"\u001B[39m\u001B[33mraise\u001B[39m\u001B[33m\"\u001B[39m,\n\u001B[32m   5206\u001B[39m ) -> DataFrame | \u001B[38;5;28;01mNone\u001B[39;00m:\n\u001B[32m   5207\u001B[39m \u001B[38;5;250m    \u001B[39m\u001B[33;03m\"\"\"\u001B[39;00m\n\u001B[32m   5208\u001B[39m \u001B[33;03m    Drop specified labels from rows or columns.\u001B[39;00m\n\u001B[32m   5209\u001B[39m \n\u001B[32m   (...)\u001B[39m\u001B[32m   5342\u001B[39m \u001B[33;03m            weight  1.0     0.8\u001B[39;00m\n\u001B[32m   5343\u001B[39m \u001B[33;03m    \"\"\"\u001B[39;00m\n\u001B[32m-> \u001B[39m\u001B[32m5344\u001B[39m     \u001B[38;5;28;01mreturn\u001B[39;00m \u001B[38;5;28msuper\u001B[39m().drop(\n\u001B[32m   5345\u001B[39m         labels=labels,\n\u001B[32m   5346\u001B[39m         axis=axis,\n\u001B[32m   5347\u001B[39m         index=index,\n\u001B[32m   5348\u001B[39m         columns=columns,\n\u001B[32m   5349\u001B[39m         level=level,\n\u001B[32m   5350\u001B[39m         inplace=inplace,\n\u001B[32m   5351\u001B[39m         errors=errors,\n\u001B[32m   5352\u001B[39m     )\n",
      "\u001B[36mFile \u001B[39m\u001B[32m~\\dev\\tabular-ds-project\\venv\\Lib\\site-packages\\pandas\\core\\generic.py:4711\u001B[39m, in \u001B[36mNDFrame.drop\u001B[39m\u001B[34m(self, labels, axis, index, columns, level, inplace, errors)\u001B[39m\n\u001B[32m   4709\u001B[39m \u001B[38;5;28;01mfor\u001B[39;00m axis, labels \u001B[38;5;129;01min\u001B[39;00m axes.items():\n\u001B[32m   4710\u001B[39m     \u001B[38;5;28;01mif\u001B[39;00m labels \u001B[38;5;129;01mis\u001B[39;00m \u001B[38;5;129;01mnot\u001B[39;00m \u001B[38;5;28;01mNone\u001B[39;00m:\n\u001B[32m-> \u001B[39m\u001B[32m4711\u001B[39m         obj = obj._drop_axis(labels, axis, level=level, errors=errors)\n\u001B[32m   4713\u001B[39m \u001B[38;5;28;01mif\u001B[39;00m inplace:\n\u001B[32m   4714\u001B[39m     \u001B[38;5;28mself\u001B[39m._update_inplace(obj)\n",
      "\u001B[36mFile \u001B[39m\u001B[32m~\\dev\\tabular-ds-project\\venv\\Lib\\site-packages\\pandas\\core\\generic.py:4753\u001B[39m, in \u001B[36mNDFrame._drop_axis\u001B[39m\u001B[34m(self, labels, axis, level, errors, only_slice)\u001B[39m\n\u001B[32m   4751\u001B[39m         new_axis = axis.drop(labels, level=level, errors=errors)\n\u001B[32m   4752\u001B[39m     \u001B[38;5;28;01melse\u001B[39;00m:\n\u001B[32m-> \u001B[39m\u001B[32m4753\u001B[39m         new_axis = axis.drop(labels, errors=errors)\n\u001B[32m   4754\u001B[39m     indexer = axis.get_indexer(new_axis)\n\u001B[32m   4756\u001B[39m \u001B[38;5;66;03m# Case for non-unique axis\u001B[39;00m\n\u001B[32m   4757\u001B[39m \u001B[38;5;28;01melse\u001B[39;00m:\n",
      "\u001B[36mFile \u001B[39m\u001B[32m~\\dev\\tabular-ds-project\\venv\\Lib\\site-packages\\pandas\\core\\indexes\\base.py:7000\u001B[39m, in \u001B[36mIndex.drop\u001B[39m\u001B[34m(self, labels, errors)\u001B[39m\n\u001B[32m   6998\u001B[39m \u001B[38;5;28;01mif\u001B[39;00m mask.any():\n\u001B[32m   6999\u001B[39m     \u001B[38;5;28;01mif\u001B[39;00m errors != \u001B[33m\"\u001B[39m\u001B[33mignore\u001B[39m\u001B[33m\"\u001B[39m:\n\u001B[32m-> \u001B[39m\u001B[32m7000\u001B[39m         \u001B[38;5;28;01mraise\u001B[39;00m \u001B[38;5;167;01mKeyError\u001B[39;00m(\u001B[33mf\u001B[39m\u001B[33m\"\u001B[39m\u001B[38;5;132;01m{\u001B[39;00mlabels[mask].tolist()\u001B[38;5;132;01m}\u001B[39;00m\u001B[33m not found in axis\u001B[39m\u001B[33m\"\u001B[39m)\n\u001B[32m   7001\u001B[39m     indexer = indexer[~mask]\n\u001B[32m   7002\u001B[39m \u001B[38;5;28;01mreturn\u001B[39;00m \u001B[38;5;28mself\u001B[39m.delete(indexer)\n",
      "\u001B[31mKeyError\u001B[39m: \"['date', 'datetime', 'dateweek'] not found in axis\""
     ]
    }
   ]
  },
  {
   "cell_type": "markdown",
   "source": [
    "## Data Cleaning"
   ],
   "metadata": {
    "id": "f0520IV7hN7P"
   }
  },
  {
   "cell_type": "markdown",
   "source": [
    "checking the null vales in the data"
   ],
   "metadata": {
    "id": "LI7823jth63l"
   }
  },
  {
   "cell_type": "code",
   "source": [
    "import pandas as pd\n",
    "# Display columns with null values\n",
    "null_info_game_lineups = df_game_lineups.isnull().sum()\n",
    "null_info_player_valuations = df_player_valuations.isnull().sum()\n",
    "\n",
    "# Display columns with large null values in df_game_lineups\n",
    "print(pd.DataFrame({'Null Values': null_info_game_lineups}))\n",
    "\n",
    "# Display columns with large null values in df_player_valuations\n",
    "print(pd.DataFrame({'Null Values': null_info_player_valuations}))\n"
   ],
   "metadata": {
    "colab": {
     "base_uri": "https://localhost:8080/"
    },
    "id": "l67EiKvThR6Z",
    "outputId": "8718fee2-3f17-4b23-f711-c890701034d8"
   },
   "execution_count": null,
   "outputs": [
    {
     "output_type": "stream",
     "name": "stdout",
     "text": [
      "                 Null Values\n",
      "game_lineups_id            0\n",
      "game_id                    0\n",
      "club_id                    0\n",
      "type                       0\n",
      "number                     0\n",
      "player_id                  0\n",
      "player_name                0\n",
      "team_captain               0\n",
      "position                   0\n",
      "                                     Null Values\n",
      "player_id                                      0\n",
      "date                                           0\n",
      "datetime                                       0\n",
      "dateweek                                       0\n",
      "market_value_in_eur                            0\n",
      "current_club_id                                0\n",
      "player_club_domestic_competition_id            0\n"
     ]
    }
   ]
  },
  {
   "cell_type": "markdown",
   "source": [
    "Based om the findings there is no null values in both csv files"
   ],
   "metadata": {
    "id": "rk4tn2xgiF5W"
   }
  },
  {
   "cell_type": "markdown",
   "source": [
    "Duplicates remove rows"
   ],
   "metadata": {
    "id": "pWP9GfS77Zhu"
   }
  },
  {
   "cell_type": "code",
   "source": [
    "# before removing duplicates\n",
    "print(\"Shape before removing duplicates:\", merged_df.shape)\n",
    "\n",
    "# Remove duplicated rows\n",
    "merged_df_no_duplicates = merged_df.drop_duplicates()\n",
    "\n",
    "#  after removing duplicates\n",
    "print(merged_df_no_duplicates.shape)"
   ],
   "metadata": {
    "colab": {
     "base_uri": "https://localhost:8080/"
    },
    "id": "YC0nSLIi68U_",
    "outputId": "004da89e-41a7-4cdf-b870-553379653d80"
   },
   "execution_count": null,
   "outputs": [
    {
     "output_type": "stream",
     "name": "stdout",
     "text": [
      "Shape before removing duplicates: (1892725, 15)\n",
      "Shape after removing duplicates: (1892725, 15)\n"
     ]
    }
   ]
  },
  {
   "cell_type": "markdown",
   "source": [
    "no duplicates available"
   ],
   "metadata": {
    "id": "9CxEBiPp7g55"
   }
  },
  {
   "cell_type": "markdown",
   "source": [
    "## Research question 3"
   ],
   "metadata": {
    "id": "72vnh8kyrOkD"
   }
  },
  {
   "cell_type": "markdown",
   "source": [
    "check the min value of the market_value and the max so we can chooce our bins"
   ],
   "metadata": {
    "id": "mUoDNrAirT8A"
   }
  },
  {
   "cell_type": "code",
   "source": [
    "# Find the minimum and maximum market values\n",
    "min_market_value = merged_df['market_value_in_eur'].min()\n",
    "max_market_value = merged_df['market_value_in_eur'].max()\n",
    "\n",
    "# Display the results\n",
    "print(\"Minimum Market Value: {}\".format(min_market_value))\n",
    "print(\"Maximum Market Value: {}\".format(max_market_value))\n"
   ],
   "metadata": {
    "colab": {
     "base_uri": "https://localhost:8080/"
    },
    "id": "ORv0INB7rN66",
    "outputId": "c49925cd-e0e0-4ab6-9f75-35719971b44b"
   },
   "execution_count": null,
   "outputs": [
    {
     "output_type": "stream",
     "name": "stdout",
     "text": [
      "Minimum Market Value: 10000\n",
      "Maximum Market Value: 200000000\n"
     ]
    }
   ]
  },
  {
   "cell_type": "code",
   "source": [
    "import seaborn as sns\n",
    "import matplotlib.pyplot as plt\n",
    "\n",
    "# Filter the DataFrame for specific positions\n",
    "selected_positions = ['Goalkeeper', 'Attacking Midfield', 'Defensive Midfield', 'Centre-Back', 'Attack']\n",
    "filtered_df = merged_df[merged_df['position'].isin(selected_positions)]\n",
    "\n",
    "# Set up the plot\n",
    "plt.figure(figsize=(12, 8))\n",
    "\n",
    "# Create a bar plot\n",
    "sns.barplot(x='position', y='market_value_in_eur', hue='type', data=filtered_df, ci=None)\n",
    "\n",
    "# Set labels and title\n",
    "plt.xlabel('Position')\n",
    "plt.ylabel('Average Market Value (in EUR)')\n",
    "plt.title('Average Market Value for Selected Positions and Type')\n",
    "\n",
    "# Show the plot\n",
    "plt.show()\n"
   ],
   "metadata": {
    "colab": {
     "base_uri": "https://localhost:8080/",
     "height": 805
    },
    "id": "dgrsQ-vMu1YJ",
    "outputId": "179acfa1-ba73-4e0c-8155-b48d2ebdd79e"
   },
   "execution_count": null,
   "outputs": [
    {
     "output_type": "stream",
     "name": "stderr",
     "text": [
      "<ipython-input-67-9936d34700c3>:12: FutureWarning: \n",
      "\n",
      "The `ci` parameter is deprecated. Use `errorbar=None` for the same effect.\n",
      "\n",
      "  sns.barplot(x='position', y='market_value_in_eur', hue='type', data=filtered_df, ci=None)\n"
     ]
    },
    {
     "output_type": "display_data",
     "data": {
      "text/plain": [
       "<Figure size 1200x800 with 1 Axes>"
      ],
      "image/png": "[encoded data removed]"
     },
     "metadata": {}
    }
   ]
  },
  {
   "cell_type": "markdown",
   "source": [
    "## Insights\n",
    "The bar plot visualizes the average market values (in EUR) for specific football positions, namely 'Goalkeeper,' 'Attacking Midfield' 'Defensive Midfield,','Centre-Back,' and 'Attack,' with a breakdown by type starting_lineup and subsitutes.As you can see from the plot that the attacking midfields has the highest market value especially if they are starting lineups and the goal keepers tends to have the lowest market value even if he is at the starting lineups so what we can understand from the plot that the starting linups is directly propotion to the market value and the subsitutes is inversly propotion meaning that if the market value decrease that means you are a subsitute and vise verse findings ranking based on market value and type starting linups 1- attacking midfield 2- defensive midfield 3-center back 4- goal keeper 5- attacking findings ranking based on market value and type subsitutes 1-attacking midfield 2-center back 3-defensive midfield 4- goal keeper 5- attack"
   ],
   "metadata": {
    "id": "AXogc6qdvQql"
   }
  },
  {
   "cell_type": "markdown",
   "source": [
    "## Research Question 4"
   ],
   "metadata": {
    "id": "1ydZDji0y7pp"
   }
  },
  {
   "cell_type": "code",
   "source": [
    "import seaborn as sns\n",
    "import matplotlib.pyplot as plt\n",
    "\n",
    "# Set up the plot\n",
    "plt.figure(figsize=(16, 8))\n",
    "\n",
    "# Create a clustered bar plot\n",
    "sns.barplot(x='player_club_domestic_competition_id', y='market_value_in_eur', hue='type', data=merged_df, ci=None, palette='viridis')\n",
    "\n",
    "# Set labels and title\n",
    "plt.xlabel('Domestic Competition ID')\n",
    "plt.ylabel('Average Market Value (in EUR)')\n",
    "plt.title('Impact of Domestic Competition and Player Type on Market Value')\n",
    "\n",
    "# Show the legend\n",
    "plt.legend(title='Player Type', loc='upper right')\n",
    "\n",
    "# Show the plot\n",
    "plt.show()\n"
   ],
   "metadata": {
    "colab": {
     "base_uri": "https://localhost:8080/",
     "height": 805
    },
    "id": "6C-yynRr2PSb",
    "outputId": "c0a610da-c818-4680-f936-35db0645571f"
   },
   "execution_count": null,
   "outputs": [
    {
     "output_type": "stream",
     "name": "stderr",
     "text": [
      "<ipython-input-72-96027f1c5a7c>:11: FutureWarning: \n",
      "\n",
      "The `ci` parameter is deprecated. Use `errorbar=None` for the same effect.\n",
      "\n",
      "  sns.barplot(x='player_club_domestic_competition_id', y='market_value_in_eur', hue='type', data=merged_df, ci=None, palette='viridis')\n"
     ]
    },
    {
     "output_type": "display_data",
     "data": {
      "text/plain": [
       "<Figure size 1600x800 with 1 Axes>"
      ],
      "image/png": "[encoded data removed]"
     },
     "metadata": {}
    }
   ]
  },
  {
   "cell_type": "markdown",
   "source": [
    "## Insights\n",
    "The clustered bar plot provides a comprehensive overview of the relationship between a player's club's domestic competition, the player's type, and their average market value. based on the findings of the plot you can see that the domenstic competition has high influnce on the market value as there are some competitons increase the market value of player like GB1 and ES1 and on the other hand there are other competitions have make players to have less  market value of course the market value and type starting line ups are directly proportional and the market value and subsitutes type are inversely proportional and also as you can see that the higher the market value of the players in the domenstic competiton the higher the player type is subsitute and finally the domenstic competitons that have a high player market values has more number of players"
   ],
   "metadata": {
    "id": "DKGPq14a2WYI"
   }
  }
 ]
}
