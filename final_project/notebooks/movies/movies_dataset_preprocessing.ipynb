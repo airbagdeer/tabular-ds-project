{
 "cells": [
  {
   "cell_type": "code",
   "metadata": {
    "collapsed": true,
    "ExecuteTime": {
     "end_time": "2025-03-05T07:45:06.664877400Z",
     "start_time": "2025-03-05T07:44:52.112286200Z"
    }
   },
   "source": [
    "import pandas as pd\n",
    "import numpy as np\n",
    "import matplotlib.pyplot as plt\n",
    "import ast\n",
    "from sklearn.preprocessing import MultiLabelBinarizer"
   ],
   "outputs": [],
   "execution_count": 1
  },
  {
   "cell_type": "code",
   "source": [
    "datasets_path = '../data'\n",
    "movies_path = '/movies'\n",
    "raw_path = '/raw'\n",
    "processed_path = '/processed'\n",
    "\n",
    "movies_metadata = pd.read_csv(datasets_path + movies_path + raw_path + '/movies_metadata.csv')\n",
    "movies_credits = pd.read_csv(datasets_path + movies_path + raw_path + '/credits.csv')\n",
    "movies_ratings = pd.read_csv(datasets_path + movies_path + raw_path + '/ratings.csv')"
   ],
   "metadata": {
    "collapsed": false,
    "ExecuteTime": {
     "end_time": "2025-03-05T07:45:16.302800600Z",
     "start_time": "2025-03-05T07:45:06.662372600Z"
    }
   },
   "outputs": [
    {
     "name": "stderr",
     "output_type": "stream",
     "text": [
      "C:\\Users\\eysto\\AppData\\Local\\Temp\\ipykernel_6512\\2683035399.py:6: DtypeWarning: Columns (10) have mixed types. Specify dtype option on import or set low_memory=False.\n",
      "  movies_metadata = pd.read_csv(datasets_path + movies_path + raw_path + '/movies_metadata.csv')\n"
     ]
    }
   ],
   "execution_count": 2
  },
  {
   "cell_type": "code",
   "source": [
    "eda_movies_metadata = movies_metadata.copy()\n",
    "eda_movies_metadata.drop(['belongs_to_collection', 'homepage', 'overview', 'poster_path', 'tagline', 'production_companies', 'production_countries'], axis=1, inplace=True)\n",
    "eda_movies_metadata"
   ],
   "metadata": {
    "collapsed": false,
    "ExecuteTime": {
     "end_time": "2025-03-05T07:45:16.363631600Z",
     "start_time": "2025-03-05T07:45:16.302800600Z"
    }
   },
   "outputs": [
    {
     "data": {
      "text/plain": "       adult    budget                                             genres  \\\n0      False  30000000  [{'id': 16, 'name': 'Animation'}, {'id': 35, '...   \n1      False  65000000  [{'id': 12, 'name': 'Adventure'}, {'id': 14, '...   \n2      False         0  [{'id': 10749, 'name': 'Romance'}, {'id': 35, ...   \n3      False  16000000  [{'id': 35, 'name': 'Comedy'}, {'id': 18, 'nam...   \n4      False         0                     [{'id': 35, 'name': 'Comedy'}]   \n...      ...       ...                                                ...   \n45461  False         0  [{'id': 18, 'name': 'Drama'}, {'id': 10751, 'n...   \n45462  False         0                      [{'id': 18, 'name': 'Drama'}]   \n45463  False         0  [{'id': 28, 'name': 'Action'}, {'id': 18, 'nam...   \n45464  False         0                                                 []   \n45465  False         0                                                 []   \n\n           id    imdb_id original_language               original_title  \\\n0         862  tt0114709                en                    Toy Story   \n1        8844  tt0113497                en                      Jumanji   \n2       15602  tt0113228                en             Grumpier Old Men   \n3       31357  tt0114885                en            Waiting to Exhale   \n4       11862  tt0113041                en  Father of the Bride Part II   \n...       ...        ...               ...                          ...   \n45461  439050  tt6209470                fa                      رگ خواب   \n45462  111109  tt2028550                tl          Siglo ng Pagluluwal   \n45463   67758  tt0303758                en                     Betrayal   \n45464  227506  tt0008536                en          Satana likuyushchiy   \n45465  461257  tt6980792                en                     Queerama   \n\n      popularity release_date      revenue  runtime  \\\n0      21.946943   1995-10-30  373554033.0     81.0   \n1      17.015539   1995-12-15  262797249.0    104.0   \n2        11.7129   1995-12-22          0.0    101.0   \n3       3.859495   1995-12-22   81452156.0    127.0   \n4       8.387519   1995-02-10   76578911.0    106.0   \n...          ...          ...          ...      ...   \n45461   0.072051          NaN          0.0     90.0   \n45462   0.178241   2011-11-17          0.0    360.0   \n45463   0.903007   2003-08-01          0.0     90.0   \n45464   0.003503   1917-10-21          0.0     87.0   \n45465   0.163015   2017-06-09          0.0     75.0   \n\n                                        spoken_languages    status  \\\n0               [{'iso_639_1': 'en', 'name': 'English'}]  Released   \n1      [{'iso_639_1': 'en', 'name': 'English'}, {'iso...  Released   \n2               [{'iso_639_1': 'en', 'name': 'English'}]  Released   \n3               [{'iso_639_1': 'en', 'name': 'English'}]  Released   \n4               [{'iso_639_1': 'en', 'name': 'English'}]  Released   \n...                                                  ...       ...   \n45461             [{'iso_639_1': 'fa', 'name': 'فارسی'}]  Released   \n45462                  [{'iso_639_1': 'tl', 'name': ''}]  Released   \n45463           [{'iso_639_1': 'en', 'name': 'English'}]  Released   \n45464                                                 []  Released   \n45465           [{'iso_639_1': 'en', 'name': 'English'}]  Released   \n\n                             title  video  vote_average  vote_count  \n0                        Toy Story  False           7.7      5415.0  \n1                          Jumanji  False           6.9      2413.0  \n2                 Grumpier Old Men  False           6.5        92.0  \n3                Waiting to Exhale  False           6.1        34.0  \n4      Father of the Bride Part II  False           5.7       173.0  \n...                            ...    ...           ...         ...  \n45461                       Subdue  False           4.0         1.0  \n45462          Century of Birthing  False           9.0         3.0  \n45463                     Betrayal  False           3.8         6.0  \n45464             Satan Triumphant  False           0.0         0.0  \n45465                     Queerama  False           0.0         0.0  \n\n[45466 rows x 17 columns]",
      "text/html": "<div>\n<style scoped>\n    .dataframe tbody tr th:only-of-type {\n        vertical-align: middle;\n    }\n\n    .dataframe tbody tr th {\n        vertical-align: top;\n    }\n\n    .dataframe thead th {\n        text-align: right;\n    }\n</style>\n<table border=\"1\" class=\"dataframe\">\n  <thead>\n    <tr style=\"text-align: right;\">\n      <th></th>\n      <th>adult</th>\n      <th>budget</th>\n      <th>genres</th>\n      <th>id</th>\n      <th>imdb_id</th>\n      <th>original_language</th>\n      <th>original_title</th>\n      <th>popularity</th>\n      <th>release_date</th>\n      <th>revenue</th>\n      <th>runtime</th>\n      <th>spoken_languages</th>\n      <th>status</th>\n      <th>title</th>\n      <th>video</th>\n      <th>vote_average</th>\n      <th>vote_count</th>\n    </tr>\n  </thead>\n  <tbody>\n    <tr>\n      <th>0</th>\n      <td>False</td>\n      <td>30000000</td>\n      <td>[{'id': 16, 'name': 'Animation'}, {'id': 35, '...</td>\n      <td>862</td>\n      <td>tt0114709</td>\n      <td>en</td>\n      <td>Toy Story</td>\n      <td>21.946943</td>\n      <td>1995-10-30</td>\n      <td>373554033.0</td>\n      <td>81.0</td>\n      <td>[{'iso_639_1': 'en', 'name': 'English'}]</td>\n      <td>Released</td>\n      <td>Toy Story</td>\n      <td>False</td>\n      <td>7.7</td>\n      <td>5415.0</td>\n    </tr>\n    <tr>\n      <th>1</th>\n      <td>False</td>\n      <td>65000000</td>\n      <td>[{'id': 12, 'name': 'Adventure'}, {'id': 14, '...</td>\n      <td>8844</td>\n      <td>tt0113497</td>\n      <td>en</td>\n      <td>Jumanji</td>\n      <td>17.015539</td>\n      <td>1995-12-15</td>\n      <td>262797249.0</td>\n      <td>104.0</td>\n      <td>[{'iso_639_1': 'en', 'name': 'English'}, {'iso...</td>\n      <td>Released</td>\n      <td>Jumanji</td>\n      <td>False</td>\n      <td>6.9</td>\n      <td>2413.0</td>\n    </tr>\n    <tr>\n      <th>2</th>\n      <td>False</td>\n      <td>0</td>\n      <td>[{'id': 10749, 'name': 'Romance'}, {'id': 35, ...</td>\n      <td>15602</td>\n      <td>tt0113228</td>\n      <td>en</td>\n      <td>Grumpier Old Men</td>\n      <td>11.7129</td>\n      <td>1995-12-22</td>\n      <td>0.0</td>\n      <td>101.0</td>\n      <td>[{'iso_639_1': 'en', 'name': 'English'}]</td>\n      <td>Released</td>\n      <td>Grumpier Old Men</td>\n      <td>False</td>\n      <td>6.5</td>\n      <td>92.0</td>\n    </tr>\n    <tr>\n      <th>3</th>\n      <td>False</td>\n      <td>16000000</td>\n      <td>[{'id': 35, 'name': 'Comedy'}, {'id': 18, 'nam...</td>\n      <td>31357</td>\n      <td>tt0114885</td>\n      <td>en</td>\n      <td>Waiting to Exhale</td>\n      <td>3.859495</td>\n      <td>1995-12-22</td>\n      <td>81452156.0</td>\n      <td>127.0</td>\n      <td>[{'iso_639_1': 'en', 'name': 'English'}]</td>\n      <td>Released</td>\n      <td>Waiting to Exhale</td>\n      <td>False</td>\n      <td>6.1</td>\n      <td>34.0</td>\n    </tr>\n    <tr>\n      <th>4</th>\n      <td>False</td>\n      <td>0</td>\n      <td>[{'id': 35, 'name': 'Comedy'}]</td>\n      <td>11862</td>\n      <td>tt0113041</td>\n      <td>en</td>\n      <td>Father of the Bride Part II</td>\n      <td>8.387519</td>\n      <td>1995-02-10</td>\n      <td>76578911.0</td>\n      <td>106.0</td>\n      <td>[{'iso_639_1': 'en', 'name': 'English'}]</td>\n      <td>Released</td>\n      <td>Father of the Bride Part II</td>\n      <td>False</td>\n      <td>5.7</td>\n      <td>173.0</td>\n    </tr>\n    <tr>\n      <th>...</th>\n      <td>...</td>\n      <td>...</td>\n      <td>...</td>\n      <td>...</td>\n      <td>...</td>\n      <td>...</td>\n      <td>...</td>\n      <td>...</td>\n      <td>...</td>\n      <td>...</td>\n      <td>...</td>\n      <td>...</td>\n      <td>...</td>\n      <td>...</td>\n      <td>...</td>\n      <td>...</td>\n      <td>...</td>\n    </tr>\n    <tr>\n      <th>45461</th>\n      <td>False</td>\n      <td>0</td>\n      <td>[{'id': 18, 'name': 'Drama'}, {'id': 10751, 'n...</td>\n      <td>439050</td>\n      <td>tt6209470</td>\n      <td>fa</td>\n      <td>رگ خواب</td>\n      <td>0.072051</td>\n      <td>NaN</td>\n      <td>0.0</td>\n      <td>90.0</td>\n      <td>[{'iso_639_1': 'fa', 'name': 'فارسی'}]</td>\n      <td>Released</td>\n      <td>Subdue</td>\n      <td>False</td>\n      <td>4.0</td>\n      <td>1.0</td>\n    </tr>\n    <tr>\n      <th>45462</th>\n      <td>False</td>\n      <td>0</td>\n      <td>[{'id': 18, 'name': 'Drama'}]</td>\n      <td>111109</td>\n      <td>tt2028550</td>\n      <td>tl</td>\n      <td>Siglo ng Pagluluwal</td>\n      <td>0.178241</td>\n      <td>2011-11-17</td>\n      <td>0.0</td>\n      <td>360.0</td>\n      <td>[{'iso_639_1': 'tl', 'name': ''}]</td>\n      <td>Released</td>\n      <td>Century of Birthing</td>\n      <td>False</td>\n      <td>9.0</td>\n      <td>3.0</td>\n    </tr>\n    <tr>\n      <th>45463</th>\n      <td>False</td>\n      <td>0</td>\n      <td>[{'id': 28, 'name': 'Action'}, {'id': 18, 'nam...</td>\n      <td>67758</td>\n      <td>tt0303758</td>\n      <td>en</td>\n      <td>Betrayal</td>\n      <td>0.903007</td>\n      <td>2003-08-01</td>\n      <td>0.0</td>\n      <td>90.0</td>\n      <td>[{'iso_639_1': 'en', 'name': 'English'}]</td>\n      <td>Released</td>\n      <td>Betrayal</td>\n      <td>False</td>\n      <td>3.8</td>\n      <td>6.0</td>\n    </tr>\n    <tr>\n      <th>45464</th>\n      <td>False</td>\n      <td>0</td>\n      <td>[]</td>\n      <td>227506</td>\n      <td>tt0008536</td>\n      <td>en</td>\n      <td>Satana likuyushchiy</td>\n      <td>0.003503</td>\n      <td>1917-10-21</td>\n      <td>0.0</td>\n      <td>87.0</td>\n      <td>[]</td>\n      <td>Released</td>\n      <td>Satan Triumphant</td>\n      <td>False</td>\n      <td>0.0</td>\n      <td>0.0</td>\n    </tr>\n    <tr>\n      <th>45465</th>\n      <td>False</td>\n      <td>0</td>\n      <td>[]</td>\n      <td>461257</td>\n      <td>tt6980792</td>\n      <td>en</td>\n      <td>Queerama</td>\n      <td>0.163015</td>\n      <td>2017-06-09</td>\n      <td>0.0</td>\n      <td>75.0</td>\n      <td>[{'iso_639_1': 'en', 'name': 'English'}]</td>\n      <td>Released</td>\n      <td>Queerama</td>\n      <td>False</td>\n      <td>0.0</td>\n      <td>0.0</td>\n    </tr>\n  </tbody>\n</table>\n<p>45466 rows × 17 columns</p>\n</div>"
     },
     "execution_count": 3,
     "metadata": {},
     "output_type": "execute_result"
    }
   ],
   "execution_count": 3
  },
  {
   "metadata": {
    "ExecuteTime": {
     "end_time": "2025-03-05T07:45:16.385163100Z",
     "start_time": "2025-03-05T07:45:16.304515600Z"
    }
   },
   "cell_type": "code",
   "source": [
    "def extract_json_feature(df, column_name):\n",
    "    def safe_parse(x):\n",
    "        if isinstance(x, str):\n",
    "            try:\n",
    "                return ast.literal_eval(x)\n",
    "            except (ValueError, SyntaxError):\n",
    "                return []\n",
    "        return []\n",
    "\n",
    "    parsed_data = df[column_name].apply(safe_parse)\n",
    "\n",
    "    extracted_names = parsed_data.apply(lambda x: [item['name'] for item in x] if isinstance(x, list) else [])\n",
    "\n",
    "    mlb = MultiLabelBinarizer()\n",
    "    encoded_features = pd.DataFrame(\n",
    "        mlb.fit_transform(extracted_names),\n",
    "        columns=[f\"{column_name}_{name}\" for name in mlb.classes_],\n",
    "        index=df.index\n",
    "    )\n",
    "\n",
    "    return encoded_features"
   ],
   "outputs": [],
   "execution_count": 4
  },
  {
   "cell_type": "code",
   "execution_count": 5,
   "outputs": [],
   "source": [
    "def extract_json_feature_sparse(df, column_name):\n",
    "    def safe_parse(x):\n",
    "        if isinstance(x, str):\n",
    "            try:\n",
    "                return ast.literal_eval(x)\n",
    "            except (ValueError, SyntaxError):\n",
    "                return []\n",
    "        return []\n",
    "\n",
    "    parsed_data = df[column_name].apply(safe_parse)\n",
    "\n",
    "    extracted_names = parsed_data.apply(lambda x: [item['name'] for item in x] if isinstance(x, list) else [])\n",
    "\n",
    "    mlb = MultiLabelBinarizer(sparse_output=True)  # Enable sparse matrix\n",
    "    encoded_features = mlb.fit_transform(extracted_names)\n",
    "\n",
    "    # Convert to Pandas Sparse DataFrame to save memory\n",
    "    encoded_df = pd.DataFrame.sparse.from_spmatrix(\n",
    "        encoded_features,\n",
    "        columns=[f\"{column_name}_{name}\" for name in mlb.classes_],\n",
    "        index=df.index\n",
    "    )\n",
    "\n",
    "    return encoded_df\n"
   ],
   "metadata": {
    "collapsed": false,
    "ExecuteTime": {
     "end_time": "2025-03-05T07:45:16.411704Z",
     "start_time": "2025-03-05T07:45:16.337606900Z"
    }
   }
  },
  {
   "metadata": {
    "ExecuteTime": {
     "end_time": "2025-03-05T07:45:17.886964800Z",
     "start_time": "2025-03-05T07:45:16.364631600Z"
    }
   },
   "cell_type": "code",
   "source": [
    "json_features = ['genres', 'spoken_languages']\n",
    "learning_movies_metadata = eda_movies_metadata.copy()\n",
    "\n",
    "for feature in json_features:\n",
    "    learning_movies_metadata = pd.concat([learning_movies_metadata, extract_json_feature_sparse(learning_movies_metadata, feature)], axis=1)\n",
    "    learning_movies_metadata.drop(feature, axis=1, inplace=True)"
   ],
   "outputs": [],
   "execution_count": 6
  },
  {
   "cell_type": "code",
   "execution_count": 7,
   "outputs": [
    {
     "data": {
      "text/plain": "       adult    budget      id    imdb_id original_language  \\\n0      False  30000000     862  tt0114709                en   \n1      False  65000000    8844  tt0113497                en   \n2      False         0   15602  tt0113228                en   \n3      False  16000000   31357  tt0114885                en   \n4      False         0   11862  tt0113041                en   \n...      ...       ...     ...        ...               ...   \n45461  False         0  439050  tt6209470                fa   \n45462  False         0  111109  tt2028550                tl   \n45463  False         0   67758  tt0303758                en   \n45464  False         0  227506  tt0008536                en   \n45465  False         0  461257  tt6980792                en   \n\n                    original_title popularity release_date      revenue  \\\n0                        Toy Story  21.946943   1995-10-30  373554033.0   \n1                          Jumanji  17.015539   1995-12-15  262797249.0   \n2                 Grumpier Old Men    11.7129   1995-12-22          0.0   \n3                Waiting to Exhale   3.859495   1995-12-22   81452156.0   \n4      Father of the Bride Part II   8.387519   1995-02-10   76578911.0   \n...                            ...        ...          ...          ...   \n45461                      رگ خواب   0.072051          NaN          0.0   \n45462          Siglo ng Pagluluwal   0.178241   2011-11-17          0.0   \n45463                     Betrayal   0.903007   2003-08-01          0.0   \n45464          Satana likuyushchiy   0.003503   1917-10-21          0.0   \n45465                     Queerama   0.163015   2017-06-09          0.0   \n\n       runtime  ... spoken_languages_বাংলা spoken_languages_ਪੰਜਾਬੀ  \\\n0         81.0  ...                      0                       0   \n1        104.0  ...                      0                       0   \n2        101.0  ...                      0                       0   \n3        127.0  ...                      0                       0   \n4        106.0  ...                      0                       0   \n...        ...  ...                    ...                     ...   \n45461     90.0  ...                      0                       0   \n45462    360.0  ...                      0                       0   \n45463     90.0  ...                      0                       0   \n45464     87.0  ...                      0                       0   \n45465     75.0  ...                      0                       0   \n\n      spoken_languages_தமிழ்  spoken_languages_తెలుగు  \\\n0                          0                        0   \n1                          0                        0   \n2                          0                        0   \n3                          0                        0   \n4                          0                        0   \n...                      ...                      ...   \n45461                      0                        0   \n45462                      0                        0   \n45463                      0                        0   \n45464                      0                        0   \n45465                      0                        0   \n\n       spoken_languages_ภาษาไทย  spoken_languages_ქართული  \\\n0                             0                         0   \n1                             0                         0   \n2                             0                         0   \n3                             0                         0   \n4                             0                         0   \n...                         ...                       ...   \n45461                         0                         0   \n45462                         0                         0   \n45463                         0                         0   \n45464                         0                         0   \n45465                         0                         0   \n\n       spoken_languages_广州话 / 廣州話  spoken_languages_日本語  spoken_languages_普通话  \\\n0                               0                     0                     0   \n1                               0                     0                     0   \n2                               0                     0                     0   \n3                               0                     0                     0   \n4                               0                     0                     0   \n...                           ...                   ...                   ...   \n45461                           0                     0                     0   \n45462                           0                     0                     0   \n45463                           0                     0                     0   \n45464                           0                     0                     0   \n45465                           0                     0                     0   \n\n       spoken_languages_한국어/조선말  \n0                             0  \n1                             0  \n2                             0  \n3                             0  \n4                             0  \n...                         ...  \n45461                         0  \n45462                         0  \n45463                         0  \n45464                         0  \n45465                         0  \n\n[45466 rows x 122 columns]",
      "text/html": "<div>\n<style scoped>\n    .dataframe tbody tr th:only-of-type {\n        vertical-align: middle;\n    }\n\n    .dataframe tbody tr th {\n        vertical-align: top;\n    }\n\n    .dataframe thead th {\n        text-align: right;\n    }\n</style>\n<table border=\"1\" class=\"dataframe\">\n  <thead>\n    <tr style=\"text-align: right;\">\n      <th></th>\n      <th>adult</th>\n      <th>budget</th>\n      <th>id</th>\n      <th>imdb_id</th>\n      <th>original_language</th>\n      <th>original_title</th>\n      <th>popularity</th>\n      <th>release_date</th>\n      <th>revenue</th>\n      <th>runtime</th>\n      <th>...</th>\n      <th>spoken_languages_বাংলা</th>\n      <th>spoken_languages_ਪੰਜਾਬੀ</th>\n      <th>spoken_languages_தமிழ்</th>\n      <th>spoken_languages_తెలుగు</th>\n      <th>spoken_languages_ภาษาไทย</th>\n      <th>spoken_languages_ქართული</th>\n      <th>spoken_languages_广州话 / 廣州話</th>\n      <th>spoken_languages_日本語</th>\n      <th>spoken_languages_普通话</th>\n      <th>spoken_languages_한국어/조선말</th>\n    </tr>\n  </thead>\n  <tbody>\n    <tr>\n      <th>0</th>\n      <td>False</td>\n      <td>30000000</td>\n      <td>862</td>\n      <td>tt0114709</td>\n      <td>en</td>\n      <td>Toy Story</td>\n      <td>21.946943</td>\n      <td>1995-10-30</td>\n      <td>373554033.0</td>\n      <td>81.0</td>\n      <td>...</td>\n      <td>0</td>\n      <td>0</td>\n      <td>0</td>\n      <td>0</td>\n      <td>0</td>\n      <td>0</td>\n      <td>0</td>\n      <td>0</td>\n      <td>0</td>\n      <td>0</td>\n    </tr>\n    <tr>\n      <th>1</th>\n      <td>False</td>\n      <td>65000000</td>\n      <td>8844</td>\n      <td>tt0113497</td>\n      <td>en</td>\n      <td>Jumanji</td>\n      <td>17.015539</td>\n      <td>1995-12-15</td>\n      <td>262797249.0</td>\n      <td>104.0</td>\n      <td>...</td>\n      <td>0</td>\n      <td>0</td>\n      <td>0</td>\n      <td>0</td>\n      <td>0</td>\n      <td>0</td>\n      <td>0</td>\n      <td>0</td>\n      <td>0</td>\n      <td>0</td>\n    </tr>\n    <tr>\n      <th>2</th>\n      <td>False</td>\n      <td>0</td>\n      <td>15602</td>\n      <td>tt0113228</td>\n      <td>en</td>\n      <td>Grumpier Old Men</td>\n      <td>11.7129</td>\n      <td>1995-12-22</td>\n      <td>0.0</td>\n      <td>101.0</td>\n      <td>...</td>\n      <td>0</td>\n      <td>0</td>\n      <td>0</td>\n      <td>0</td>\n      <td>0</td>\n      <td>0</td>\n      <td>0</td>\n      <td>0</td>\n      <td>0</td>\n      <td>0</td>\n    </tr>\n    <tr>\n      <th>3</th>\n      <td>False</td>\n      <td>16000000</td>\n      <td>31357</td>\n      <td>tt0114885</td>\n      <td>en</td>\n      <td>Waiting to Exhale</td>\n      <td>3.859495</td>\n      <td>1995-12-22</td>\n      <td>81452156.0</td>\n      <td>127.0</td>\n      <td>...</td>\n      <td>0</td>\n      <td>0</td>\n      <td>0</td>\n      <td>0</td>\n      <td>0</td>\n      <td>0</td>\n      <td>0</td>\n      <td>0</td>\n      <td>0</td>\n      <td>0</td>\n    </tr>\n    <tr>\n      <th>4</th>\n      <td>False</td>\n      <td>0</td>\n      <td>11862</td>\n      <td>tt0113041</td>\n      <td>en</td>\n      <td>Father of the Bride Part II</td>\n      <td>8.387519</td>\n      <td>1995-02-10</td>\n      <td>76578911.0</td>\n      <td>106.0</td>\n      <td>...</td>\n      <td>0</td>\n      <td>0</td>\n      <td>0</td>\n      <td>0</td>\n      <td>0</td>\n      <td>0</td>\n      <td>0</td>\n      <td>0</td>\n      <td>0</td>\n      <td>0</td>\n    </tr>\n    <tr>\n      <th>...</th>\n      <td>...</td>\n      <td>...</td>\n      <td>...</td>\n      <td>...</td>\n      <td>...</td>\n      <td>...</td>\n      <td>...</td>\n      <td>...</td>\n      <td>...</td>\n      <td>...</td>\n      <td>...</td>\n      <td>...</td>\n      <td>...</td>\n      <td>...</td>\n      <td>...</td>\n      <td>...</td>\n      <td>...</td>\n      <td>...</td>\n      <td>...</td>\n      <td>...</td>\n      <td>...</td>\n    </tr>\n    <tr>\n      <th>45461</th>\n      <td>False</td>\n      <td>0</td>\n      <td>439050</td>\n      <td>tt6209470</td>\n      <td>fa</td>\n      <td>رگ خواب</td>\n      <td>0.072051</td>\n      <td>NaN</td>\n      <td>0.0</td>\n      <td>90.0</td>\n      <td>...</td>\n      <td>0</td>\n      <td>0</td>\n      <td>0</td>\n      <td>0</td>\n      <td>0</td>\n      <td>0</td>\n      <td>0</td>\n      <td>0</td>\n      <td>0</td>\n      <td>0</td>\n    </tr>\n    <tr>\n      <th>45462</th>\n      <td>False</td>\n      <td>0</td>\n      <td>111109</td>\n      <td>tt2028550</td>\n      <td>tl</td>\n      <td>Siglo ng Pagluluwal</td>\n      <td>0.178241</td>\n      <td>2011-11-17</td>\n      <td>0.0</td>\n      <td>360.0</td>\n      <td>...</td>\n      <td>0</td>\n      <td>0</td>\n      <td>0</td>\n      <td>0</td>\n      <td>0</td>\n      <td>0</td>\n      <td>0</td>\n      <td>0</td>\n      <td>0</td>\n      <td>0</td>\n    </tr>\n    <tr>\n      <th>45463</th>\n      <td>False</td>\n      <td>0</td>\n      <td>67758</td>\n      <td>tt0303758</td>\n      <td>en</td>\n      <td>Betrayal</td>\n      <td>0.903007</td>\n      <td>2003-08-01</td>\n      <td>0.0</td>\n      <td>90.0</td>\n      <td>...</td>\n      <td>0</td>\n      <td>0</td>\n      <td>0</td>\n      <td>0</td>\n      <td>0</td>\n      <td>0</td>\n      <td>0</td>\n      <td>0</td>\n      <td>0</td>\n      <td>0</td>\n    </tr>\n    <tr>\n      <th>45464</th>\n      <td>False</td>\n      <td>0</td>\n      <td>227506</td>\n      <td>tt0008536</td>\n      <td>en</td>\n      <td>Satana likuyushchiy</td>\n      <td>0.003503</td>\n      <td>1917-10-21</td>\n      <td>0.0</td>\n      <td>87.0</td>\n      <td>...</td>\n      <td>0</td>\n      <td>0</td>\n      <td>0</td>\n      <td>0</td>\n      <td>0</td>\n      <td>0</td>\n      <td>0</td>\n      <td>0</td>\n      <td>0</td>\n      <td>0</td>\n    </tr>\n    <tr>\n      <th>45465</th>\n      <td>False</td>\n      <td>0</td>\n      <td>461257</td>\n      <td>tt6980792</td>\n      <td>en</td>\n      <td>Queerama</td>\n      <td>0.163015</td>\n      <td>2017-06-09</td>\n      <td>0.0</td>\n      <td>75.0</td>\n      <td>...</td>\n      <td>0</td>\n      <td>0</td>\n      <td>0</td>\n      <td>0</td>\n      <td>0</td>\n      <td>0</td>\n      <td>0</td>\n      <td>0</td>\n      <td>0</td>\n      <td>0</td>\n    </tr>\n  </tbody>\n</table>\n<p>45466 rows × 122 columns</p>\n</div>"
     },
     "execution_count": 7,
     "metadata": {},
     "output_type": "execute_result"
    }
   ],
   "source": [
    "learning_movies_metadata"
   ],
   "metadata": {
    "collapsed": false,
    "ExecuteTime": {
     "end_time": "2025-03-05T07:45:17.965509900Z",
     "start_time": "2025-03-05T07:45:17.885964Z"
    }
   }
  },
  {
   "cell_type": "code",
   "execution_count": 8,
   "outputs": [],
   "source": [
    "learning_movies_credits = pd.concat([movies_credits['id'].astype(str), extract_json_feature_sparse(movies_credits, 'crew')], axis=1)"
   ],
   "metadata": {
    "collapsed": false,
    "ExecuteTime": {
     "end_time": "2025-03-05T07:45:34.553756Z",
     "start_time": "2025-03-05T07:45:17.910265700Z"
    }
   }
  },
  {
   "cell_type": "code",
   "execution_count": 9,
   "outputs": [
    {
     "data": {
      "text/plain": "           id  crew_\\tCheung Chi-Sing  crew_\\tJiang Jun  crew_\\tMak Tin-Shu  \\\n0         862                       0                 0                   0   \n1        8844                       0                 0                   0   \n2       15602                       0                 0                   0   \n3       31357                       0                 0                   0   \n4       11862                       0                 0                   0   \n...       ...                     ...               ...                 ...   \n45471  439050                       0                 0                   0   \n45472  111109                       0                 0                   0   \n45473   67758                       0                 0                   0   \n45474  227506                       0                 0                   0   \n45475  461257                       0                 0                   0   \n\n       crew_\\tPertti Pasanen  crew_\\tSo Lam  crew_ Anshuman Mahaley  \\\n0                          0              0                       0   \n1                          0              0                       0   \n2                          0              0                       0   \n3                          0              0                       0   \n4                          0              0                       0   \n...                      ...            ...                     ...   \n45471                      0              0                       0   \n45472                      0              0                       0   \n45473                      0              0                       0   \n45474                      0              0                       0   \n45475                      0              0                       0   \n\n       crew_ Dale Trevillion\\t   crew_ Davide Manuli  crew_ E.W. Swackhamer  \\\n0                             0                    0                      0   \n1                             0                    0                      0   \n2                             0                    0                      0   \n3                             0                    0                      0   \n4                             0                    0                      0   \n...                         ...                  ...                    ...   \n45471                         0                    0                      0   \n45472                         0                    0                      0   \n45473                         0                    0                      0   \n45474                         0                    0                      0   \n45475                         0                    0                      0   \n\n       ...  crew_정성철  crew_정아연  crew_조윤진  crew_조진아  crew_조희란  crew_진모영  \\\n0      ...         0         0         0         0         0         0   \n1      ...         0         0         0         0         0         0   \n2      ...         0         0         0         0         0         0   \n3      ...         0         0         0         0         0         0   \n4      ...         0         0         0         0         0         0   \n...    ...       ...       ...       ...       ...       ...       ...   \n45471  ...         0         0         0         0         0         0   \n45472  ...         0         0         0         0         0         0   \n45473  ...         0         0         0         0         0         0   \n45474  ...         0         0         0         0         0         0   \n45475  ...         0         0         0         0         0         0   \n\n       crew_최광식  crew_최세연  crew_한소현  crew_허종호  \n0             0         0         0         0  \n1             0         0         0         0  \n2             0         0         0         0  \n3             0         0         0         0  \n4             0         0         0         0  \n...         ...       ...       ...       ...  \n45471         0         0         0         0  \n45472         0         0         0         0  \n45473         0         0         0         0  \n45474         0         0         0         0  \n45475         0         0         0         0  \n\n[45476 rows x 157615 columns]",
      "text/html": "<div>\n<style scoped>\n    .dataframe tbody tr th:only-of-type {\n        vertical-align: middle;\n    }\n\n    .dataframe tbody tr th {\n        vertical-align: top;\n    }\n\n    .dataframe thead th {\n        text-align: right;\n    }\n</style>\n<table border=\"1\" class=\"dataframe\">\n  <thead>\n    <tr style=\"text-align: right;\">\n      <th></th>\n      <th>id</th>\n      <th>crew_\\tCheung Chi-Sing</th>\n      <th>crew_\\tJiang Jun</th>\n      <th>crew_\\tMak Tin-Shu</th>\n      <th>crew_\\tPertti Pasanen</th>\n      <th>crew_\\tSo Lam</th>\n      <th>crew_ Anshuman Mahaley</th>\n      <th>crew_ Dale Trevillion\\t</th>\n      <th>crew_ Davide Manuli</th>\n      <th>crew_ E.W. Swackhamer</th>\n      <th>...</th>\n      <th>crew_정성철</th>\n      <th>crew_정아연</th>\n      <th>crew_조윤진</th>\n      <th>crew_조진아</th>\n      <th>crew_조희란</th>\n      <th>crew_진모영</th>\n      <th>crew_최광식</th>\n      <th>crew_최세연</th>\n      <th>crew_한소현</th>\n      <th>crew_허종호</th>\n    </tr>\n  </thead>\n  <tbody>\n    <tr>\n      <th>0</th>\n      <td>862</td>\n      <td>0</td>\n      <td>0</td>\n      <td>0</td>\n      <td>0</td>\n      <td>0</td>\n      <td>0</td>\n      <td>0</td>\n      <td>0</td>\n      <td>0</td>\n      <td>...</td>\n      <td>0</td>\n      <td>0</td>\n      <td>0</td>\n      <td>0</td>\n      <td>0</td>\n      <td>0</td>\n      <td>0</td>\n      <td>0</td>\n      <td>0</td>\n      <td>0</td>\n    </tr>\n    <tr>\n      <th>1</th>\n      <td>8844</td>\n      <td>0</td>\n      <td>0</td>\n      <td>0</td>\n      <td>0</td>\n      <td>0</td>\n      <td>0</td>\n      <td>0</td>\n      <td>0</td>\n      <td>0</td>\n      <td>...</td>\n      <td>0</td>\n      <td>0</td>\n      <td>0</td>\n      <td>0</td>\n      <td>0</td>\n      <td>0</td>\n      <td>0</td>\n      <td>0</td>\n      <td>0</td>\n      <td>0</td>\n    </tr>\n    <tr>\n      <th>2</th>\n      <td>15602</td>\n      <td>0</td>\n      <td>0</td>\n      <td>0</td>\n      <td>0</td>\n      <td>0</td>\n      <td>0</td>\n      <td>0</td>\n      <td>0</td>\n      <td>0</td>\n      <td>...</td>\n      <td>0</td>\n      <td>0</td>\n      <td>0</td>\n      <td>0</td>\n      <td>0</td>\n      <td>0</td>\n      <td>0</td>\n      <td>0</td>\n      <td>0</td>\n      <td>0</td>\n    </tr>\n    <tr>\n      <th>3</th>\n      <td>31357</td>\n      <td>0</td>\n      <td>0</td>\n      <td>0</td>\n      <td>0</td>\n      <td>0</td>\n      <td>0</td>\n      <td>0</td>\n      <td>0</td>\n      <td>0</td>\n      <td>...</td>\n      <td>0</td>\n      <td>0</td>\n      <td>0</td>\n      <td>0</td>\n      <td>0</td>\n      <td>0</td>\n      <td>0</td>\n      <td>0</td>\n      <td>0</td>\n      <td>0</td>\n    </tr>\n    <tr>\n      <th>4</th>\n      <td>11862</td>\n      <td>0</td>\n      <td>0</td>\n      <td>0</td>\n      <td>0</td>\n      <td>0</td>\n      <td>0</td>\n      <td>0</td>\n      <td>0</td>\n      <td>0</td>\n      <td>...</td>\n      <td>0</td>\n      <td>0</td>\n      <td>0</td>\n      <td>0</td>\n      <td>0</td>\n      <td>0</td>\n      <td>0</td>\n      <td>0</td>\n      <td>0</td>\n      <td>0</td>\n    </tr>\n    <tr>\n      <th>...</th>\n      <td>...</td>\n      <td>...</td>\n      <td>...</td>\n      <td>...</td>\n      <td>...</td>\n      <td>...</td>\n      <td>...</td>\n      <td>...</td>\n      <td>...</td>\n      <td>...</td>\n      <td>...</td>\n      <td>...</td>\n      <td>...</td>\n      <td>...</td>\n      <td>...</td>\n      <td>...</td>\n      <td>...</td>\n      <td>...</td>\n      <td>...</td>\n      <td>...</td>\n      <td>...</td>\n    </tr>\n    <tr>\n      <th>45471</th>\n      <td>439050</td>\n      <td>0</td>\n      <td>0</td>\n      <td>0</td>\n      <td>0</td>\n      <td>0</td>\n      <td>0</td>\n      <td>0</td>\n      <td>0</td>\n      <td>0</td>\n      <td>...</td>\n      <td>0</td>\n      <td>0</td>\n      <td>0</td>\n      <td>0</td>\n      <td>0</td>\n      <td>0</td>\n      <td>0</td>\n      <td>0</td>\n      <td>0</td>\n      <td>0</td>\n    </tr>\n    <tr>\n      <th>45472</th>\n      <td>111109</td>\n      <td>0</td>\n      <td>0</td>\n      <td>0</td>\n      <td>0</td>\n      <td>0</td>\n      <td>0</td>\n      <td>0</td>\n      <td>0</td>\n      <td>0</td>\n      <td>...</td>\n      <td>0</td>\n      <td>0</td>\n      <td>0</td>\n      <td>0</td>\n      <td>0</td>\n      <td>0</td>\n      <td>0</td>\n      <td>0</td>\n      <td>0</td>\n      <td>0</td>\n    </tr>\n    <tr>\n      <th>45473</th>\n      <td>67758</td>\n      <td>0</td>\n      <td>0</td>\n      <td>0</td>\n      <td>0</td>\n      <td>0</td>\n      <td>0</td>\n      <td>0</td>\n      <td>0</td>\n      <td>0</td>\n      <td>...</td>\n      <td>0</td>\n      <td>0</td>\n      <td>0</td>\n      <td>0</td>\n      <td>0</td>\n      <td>0</td>\n      <td>0</td>\n      <td>0</td>\n      <td>0</td>\n      <td>0</td>\n    </tr>\n    <tr>\n      <th>45474</th>\n      <td>227506</td>\n      <td>0</td>\n      <td>0</td>\n      <td>0</td>\n      <td>0</td>\n      <td>0</td>\n      <td>0</td>\n      <td>0</td>\n      <td>0</td>\n      <td>0</td>\n      <td>...</td>\n      <td>0</td>\n      <td>0</td>\n      <td>0</td>\n      <td>0</td>\n      <td>0</td>\n      <td>0</td>\n      <td>0</td>\n      <td>0</td>\n      <td>0</td>\n      <td>0</td>\n    </tr>\n    <tr>\n      <th>45475</th>\n      <td>461257</td>\n      <td>0</td>\n      <td>0</td>\n      <td>0</td>\n      <td>0</td>\n      <td>0</td>\n      <td>0</td>\n      <td>0</td>\n      <td>0</td>\n      <td>0</td>\n      <td>...</td>\n      <td>0</td>\n      <td>0</td>\n      <td>0</td>\n      <td>0</td>\n      <td>0</td>\n      <td>0</td>\n      <td>0</td>\n      <td>0</td>\n      <td>0</td>\n      <td>0</td>\n    </tr>\n  </tbody>\n</table>\n<p>45476 rows × 157615 columns</p>\n</div>"
     },
     "execution_count": 9,
     "metadata": {},
     "output_type": "execute_result"
    }
   ],
   "source": [
    "learning_movies_credits"
   ],
   "metadata": {
    "collapsed": false,
    "ExecuteTime": {
     "end_time": "2025-03-05T07:45:34.819667800Z",
     "start_time": "2025-03-05T07:45:34.555261600Z"
    }
   }
  },
  {
   "cell_type": "code",
   "execution_count": 12,
   "outputs": [
    {
     "name": "stdout",
     "output_type": "stream",
     "text": [
      "id                                  object\n",
      "crew_\\tCheung Chi-Sing    Sparse[int32, 0]\n",
      "crew_\\tJiang Jun          Sparse[int32, 0]\n",
      "crew_\\tMak Tin-Shu        Sparse[int32, 0]\n",
      "crew_\\tPertti Pasanen     Sparse[int32, 0]\n",
      "                                ...       \n",
      "crew_진모영                  Sparse[int32, 0]\n",
      "crew_최광식                  Sparse[int32, 0]\n",
      "crew_최세연                  Sparse[int32, 0]\n",
      "crew_한소현                  Sparse[int32, 0]\n",
      "crew_허종호                  Sparse[int32, 0]\n",
      "Length: 157615, dtype: object\n"
     ]
    }
   ],
   "source": [
    "print(learning_movies_credits.dtypes)"
   ],
   "metadata": {
    "collapsed": false,
    "ExecuteTime": {
     "end_time": "2025-03-05T07:47:37.272121300Z",
     "start_time": "2025-03-05T07:47:37.101781Z"
    }
   }
  },
  {
   "cell_type": "code",
   "execution_count": 10,
   "outputs": [],
   "source": [
    "common_ids = set(learning_movies_metadata['id']).intersection(learning_movies_credits['id'].astype(str))\n",
    "learning_movies_metadata = learning_movies_metadata[learning_movies_metadata['id'].isin(common_ids)]\n",
    "learning_movies_credits = learning_movies_credits[learning_movies_credits['id'].isin(common_ids)]"
   ],
   "metadata": {
    "collapsed": false,
    "ExecuteTime": {
     "end_time": "2025-03-05T07:45:36.493225100Z",
     "start_time": "2025-03-05T07:45:34.820668Z"
    }
   }
  },
  {
   "cell_type": "code",
   "execution_count": 11,
   "outputs": [],
   "source": [
    "learning_movies_combined = pd.merge(learning_movies_metadata, learning_movies_credits, on='id', how='inner')"
   ],
   "metadata": {
    "collapsed": false,
    "ExecuteTime": {
     "end_time": "2025-03-05T07:46:53.535705200Z",
     "start_time": "2025-03-05T07:45:36.493225100Z"
    }
   }
  },
  {
   "cell_type": "code",
   "execution_count": 15,
   "outputs": [],
   "source": [
    "learning_movies_credits['vote_average'] = learning_movies_metadata['vote_average']"
   ],
   "metadata": {
    "collapsed": false,
    "ExecuteTime": {
     "end_time": "2025-03-05T07:50:37.706710200Z",
     "start_time": "2025-03-05T07:50:37.681333800Z"
    }
   }
  },
  {
   "cell_type": "code",
   "execution_count": 16,
   "outputs": [],
   "source": [
    "def write_dfs_as_csv(dfs):\n",
    "    for filename, df in dfs.items():\n",
    "        file_path = datasets_path + movies_path + processed_path + filename\n",
    "        df.to_csv(file_path, index=False)"
   ],
   "metadata": {
    "collapsed": false,
    "ExecuteTime": {
     "end_time": "2025-03-05T07:50:43.408735900Z",
     "start_time": "2025-03-05T07:50:43.405223100Z"
    }
   }
  },
  {
   "cell_type": "code",
   "execution_count": 17,
   "outputs": [
    {
     "ename": "KeyboardInterrupt",
     "evalue": "",
     "output_type": "error",
     "traceback": [
      "\u001B[31m---------------------------------------------------------------------------\u001B[39m",
      "\u001B[31mKeyboardInterrupt\u001B[39m                         Traceback (most recent call last)",
      "\u001B[36mCell\u001B[39m\u001B[36m \u001B[39m\u001B[32mIn[17]\u001B[39m\u001B[32m, line 1\u001B[39m\n\u001B[32m----> \u001B[39m\u001B[32m1\u001B[39m write_dfs_as_csv(dfs=\n\u001B[32m      2\u001B[39m {\n\u001B[32m      3\u001B[39m     \u001B[38;5;66;03m# '/eda_movies_metadata.csv':eda_movies_metadata,\u001B[39;00m\n\u001B[32m      4\u001B[39m     \u001B[38;5;66;03m# '/learning_movies_metadata.csv':learning_movies_metadata,\u001B[39;00m\n\u001B[32m      5\u001B[39m     \u001B[33m'\u001B[39m\u001B[33m/learning_movies_credits.csv\u001B[39m\u001B[33m'\u001B[39m:learning_movies_credits,\n\u001B[32m      6\u001B[39m     \u001B[38;5;66;03m# '/learning_movies_combined.csv':learning_movies_combined,\u001B[39;00m\n\u001B[32m      7\u001B[39m })\n",
      "\u001B[36mCell\u001B[39m\u001B[36m \u001B[39m\u001B[32mIn[16]\u001B[39m\u001B[32m, line 4\u001B[39m, in \u001B[36mwrite_dfs_as_csv\u001B[39m\u001B[34m(dfs)\u001B[39m\n\u001B[32m      2\u001B[39m \u001B[38;5;28;01mfor\u001B[39;00m filename, df \u001B[38;5;129;01min\u001B[39;00m dfs.items():\n\u001B[32m      3\u001B[39m     file_path = datasets_path + movies_path + processed_path + filename\n\u001B[32m----> \u001B[39m\u001B[32m4\u001B[39m     df.to_csv(file_path, index=\u001B[38;5;28;01mFalse\u001B[39;00m)\n",
      "\u001B[36mFile \u001B[39m\u001B[32m~\\dev\\tabular-ds-project\\venv\\Lib\\site-packages\\pandas\\core\\generic.py:3902\u001B[39m, in \u001B[36mNDFrame.to_csv\u001B[39m\u001B[34m(self, path_or_buf, sep, na_rep, float_format, columns, header, index, index_label, mode, encoding, compression, quoting, quotechar, lineterminator, chunksize, date_format, doublequote, escapechar, decimal, errors, storage_options)\u001B[39m\n\u001B[32m   3891\u001B[39m df = \u001B[38;5;28mself\u001B[39m \u001B[38;5;28;01mif\u001B[39;00m \u001B[38;5;28misinstance\u001B[39m(\u001B[38;5;28mself\u001B[39m, ABCDataFrame) \u001B[38;5;28;01melse\u001B[39;00m \u001B[38;5;28mself\u001B[39m.to_frame()\n\u001B[32m   3893\u001B[39m formatter = DataFrameFormatter(\n\u001B[32m   3894\u001B[39m     frame=df,\n\u001B[32m   3895\u001B[39m     header=header,\n\u001B[32m   (...)\u001B[39m\u001B[32m   3899\u001B[39m     decimal=decimal,\n\u001B[32m   3900\u001B[39m )\n\u001B[32m-> \u001B[39m\u001B[32m3902\u001B[39m \u001B[38;5;28;01mreturn\u001B[39;00m DataFrameRenderer(formatter).to_csv(\n\u001B[32m   3903\u001B[39m     path_or_buf,\n\u001B[32m   3904\u001B[39m     lineterminator=lineterminator,\n\u001B[32m   3905\u001B[39m     sep=sep,\n\u001B[32m   3906\u001B[39m     encoding=encoding,\n\u001B[32m   3907\u001B[39m     errors=errors,\n\u001B[32m   3908\u001B[39m     compression=compression,\n\u001B[32m   3909\u001B[39m     quoting=quoting,\n\u001B[32m   3910\u001B[39m     columns=columns,\n\u001B[32m   3911\u001B[39m     index_label=index_label,\n\u001B[32m   3912\u001B[39m     mode=mode,\n\u001B[32m   3913\u001B[39m     chunksize=chunksize,\n\u001B[32m   3914\u001B[39m     quotechar=quotechar,\n\u001B[32m   3915\u001B[39m     date_format=date_format,\n\u001B[32m   3916\u001B[39m     doublequote=doublequote,\n\u001B[32m   3917\u001B[39m     escapechar=escapechar,\n\u001B[32m   3918\u001B[39m     storage_options=storage_options,\n\u001B[32m   3919\u001B[39m )\n",
      "\u001B[36mFile \u001B[39m\u001B[32m~\\dev\\tabular-ds-project\\venv\\Lib\\site-packages\\pandas\\io\\formats\\format.py:1152\u001B[39m, in \u001B[36mDataFrameRenderer.to_csv\u001B[39m\u001B[34m(self, path_or_buf, encoding, sep, columns, index_label, mode, compression, quoting, quotechar, lineterminator, chunksize, date_format, doublequote, escapechar, errors, storage_options)\u001B[39m\n\u001B[32m   1131\u001B[39m     created_buffer = \u001B[38;5;28;01mFalse\u001B[39;00m\n\u001B[32m   1133\u001B[39m csv_formatter = CSVFormatter(\n\u001B[32m   1134\u001B[39m     path_or_buf=path_or_buf,\n\u001B[32m   1135\u001B[39m     lineterminator=lineterminator,\n\u001B[32m   (...)\u001B[39m\u001B[32m   1150\u001B[39m     formatter=\u001B[38;5;28mself\u001B[39m.fmt,\n\u001B[32m   1151\u001B[39m )\n\u001B[32m-> \u001B[39m\u001B[32m1152\u001B[39m csv_formatter.save()\n\u001B[32m   1154\u001B[39m \u001B[38;5;28;01mif\u001B[39;00m created_buffer:\n\u001B[32m   1155\u001B[39m     \u001B[38;5;28;01massert\u001B[39;00m \u001B[38;5;28misinstance\u001B[39m(path_or_buf, StringIO)\n",
      "\u001B[36mFile \u001B[39m\u001B[32m~\\dev\\tabular-ds-project\\venv\\Lib\\site-packages\\pandas\\io\\formats\\csvs.py:266\u001B[39m, in \u001B[36mCSVFormatter.save\u001B[39m\u001B[34m(self)\u001B[39m\n\u001B[32m    247\u001B[39m \u001B[38;5;28;01mwith\u001B[39;00m get_handle(\n\u001B[32m    248\u001B[39m     \u001B[38;5;28mself\u001B[39m.filepath_or_buffer,\n\u001B[32m    249\u001B[39m     \u001B[38;5;28mself\u001B[39m.mode,\n\u001B[32m   (...)\u001B[39m\u001B[32m    254\u001B[39m ) \u001B[38;5;28;01mas\u001B[39;00m handles:\n\u001B[32m    255\u001B[39m     \u001B[38;5;66;03m# Note: self.encoding is irrelevant here\u001B[39;00m\n\u001B[32m    256\u001B[39m     \u001B[38;5;28mself\u001B[39m.writer = csvlib.writer(\n\u001B[32m    257\u001B[39m         handles.handle,\n\u001B[32m    258\u001B[39m         lineterminator=\u001B[38;5;28mself\u001B[39m.lineterminator,\n\u001B[32m   (...)\u001B[39m\u001B[32m    263\u001B[39m         quotechar=\u001B[38;5;28mself\u001B[39m.quotechar,\n\u001B[32m    264\u001B[39m     )\n\u001B[32m--> \u001B[39m\u001B[32m266\u001B[39m     \u001B[38;5;28mself\u001B[39m._save()\n",
      "\u001B[36mFile \u001B[39m\u001B[32m~\\dev\\tabular-ds-project\\venv\\Lib\\site-packages\\pandas\\io\\formats\\csvs.py:271\u001B[39m, in \u001B[36mCSVFormatter._save\u001B[39m\u001B[34m(self)\u001B[39m\n\u001B[32m    269\u001B[39m \u001B[38;5;28;01mif\u001B[39;00m \u001B[38;5;28mself\u001B[39m._need_to_save_header:\n\u001B[32m    270\u001B[39m     \u001B[38;5;28mself\u001B[39m._save_header()\n\u001B[32m--> \u001B[39m\u001B[32m271\u001B[39m \u001B[38;5;28mself\u001B[39m._save_body()\n",
      "\u001B[36mFile \u001B[39m\u001B[32m~\\dev\\tabular-ds-project\\venv\\Lib\\site-packages\\pandas\\io\\formats\\csvs.py:309\u001B[39m, in \u001B[36mCSVFormatter._save_body\u001B[39m\u001B[34m(self)\u001B[39m\n\u001B[32m    307\u001B[39m \u001B[38;5;28;01mif\u001B[39;00m start_i >= end_i:\n\u001B[32m    308\u001B[39m     \u001B[38;5;28;01mbreak\u001B[39;00m\n\u001B[32m--> \u001B[39m\u001B[32m309\u001B[39m \u001B[38;5;28mself\u001B[39m._save_chunk(start_i, end_i)\n",
      "\u001B[36mFile \u001B[39m\u001B[32m~\\dev\\tabular-ds-project\\venv\\Lib\\site-packages\\pandas\\io\\formats\\csvs.py:316\u001B[39m, in \u001B[36mCSVFormatter._save_chunk\u001B[39m\u001B[34m(self, start_i, end_i)\u001B[39m\n\u001B[32m    313\u001B[39m slicer = \u001B[38;5;28mslice\u001B[39m(start_i, end_i)\n\u001B[32m    314\u001B[39m df = \u001B[38;5;28mself\u001B[39m.obj.iloc[slicer]\n\u001B[32m--> \u001B[39m\u001B[32m316\u001B[39m res = df._mgr.to_native_types(**\u001B[38;5;28mself\u001B[39m._number_format)\n\u001B[32m    317\u001B[39m data = [res.iget_values(i) \u001B[38;5;28;01mfor\u001B[39;00m i \u001B[38;5;129;01min\u001B[39;00m \u001B[38;5;28mrange\u001B[39m(\u001B[38;5;28mlen\u001B[39m(res.items))]\n\u001B[32m    319\u001B[39m ix = \u001B[38;5;28mself\u001B[39m.data_index[slicer]._format_native_types(**\u001B[38;5;28mself\u001B[39m._number_format)\n",
      "\u001B[36mFile \u001B[39m\u001B[32m~\\dev\\tabular-ds-project\\venv\\Lib\\site-packages\\pandas\\core\\internals\\managers.py:438\u001B[39m, in \u001B[36mBaseBlockManager.to_native_types\u001B[39m\u001B[34m(self, **kwargs)\u001B[39m\n\u001B[32m    433\u001B[39m \u001B[38;5;28;01mdef\u001B[39;00m\u001B[38;5;250m \u001B[39m\u001B[34mto_native_types\u001B[39m(\u001B[38;5;28mself\u001B[39m, **kwargs) -> Self:\n\u001B[32m    434\u001B[39m \u001B[38;5;250m    \u001B[39m\u001B[33;03m\"\"\"\u001B[39;00m\n\u001B[32m    435\u001B[39m \u001B[33;03m    Convert values to native types (strings / python objects) that are used\u001B[39;00m\n\u001B[32m    436\u001B[39m \u001B[33;03m    in formatting (repr / csv).\u001B[39;00m\n\u001B[32m    437\u001B[39m \u001B[33;03m    \"\"\"\u001B[39;00m\n\u001B[32m--> \u001B[39m\u001B[32m438\u001B[39m     \u001B[38;5;28;01mreturn\u001B[39;00m \u001B[38;5;28mself\u001B[39m.apply(\u001B[33m\"\u001B[39m\u001B[33mto_native_types\u001B[39m\u001B[33m\"\u001B[39m, **kwargs)\n",
      "\u001B[36mFile \u001B[39m\u001B[32m~\\dev\\tabular-ds-project\\venv\\Lib\\site-packages\\pandas\\core\\internals\\managers.py:354\u001B[39m, in \u001B[36mBaseBlockManager.apply\u001B[39m\u001B[34m(self, f, align_keys, **kwargs)\u001B[39m\n\u001B[32m    352\u001B[39m         applied = b.apply(f, **kwargs)\n\u001B[32m    353\u001B[39m     \u001B[38;5;28;01melse\u001B[39;00m:\n\u001B[32m--> \u001B[39m\u001B[32m354\u001B[39m         applied = \u001B[38;5;28mgetattr\u001B[39m(b, f)(**kwargs)\n\u001B[32m    355\u001B[39m     result_blocks = extend_blocks(applied, result_blocks)\n\u001B[32m    357\u001B[39m out = \u001B[38;5;28mtype\u001B[39m(\u001B[38;5;28mself\u001B[39m).from_blocks(result_blocks, \u001B[38;5;28mself\u001B[39m.axes)\n",
      "\u001B[36mFile \u001B[39m\u001B[32m~\\dev\\tabular-ds-project\\venv\\Lib\\site-packages\\pandas\\core\\internals\\blocks.py:636\u001B[39m, in \u001B[36mBlock.to_native_types\u001B[39m\u001B[34m(self, na_rep, quoting, **kwargs)\u001B[39m\n\u001B[32m    633\u001B[39m \u001B[38;5;129m@final\u001B[39m\n\u001B[32m    634\u001B[39m \u001B[38;5;28;01mdef\u001B[39;00m\u001B[38;5;250m \u001B[39m\u001B[34mto_native_types\u001B[39m(\u001B[38;5;28mself\u001B[39m, na_rep: \u001B[38;5;28mstr\u001B[39m = \u001B[33m\"\u001B[39m\u001B[33mnan\u001B[39m\u001B[33m\"\u001B[39m, quoting=\u001B[38;5;28;01mNone\u001B[39;00m, **kwargs) -> Block:\n\u001B[32m    635\u001B[39m \u001B[38;5;250m    \u001B[39m\u001B[33;03m\"\"\"convert to our native types format\"\"\"\u001B[39;00m\n\u001B[32m--> \u001B[39m\u001B[32m636\u001B[39m     result = to_native_types(\u001B[38;5;28mself\u001B[39m.values, na_rep=na_rep, quoting=quoting, **kwargs)\n\u001B[32m    637\u001B[39m     \u001B[38;5;28;01mreturn\u001B[39;00m \u001B[38;5;28mself\u001B[39m.make_block(result)\n",
      "\u001B[36mFile \u001B[39m\u001B[32m~\\dev\\tabular-ds-project\\venv\\Lib\\site-packages\\pandas\\core\\internals\\blocks.py:2563\u001B[39m, in \u001B[36mto_native_types\u001B[39m\u001B[34m(values, na_rep, quoting, float_format, decimal, **kwargs)\u001B[39m\n\u001B[32m   2560\u001B[39m     \u001B[38;5;28;01mreturn\u001B[39;00m res\n\u001B[32m   2562\u001B[39m \u001B[38;5;28;01melif\u001B[39;00m \u001B[38;5;28misinstance\u001B[39m(values, ExtensionArray):\n\u001B[32m-> \u001B[39m\u001B[32m2563\u001B[39m     mask = isna(values)\n\u001B[32m   2565\u001B[39m     new_values = np.asarray(values.astype(\u001B[38;5;28mobject\u001B[39m))\n\u001B[32m   2566\u001B[39m     new_values[mask] = na_rep\n",
      "\u001B[36mFile \u001B[39m\u001B[32m~\\dev\\tabular-ds-project\\venv\\Lib\\site-packages\\pandas\\core\\dtypes\\missing.py:178\u001B[39m, in \u001B[36misna\u001B[39m\u001B[34m(obj)\u001B[39m\n\u001B[32m    101\u001B[39m \u001B[38;5;28;01mdef\u001B[39;00m\u001B[38;5;250m \u001B[39m\u001B[34misna\u001B[39m(obj: \u001B[38;5;28mobject\u001B[39m) -> \u001B[38;5;28mbool\u001B[39m | npt.NDArray[np.bool_] | NDFrame:\n\u001B[32m    102\u001B[39m \u001B[38;5;250m    \u001B[39m\u001B[33;03m\"\"\"\u001B[39;00m\n\u001B[32m    103\u001B[39m \u001B[33;03m    Detect missing values for an array-like object.\u001B[39;00m\n\u001B[32m    104\u001B[39m \n\u001B[32m   (...)\u001B[39m\u001B[32m    176\u001B[39m \u001B[33;03m    Name: 1, dtype: bool\u001B[39;00m\n\u001B[32m    177\u001B[39m \u001B[33;03m    \"\"\"\u001B[39;00m\n\u001B[32m--> \u001B[39m\u001B[32m178\u001B[39m     \u001B[38;5;28;01mreturn\u001B[39;00m _isna(obj)\n",
      "\u001B[36mFile \u001B[39m\u001B[32m~\\dev\\tabular-ds-project\\venv\\Lib\\site-packages\\pandas\\core\\dtypes\\missing.py:207\u001B[39m, in \u001B[36m_isna\u001B[39m\u001B[34m(obj, inf_as_na)\u001B[39m\n\u001B[32m    205\u001B[39m     \u001B[38;5;28;01mreturn\u001B[39;00m \u001B[38;5;28;01mFalse\u001B[39;00m\n\u001B[32m    206\u001B[39m \u001B[38;5;28;01melif\u001B[39;00m \u001B[38;5;28misinstance\u001B[39m(obj, (np.ndarray, ABCExtensionArray)):\n\u001B[32m--> \u001B[39m\u001B[32m207\u001B[39m     \u001B[38;5;28;01mreturn\u001B[39;00m _isna_array(obj, inf_as_na=inf_as_na)\n\u001B[32m    208\u001B[39m \u001B[38;5;28;01melif\u001B[39;00m \u001B[38;5;28misinstance\u001B[39m(obj, ABCIndex):\n\u001B[32m    209\u001B[39m     \u001B[38;5;66;03m# Try to use cached isna, which also short-circuits for integer dtypes\u001B[39;00m\n\u001B[32m    210\u001B[39m     \u001B[38;5;66;03m#  and avoids materializing RangeIndex._values\u001B[39;00m\n\u001B[32m    211\u001B[39m     \u001B[38;5;28;01mif\u001B[39;00m \u001B[38;5;129;01mnot\u001B[39;00m obj._can_hold_na:\n",
      "\u001B[36mFile \u001B[39m\u001B[32m~\\dev\\tabular-ds-project\\venv\\Lib\\site-packages\\pandas\\core\\dtypes\\missing.py:287\u001B[39m, in \u001B[36m_isna_array\u001B[39m\u001B[34m(values, inf_as_na)\u001B[39m\n\u001B[32m    282\u001B[39m         result = libmissing.isnaobj(values.to_numpy(), inf_as_na=inf_as_na)\n\u001B[32m    283\u001B[39m     \u001B[38;5;28;01melse\u001B[39;00m:\n\u001B[32m    284\u001B[39m         \u001B[38;5;66;03m# error: Incompatible types in assignment (expression has type\u001B[39;00m\n\u001B[32m    285\u001B[39m         \u001B[38;5;66;03m# \"Union[ndarray[Any, Any], ExtensionArraySupportsAnyAll]\", variable has\u001B[39;00m\n\u001B[32m    286\u001B[39m         \u001B[38;5;66;03m# type \"ndarray[Any, dtype[bool_]]\")\u001B[39;00m\n\u001B[32m--> \u001B[39m\u001B[32m287\u001B[39m         result = values.isna()  \u001B[38;5;66;03m# type: ignore[assignment]\u001B[39;00m\n\u001B[32m    288\u001B[39m \u001B[38;5;28;01melif\u001B[39;00m \u001B[38;5;28misinstance\u001B[39m(values, np.rec.recarray):\n\u001B[32m    289\u001B[39m     \u001B[38;5;66;03m# GH 48526\u001B[39;00m\n\u001B[32m    290\u001B[39m     result = _isna_recarray_dtype(values, inf_as_na=inf_as_na)\n",
      "\u001B[36mFile \u001B[39m\u001B[32m~\\dev\\tabular-ds-project\\venv\\Lib\\site-packages\\pandas\\core\\arrays\\sparse\\array.py:713\u001B[39m, in \u001B[36mSparseArray.isna\u001B[39m\u001B[34m(self)\u001B[39m\n\u001B[32m    711\u001B[39m mask = np.full(\u001B[38;5;28mlen\u001B[39m(\u001B[38;5;28mself\u001B[39m), \u001B[38;5;28;01mFalse\u001B[39;00m, dtype=np.bool_)\n\u001B[32m    712\u001B[39m mask[\u001B[38;5;28mself\u001B[39m.sp_index.indices] = isna(\u001B[38;5;28mself\u001B[39m.sp_values)\n\u001B[32m--> \u001B[39m\u001B[32m713\u001B[39m \u001B[38;5;28;01mreturn\u001B[39;00m \u001B[38;5;28mtype\u001B[39m(\u001B[38;5;28mself\u001B[39m)(mask, fill_value=\u001B[38;5;28;01mFalse\u001B[39;00m, dtype=dtype)\n",
      "\u001B[36mFile \u001B[39m\u001B[32m~\\dev\\tabular-ds-project\\venv\\Lib\\site-packages\\pandas\\core\\arrays\\sparse\\array.py:474\u001B[39m, in \u001B[36mSparseArray.__init__\u001B[39m\u001B[34m(self, data, sparse_index, fill_value, kind, dtype, copy)\u001B[39m\n\u001B[32m    472\u001B[39m                 fill_value = np.datetime64(\u001B[33m\"\u001B[39m\u001B[33mNaT\u001B[39m\u001B[33m\"\u001B[39m, \u001B[33m\"\u001B[39m\u001B[33mns\u001B[39m\u001B[33m\"\u001B[39m)\n\u001B[32m    473\u001B[39m         data = np.asarray(data)\n\u001B[32m--> \u001B[39m\u001B[32m474\u001B[39m     sparse_values, sparse_index, fill_value = _make_sparse(\n\u001B[32m    475\u001B[39m         \u001B[38;5;66;03m# error: Argument \"dtype\" to \"_make_sparse\" has incompatible type\u001B[39;00m\n\u001B[32m    476\u001B[39m         \u001B[38;5;66;03m# \"Union[ExtensionDtype, dtype[Any], None]\"; expected\u001B[39;00m\n\u001B[32m    477\u001B[39m         \u001B[38;5;66;03m# \"Optional[dtype[Any]]\"\u001B[39;00m\n\u001B[32m    478\u001B[39m         data,\n\u001B[32m    479\u001B[39m         kind=kind,\n\u001B[32m    480\u001B[39m         fill_value=fill_value,\n\u001B[32m    481\u001B[39m         dtype=dtype,  \u001B[38;5;66;03m# type: ignore[arg-type]\u001B[39;00m\n\u001B[32m    482\u001B[39m     )\n\u001B[32m    483\u001B[39m \u001B[38;5;28;01melse\u001B[39;00m:\n\u001B[32m    484\u001B[39m     \u001B[38;5;66;03m# error: Argument \"dtype\" to \"asarray\" has incompatible type\u001B[39;00m\n\u001B[32m    485\u001B[39m     \u001B[38;5;66;03m# \"Union[ExtensionDtype, dtype[Any], None]\"; expected \"None\"\u001B[39;00m\n\u001B[32m    486\u001B[39m     sparse_values = np.asarray(data, dtype=dtype)  \u001B[38;5;66;03m# type: ignore[arg-type]\u001B[39;00m\n",
      "\u001B[36mFile \u001B[39m\u001B[32m~\\dev\\tabular-ds-project\\venv\\Lib\\site-packages\\pandas\\core\\arrays\\sparse\\array.py:1876\u001B[39m, in \u001B[36m_make_sparse\u001B[39m\u001B[34m(arr, kind, fill_value, dtype)\u001B[39m\n\u001B[32m   1874\u001B[39m     indices = mask.sp_index.indices\n\u001B[32m   1875\u001B[39m \u001B[38;5;28;01melse\u001B[39;00m:\n\u001B[32m-> \u001B[39m\u001B[32m1876\u001B[39m     indices = mask.nonzero()[\u001B[32m0\u001B[39m].astype(np.int32)\n\u001B[32m   1878\u001B[39m index = make_sparse_index(length, indices, kind)\n\u001B[32m   1879\u001B[39m sparsified_values = arr[mask]\n",
      "\u001B[31mKeyboardInterrupt\u001B[39m: "
     ]
    }
   ],
   "source": [
    "write_dfs_as_csv(dfs=\n",
    "{\n",
    "    '/eda_movies_metadata.csv':eda_movies_metadata,\n",
    "    '/learning_movies_metadata.csv':learning_movies_metadata,\n",
    "    # '/learning_movies_credits.csv':learning_movies_credits,\n",
    "    # '/learning_movies_combined.csv':learning_movies_combined,\n",
    "})"
   ],
   "metadata": {
    "collapsed": false,
    "ExecuteTime": {
     "end_time": "2025-03-05T07:53:41.706048100Z",
     "start_time": "2025-03-05T07:50:54.467795800Z"
    }
   }
  },
  {
   "cell_type": "code",
   "execution_count": 13,
   "outputs": [
    {
     "data": {
      "text/plain": "       adult    budget      id    imdb_id original_language  \\\n0      False  30000000     862  tt0114709                en   \n1      False  65000000    8844  tt0113497                en   \n2      False         0   15602  tt0113228                en   \n3      False  16000000   31357  tt0114885                en   \n4      False         0   11862  tt0113041                en   \n...      ...       ...     ...        ...               ...   \n45533  False         0  439050  tt6209470                fa   \n45534  False         0  111109  tt2028550                tl   \n45535  False         0   67758  tt0303758                en   \n45536  False         0  227506  tt0008536                en   \n45537  False         0  461257  tt6980792                en   \n\n                    original_title popularity release_date      revenue  \\\n0                        Toy Story  21.946943   1995-10-30  373554033.0   \n1                          Jumanji  17.015539   1995-12-15  262797249.0   \n2                 Grumpier Old Men    11.7129   1995-12-22          0.0   \n3                Waiting to Exhale   3.859495   1995-12-22   81452156.0   \n4      Father of the Bride Part II   8.387519   1995-02-10   76578911.0   \n...                            ...        ...          ...          ...   \n45533                      رگ خواب   0.072051          NaN          0.0   \n45534          Siglo ng Pagluluwal   0.178241   2011-11-17          0.0   \n45535                     Betrayal   0.903007   2003-08-01          0.0   \n45536          Satana likuyushchiy   0.003503   1917-10-21          0.0   \n45537                     Queerama   0.163015   2017-06-09          0.0   \n\n       runtime  ... crew_정성철 crew_정아연 crew_조윤진  crew_조진아  crew_조희란  crew_진모영  \\\n0         81.0  ...        0        0        0         0         0         0   \n1        104.0  ...        0        0        0         0         0         0   \n2        101.0  ...        0        0        0         0         0         0   \n3        127.0  ...        0        0        0         0         0         0   \n4        106.0  ...        0        0        0         0         0         0   \n...        ...  ...      ...      ...      ...       ...       ...       ...   \n45533     90.0  ...        0        0        0         0         0         0   \n45534    360.0  ...        0        0        0         0         0         0   \n45535     90.0  ...        0        0        0         0         0         0   \n45536     87.0  ...        0        0        0         0         0         0   \n45537     75.0  ...        0        0        0         0         0         0   \n\n       crew_최광식  crew_최세연  crew_한소현  crew_허종호  \n0             0         0         0         0  \n1             0         0         0         0  \n2             0         0         0         0  \n3             0         0         0         0  \n4             0         0         0         0  \n...         ...       ...       ...       ...  \n45533         0         0         0         0  \n45534         0         0         0         0  \n45535         0         0         0         0  \n45536         0         0         0         0  \n45537         0         0         0         0  \n\n[45538 rows x 157736 columns]",
      "text/html": "<div>\n<style scoped>\n    .dataframe tbody tr th:only-of-type {\n        vertical-align: middle;\n    }\n\n    .dataframe tbody tr th {\n        vertical-align: top;\n    }\n\n    .dataframe thead th {\n        text-align: right;\n    }\n</style>\n<table border=\"1\" class=\"dataframe\">\n  <thead>\n    <tr style=\"text-align: right;\">\n      <th></th>\n      <th>adult</th>\n      <th>budget</th>\n      <th>id</th>\n      <th>imdb_id</th>\n      <th>original_language</th>\n      <th>original_title</th>\n      <th>popularity</th>\n      <th>release_date</th>\n      <th>revenue</th>\n      <th>runtime</th>\n      <th>...</th>\n      <th>crew_정성철</th>\n      <th>crew_정아연</th>\n      <th>crew_조윤진</th>\n      <th>crew_조진아</th>\n      <th>crew_조희란</th>\n      <th>crew_진모영</th>\n      <th>crew_최광식</th>\n      <th>crew_최세연</th>\n      <th>crew_한소현</th>\n      <th>crew_허종호</th>\n    </tr>\n  </thead>\n  <tbody>\n    <tr>\n      <th>0</th>\n      <td>False</td>\n      <td>30000000</td>\n      <td>862</td>\n      <td>tt0114709</td>\n      <td>en</td>\n      <td>Toy Story</td>\n      <td>21.946943</td>\n      <td>1995-10-30</td>\n      <td>373554033.0</td>\n      <td>81.0</td>\n      <td>...</td>\n      <td>0</td>\n      <td>0</td>\n      <td>0</td>\n      <td>0</td>\n      <td>0</td>\n      <td>0</td>\n      <td>0</td>\n      <td>0</td>\n      <td>0</td>\n      <td>0</td>\n    </tr>\n    <tr>\n      <th>1</th>\n      <td>False</td>\n      <td>65000000</td>\n      <td>8844</td>\n      <td>tt0113497</td>\n      <td>en</td>\n      <td>Jumanji</td>\n      <td>17.015539</td>\n      <td>1995-12-15</td>\n      <td>262797249.0</td>\n      <td>104.0</td>\n      <td>...</td>\n      <td>0</td>\n      <td>0</td>\n      <td>0</td>\n      <td>0</td>\n      <td>0</td>\n      <td>0</td>\n      <td>0</td>\n      <td>0</td>\n      <td>0</td>\n      <td>0</td>\n    </tr>\n    <tr>\n      <th>2</th>\n      <td>False</td>\n      <td>0</td>\n      <td>15602</td>\n      <td>tt0113228</td>\n      <td>en</td>\n      <td>Grumpier Old Men</td>\n      <td>11.7129</td>\n      <td>1995-12-22</td>\n      <td>0.0</td>\n      <td>101.0</td>\n      <td>...</td>\n      <td>0</td>\n      <td>0</td>\n      <td>0</td>\n      <td>0</td>\n      <td>0</td>\n      <td>0</td>\n      <td>0</td>\n      <td>0</td>\n      <td>0</td>\n      <td>0</td>\n    </tr>\n    <tr>\n      <th>3</th>\n      <td>False</td>\n      <td>16000000</td>\n      <td>31357</td>\n      <td>tt0114885</td>\n      <td>en</td>\n      <td>Waiting to Exhale</td>\n      <td>3.859495</td>\n      <td>1995-12-22</td>\n      <td>81452156.0</td>\n      <td>127.0</td>\n      <td>...</td>\n      <td>0</td>\n      <td>0</td>\n      <td>0</td>\n      <td>0</td>\n      <td>0</td>\n      <td>0</td>\n      <td>0</td>\n      <td>0</td>\n      <td>0</td>\n      <td>0</td>\n    </tr>\n    <tr>\n      <th>4</th>\n      <td>False</td>\n      <td>0</td>\n      <td>11862</td>\n      <td>tt0113041</td>\n      <td>en</td>\n      <td>Father of the Bride Part II</td>\n      <td>8.387519</td>\n      <td>1995-02-10</td>\n      <td>76578911.0</td>\n      <td>106.0</td>\n      <td>...</td>\n      <td>0</td>\n      <td>0</td>\n      <td>0</td>\n      <td>0</td>\n      <td>0</td>\n      <td>0</td>\n      <td>0</td>\n      <td>0</td>\n      <td>0</td>\n      <td>0</td>\n    </tr>\n    <tr>\n      <th>...</th>\n      <td>...</td>\n      <td>...</td>\n      <td>...</td>\n      <td>...</td>\n      <td>...</td>\n      <td>...</td>\n      <td>...</td>\n      <td>...</td>\n      <td>...</td>\n      <td>...</td>\n      <td>...</td>\n      <td>...</td>\n      <td>...</td>\n      <td>...</td>\n      <td>...</td>\n      <td>...</td>\n      <td>...</td>\n      <td>...</td>\n      <td>...</td>\n      <td>...</td>\n      <td>...</td>\n    </tr>\n    <tr>\n      <th>45533</th>\n      <td>False</td>\n      <td>0</td>\n      <td>439050</td>\n      <td>tt6209470</td>\n      <td>fa</td>\n      <td>رگ خواب</td>\n      <td>0.072051</td>\n      <td>NaN</td>\n      <td>0.0</td>\n      <td>90.0</td>\n      <td>...</td>\n      <td>0</td>\n      <td>0</td>\n      <td>0</td>\n      <td>0</td>\n      <td>0</td>\n      <td>0</td>\n      <td>0</td>\n      <td>0</td>\n      <td>0</td>\n      <td>0</td>\n    </tr>\n    <tr>\n      <th>45534</th>\n      <td>False</td>\n      <td>0</td>\n      <td>111109</td>\n      <td>tt2028550</td>\n      <td>tl</td>\n      <td>Siglo ng Pagluluwal</td>\n      <td>0.178241</td>\n      <td>2011-11-17</td>\n      <td>0.0</td>\n      <td>360.0</td>\n      <td>...</td>\n      <td>0</td>\n      <td>0</td>\n      <td>0</td>\n      <td>0</td>\n      <td>0</td>\n      <td>0</td>\n      <td>0</td>\n      <td>0</td>\n      <td>0</td>\n      <td>0</td>\n    </tr>\n    <tr>\n      <th>45535</th>\n      <td>False</td>\n      <td>0</td>\n      <td>67758</td>\n      <td>tt0303758</td>\n      <td>en</td>\n      <td>Betrayal</td>\n      <td>0.903007</td>\n      <td>2003-08-01</td>\n      <td>0.0</td>\n      <td>90.0</td>\n      <td>...</td>\n      <td>0</td>\n      <td>0</td>\n      <td>0</td>\n      <td>0</td>\n      <td>0</td>\n      <td>0</td>\n      <td>0</td>\n      <td>0</td>\n      <td>0</td>\n      <td>0</td>\n    </tr>\n    <tr>\n      <th>45536</th>\n      <td>False</td>\n      <td>0</td>\n      <td>227506</td>\n      <td>tt0008536</td>\n      <td>en</td>\n      <td>Satana likuyushchiy</td>\n      <td>0.003503</td>\n      <td>1917-10-21</td>\n      <td>0.0</td>\n      <td>87.0</td>\n      <td>...</td>\n      <td>0</td>\n      <td>0</td>\n      <td>0</td>\n      <td>0</td>\n      <td>0</td>\n      <td>0</td>\n      <td>0</td>\n      <td>0</td>\n      <td>0</td>\n      <td>0</td>\n    </tr>\n    <tr>\n      <th>45537</th>\n      <td>False</td>\n      <td>0</td>\n      <td>461257</td>\n      <td>tt6980792</td>\n      <td>en</td>\n      <td>Queerama</td>\n      <td>0.163015</td>\n      <td>2017-06-09</td>\n      <td>0.0</td>\n      <td>75.0</td>\n      <td>...</td>\n      <td>0</td>\n      <td>0</td>\n      <td>0</td>\n      <td>0</td>\n      <td>0</td>\n      <td>0</td>\n      <td>0</td>\n      <td>0</td>\n      <td>0</td>\n      <td>0</td>\n    </tr>\n  </tbody>\n</table>\n<p>45538 rows × 157736 columns</p>\n</div>"
     },
     "execution_count": 13,
     "metadata": {},
     "output_type": "execute_result"
    }
   ],
   "source": [
    "learning_movies_combined"
   ],
   "metadata": {
    "collapsed": false,
    "ExecuteTime": {
     "end_time": "2025-03-05T07:49:41.744408400Z",
     "start_time": "2025-03-05T07:49:41.583670800Z"
    }
   }
  },
  {
   "cell_type": "code",
   "execution_count": null,
   "outputs": [],
   "source": [
    "for col in learning_movies_combined.select_dtypes(include=[\"number\"]).columns:\n",
    "    if (learning_movies_combined[col] == 0).sum() / len(learning_movies_combined[col]) > 0.8:\n",
    "        learning_movies_combined[col] = pd.arrays.SparseArray(learning_movies_combined[col], fill_value=0)"
   ],
   "metadata": {
    "collapsed": false
   }
  },
  {
   "cell_type": "code",
   "execution_count": 19,
   "outputs": [],
   "source": [
    "learning_movies_credits.to_pickle(datasets_path + movies_path + processed_path + '/learning_movies_credits.pkl')"
   ],
   "metadata": {
    "collapsed": false,
    "ExecuteTime": {
     "end_time": "2025-03-05T07:55:43.585946Z",
     "start_time": "2025-03-05T07:55:42.029543100Z"
    }
   }
  },
  {
   "cell_type": "code",
   "execution_count": 20,
   "outputs": [],
   "source": [
    "learning_movies_combined.to_pickle(datasets_path + movies_path + processed_path + '/learning_movies_combined.pkl')"
   ],
   "metadata": {
    "collapsed": false,
    "ExecuteTime": {
     "end_time": "2025-03-05T07:55:45.220504900Z",
     "start_time": "2025-03-05T07:55:43.587946800Z"
    }
   }
  },
  {
   "cell_type": "code",
   "execution_count": null,
   "outputs": [],
   "source": [],
   "metadata": {
    "collapsed": false
   }
  }
 ],
 "metadata": {
  "kernelspec": {
   "display_name": "Python 3",
   "language": "python",
   "name": "python3"
  },
  "language_info": {
   "codemirror_mode": {
    "name": "ipython",
    "version": 2
   },
   "file_extension": ".py",
   "mimetype": "text/x-python",
   "name": "python",
   "nbconvert_exporter": "python",
   "pygments_lexer": "ipython2",
   "version": "2.7.6"
  }
 },
 "nbformat": 4,
 "nbformat_minor": 0
}
