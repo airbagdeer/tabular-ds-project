{
 "cells": [
  {
   "cell_type": "code",
   "execution_count": 1,
   "metadata": {},
   "outputs": [],
   "source": [
    "import pandas as pd\n",
    "import os"
   ]
  },
  {
   "cell_type": "markdown",
   "metadata": {},
   "source": [
    "The viewing activity is too big, we need to filter it only for nobel prize winners:"
   ]
  },
  {
   "cell_type": "code",
   "execution_count": 26,
   "metadata": {},
   "outputs": [],
   "source": [
    "WINNERS_PATH = '../../data/novel-prize/raw/nobel_laureates_data.csv'\n",
    "WIKIPEDIA_2015_PATH = '../../data/novel-prize/raw/wikipedia/monthly_views_2015.csv'\n",
    "WIKIPEDIA_2016_PATH = '../../data/novel-prize/raw/wikipedia/monthly_views_2016.csv'\n",
    "WIKIPEDIA_2017_PATH = '../../data/novel-prize/raw/wikipedia/monthly_views_2017.csv'\n",
    "WIKIPEDIA_2018_PATH = '../../data/novel-prize/raw/wikipedia/monthly_views_2018.csv'\n",
    "WIKIPEDIA_2019_PATH = '../../data/novel-prize/raw/wikipedia/monthly_views_2019.csv'\n",
    "WIKIPEDIA_2020_PATH = '../../data/novel-prize/raw/wikipedia/monthly_views_2020.csv'\n",
    "WIKIPEDIA_2021_PATH = '../../data/novel-prize/raw/wikipedia/monthly_views_2021.csv'\n",
    "WIKIPEDIA_2022_PATH = '../../data/novel-prize/raw/wikipedia/monthly_views_2022.csv'\n",
    "WIKIPEDIA_2023_PATH = '../../data/novel-prize/raw/wikipedia/monthly_views_2023.csv'"
   ]
  },
  {
   "cell_type": "code",
   "execution_count": 2,
   "metadata": {},
   "outputs": [],
   "source": [
    "winners_df = pd.read_csv(WINNERS_PATH)\n",
    "wikipedia_2015_df = pd.read_csv(WIKIPEDIA_2015_PATH)"
   ]
  },
  {
   "cell_type": "code",
   "execution_count": 3,
   "metadata": {},
   "outputs": [
    {
     "data": {
      "text/html": [
       "<div>\n",
       "<style scoped>\n",
       "    .dataframe tbody tr th:only-of-type {\n",
       "        vertical-align: middle;\n",
       "    }\n",
       "\n",
       "    .dataframe tbody tr th {\n",
       "        vertical-align: top;\n",
       "    }\n",
       "\n",
       "    .dataframe thead th {\n",
       "        text-align: right;\n",
       "    }\n",
       "</style>\n",
       "<table border=\"1\" class=\"dataframe\">\n",
       "  <thead>\n",
       "    <tr style=\"text-align: right;\">\n",
       "      <th></th>\n",
       "      <th>title</th>\n",
       "      <th>month</th>\n",
       "      <th>monthly_views</th>\n",
       "    </tr>\n",
       "  </thead>\n",
       "  <tbody>\n",
       "    <tr>\n",
       "      <th>0</th>\n",
       "      <td>Anthony_van_Hoboken</td>\n",
       "      <td>2015-08-01 00:00:00 UTC</td>\n",
       "      <td>256</td>\n",
       "    </tr>\n",
       "    <tr>\n",
       "      <th>1</th>\n",
       "      <td>Brian_Conklin</td>\n",
       "      <td>2015-08-01 00:00:00 UTC</td>\n",
       "      <td>256</td>\n",
       "    </tr>\n",
       "    <tr>\n",
       "      <th>2</th>\n",
       "      <td>Julian_Seward</td>\n",
       "      <td>2015-08-01 00:00:00 UTC</td>\n",
       "      <td>256</td>\n",
       "    </tr>\n",
       "    <tr>\n",
       "      <th>3</th>\n",
       "      <td>Greg_Ducre</td>\n",
       "      <td>2015-08-01 00:00:00 UTC</td>\n",
       "      <td>256</td>\n",
       "    </tr>\n",
       "    <tr>\n",
       "      <th>4</th>\n",
       "      <td>Richard_H._Ellis</td>\n",
       "      <td>2015-08-01 00:00:00 UTC</td>\n",
       "      <td>256</td>\n",
       "    </tr>\n",
       "  </tbody>\n",
       "</table>\n",
       "</div>"
      ],
      "text/plain": [
       "                 title                    month  monthly_views\n",
       "0  Anthony_van_Hoboken  2015-08-01 00:00:00 UTC            256\n",
       "1        Brian_Conklin  2015-08-01 00:00:00 UTC            256\n",
       "2        Julian_Seward  2015-08-01 00:00:00 UTC            256\n",
       "3           Greg_Ducre  2015-08-01 00:00:00 UTC            256\n",
       "4     Richard_H._Ellis  2015-08-01 00:00:00 UTC            256"
      ]
     },
     "execution_count": 3,
     "metadata": {},
     "output_type": "execute_result"
    }
   ],
   "source": [
    "wikipedia_2015_df.head()"
   ]
  },
  {
   "cell_type": "code",
   "execution_count": 4,
   "metadata": {},
   "outputs": [
    {
     "data": {
      "text/html": [
       "<div>\n",
       "<style scoped>\n",
       "    .dataframe tbody tr th:only-of-type {\n",
       "        vertical-align: middle;\n",
       "    }\n",
       "\n",
       "    .dataframe tbody tr th {\n",
       "        vertical-align: top;\n",
       "    }\n",
       "\n",
       "    .dataframe thead th {\n",
       "        text-align: right;\n",
       "    }\n",
       "</style>\n",
       "<table border=\"1\" class=\"dataframe\">\n",
       "  <thead>\n",
       "    <tr style=\"text-align: right;\">\n",
       "      <th></th>\n",
       "      <th>year</th>\n",
       "      <th>category</th>\n",
       "      <th>motivation</th>\n",
       "      <th>prizeShare</th>\n",
       "      <th>laureateID</th>\n",
       "      <th>fullName</th>\n",
       "      <th>gender</th>\n",
       "      <th>born</th>\n",
       "      <th>bornCountry</th>\n",
       "      <th>bornCity</th>\n",
       "      <th>died</th>\n",
       "      <th>diedCountry</th>\n",
       "      <th>diedCity</th>\n",
       "      <th>organizationName</th>\n",
       "      <th>organizationCountry</th>\n",
       "      <th>organizationCity</th>\n",
       "    </tr>\n",
       "  </thead>\n",
       "  <tbody>\n",
       "    <tr>\n",
       "      <th>0</th>\n",
       "      <td>2023</td>\n",
       "      <td>medicine</td>\n",
       "      <td>for their discoveries concerning nucleoside ba...</td>\n",
       "      <td>2</td>\n",
       "      <td>1024</td>\n",
       "      <td>Katalin Kariko</td>\n",
       "      <td>female</td>\n",
       "      <td>17-01-1955</td>\n",
       "      <td>Hungary</td>\n",
       "      <td>Szolnok</td>\n",
       "      <td>0000-00-00</td>\n",
       "      <td>NaN</td>\n",
       "      <td>NaN</td>\n",
       "      <td>Szeged University</td>\n",
       "      <td>Hungary</td>\n",
       "      <td>Szeged</td>\n",
       "    </tr>\n",
       "    <tr>\n",
       "      <th>1</th>\n",
       "      <td>2023</td>\n",
       "      <td>economics</td>\n",
       "      <td>for having advanced our understanding of women...</td>\n",
       "      <td>1</td>\n",
       "      <td>1034</td>\n",
       "      <td>Claudia Goldin</td>\n",
       "      <td>female</td>\n",
       "      <td>1946-00-00</td>\n",
       "      <td>USA</td>\n",
       "      <td>New York NY</td>\n",
       "      <td>0000-00-00</td>\n",
       "      <td>NaN</td>\n",
       "      <td>NaN</td>\n",
       "      <td>Harvard University</td>\n",
       "      <td>USA</td>\n",
       "      <td>Cambridge MA</td>\n",
       "    </tr>\n",
       "    <tr>\n",
       "      <th>2</th>\n",
       "      <td>2023</td>\n",
       "      <td>peace</td>\n",
       "      <td>for her fight against the oppression of women ...</td>\n",
       "      <td>1</td>\n",
       "      <td>1033</td>\n",
       "      <td>Narges Mohammadi</td>\n",
       "      <td>female</td>\n",
       "      <td>21-04-1972</td>\n",
       "      <td>Iran</td>\n",
       "      <td>Zanjan</td>\n",
       "      <td>0000-00-00</td>\n",
       "      <td>NaN</td>\n",
       "      <td>NaN</td>\n",
       "      <td>NaN</td>\n",
       "      <td>NaN</td>\n",
       "      <td>NaN</td>\n",
       "    </tr>\n",
       "    <tr>\n",
       "      <th>3</th>\n",
       "      <td>2023</td>\n",
       "      <td>literature</td>\n",
       "      <td>for his innovative plays and prose which give ...</td>\n",
       "      <td>1</td>\n",
       "      <td>1032</td>\n",
       "      <td>Jon Fosse</td>\n",
       "      <td>male</td>\n",
       "      <td>29-09-1959</td>\n",
       "      <td>Norway</td>\n",
       "      <td>Haugesund</td>\n",
       "      <td>0000-00-00</td>\n",
       "      <td>NaN</td>\n",
       "      <td>NaN</td>\n",
       "      <td>NaN</td>\n",
       "      <td>NaN</td>\n",
       "      <td>NaN</td>\n",
       "    </tr>\n",
       "    <tr>\n",
       "      <th>4</th>\n",
       "      <td>2023</td>\n",
       "      <td>chemistry</td>\n",
       "      <td>for the discovery and synthesis of quantum dots</td>\n",
       "      <td>3</td>\n",
       "      <td>1031</td>\n",
       "      <td>Alexei Ekimov</td>\n",
       "      <td>male</td>\n",
       "      <td>1945-00-00</td>\n",
       "      <td>Russia</td>\n",
       "      <td>NaN</td>\n",
       "      <td>0000-00-00</td>\n",
       "      <td>NaN</td>\n",
       "      <td>NaN</td>\n",
       "      <td>Nanocrystals Technology Inc.</td>\n",
       "      <td>USA</td>\n",
       "      <td>New York NY</td>\n",
       "    </tr>\n",
       "  </tbody>\n",
       "</table>\n",
       "</div>"
      ],
      "text/plain": [
       "   year    category                                         motivation  \\\n",
       "0  2023    medicine  for their discoveries concerning nucleoside ba...   \n",
       "1  2023   economics  for having advanced our understanding of women...   \n",
       "2  2023       peace  for her fight against the oppression of women ...   \n",
       "3  2023  literature  for his innovative plays and prose which give ...   \n",
       "4  2023   chemistry    for the discovery and synthesis of quantum dots   \n",
       "\n",
       "   prizeShare  laureateID          fullName  gender        born bornCountry  \\\n",
       "0           2        1024    Katalin Kariko  female  17-01-1955     Hungary   \n",
       "1           1        1034    Claudia Goldin  female  1946-00-00         USA   \n",
       "2           1        1033  Narges Mohammadi  female  21-04-1972        Iran   \n",
       "3           1        1032         Jon Fosse    male  29-09-1959      Norway   \n",
       "4           3        1031     Alexei Ekimov    male  1945-00-00      Russia   \n",
       "\n",
       "      bornCity        died diedCountry diedCity              organizationName  \\\n",
       "0      Szolnok  0000-00-00         NaN      NaN             Szeged University   \n",
       "1  New York NY  0000-00-00         NaN      NaN            Harvard University   \n",
       "2       Zanjan  0000-00-00         NaN      NaN                           NaN   \n",
       "3    Haugesund  0000-00-00         NaN      NaN                           NaN   \n",
       "4          NaN  0000-00-00         NaN      NaN  Nanocrystals Technology Inc.   \n",
       "\n",
       "  organizationCountry organizationCity  \n",
       "0             Hungary           Szeged  \n",
       "1                 USA     Cambridge MA  \n",
       "2                 NaN              NaN  \n",
       "3                 NaN              NaN  \n",
       "4                 USA      New York NY  "
      ]
     },
     "execution_count": 4,
     "metadata": {},
     "output_type": "execute_result"
    }
   ],
   "source": [
    "winners_df.head()"
   ]
  },
  {
   "cell_type": "markdown",
   "metadata": {},
   "source": [
    "### Steps:\n",
    "1. Match their titles to the same format\n",
    "2. group by date instead of mounth\n",
    "3. filter by novel prize winners and year\n",
    "4. do it for all data sets and get new and matching verions\n",
    "5. connect all wikipidia data sets into one\n",
    "6. remove unmatched rows (match means both the winner name and the year identical)\n",
    "7. remove redundant columns from the winners df\n",
    "8. connect and get new data set\n",
    "9. name data transformatinos to enable leraning\n"
   ]
  },
  {
   "cell_type": "markdown",
   "metadata": {},
   "source": [
    "#### 1. Match their titles to the same format"
   ]
  },
  {
   "cell_type": "code",
   "execution_count": 5,
   "metadata": {},
   "outputs": [],
   "source": [
    "def match_titles(wikipedia_df):\n",
    "    updated_wikipedia_df = wikipedia_df.copy()\n",
    "    #remove from meomery\n",
    "    wikipedia_df = pd.DataFrame()\n",
    "    updated_wikipedia_df['title'] = updated_wikipedia_df['title'].str.replace('_', ' ', regex=False)\n",
    "    return updated_wikipedia_df"
   ]
  },
  {
   "cell_type": "code",
   "execution_count": 6,
   "metadata": {},
   "outputs": [],
   "source": [
    "wikipedia_2015_df = match_titles(wikipedia_df=wikipedia_2015_df)"
   ]
  },
  {
   "cell_type": "code",
   "execution_count": 19,
   "metadata": {},
   "outputs": [
    {
     "data": {
      "text/html": [
       "<div>\n",
       "<style scoped>\n",
       "    .dataframe tbody tr th:only-of-type {\n",
       "        vertical-align: middle;\n",
       "    }\n",
       "\n",
       "    .dataframe tbody tr th {\n",
       "        vertical-align: top;\n",
       "    }\n",
       "\n",
       "    .dataframe thead th {\n",
       "        text-align: right;\n",
       "    }\n",
       "</style>\n",
       "<table border=\"1\" class=\"dataframe\">\n",
       "  <thead>\n",
       "    <tr style=\"text-align: right;\">\n",
       "      <th></th>\n",
       "      <th>title</th>\n",
       "      <th>year</th>\n",
       "      <th>yearly_views</th>\n",
       "    </tr>\n",
       "  </thead>\n",
       "  <tbody>\n",
       "    <tr>\n",
       "      <th>0</th>\n",
       "      <td>!PAUS3</td>\n",
       "      <td>2015</td>\n",
       "      <td>1025</td>\n",
       "    </tr>\n",
       "    <tr>\n",
       "      <th>1</th>\n",
       "      <td>\"Bassy\" Bob Brockmann</td>\n",
       "      <td>2015</td>\n",
       "      <td>1099</td>\n",
       "    </tr>\n",
       "    <tr>\n",
       "      <th>2</th>\n",
       "      <td>\"Big\" Donnie MacLeod</td>\n",
       "      <td>2015</td>\n",
       "      <td>466</td>\n",
       "    </tr>\n",
       "    <tr>\n",
       "      <th>3</th>\n",
       "      <td>\"By\" Dunham</td>\n",
       "      <td>2015</td>\n",
       "      <td>34</td>\n",
       "    </tr>\n",
       "    <tr>\n",
       "      <th>4</th>\n",
       "      <td>\"Country\" Johnny Mathis</td>\n",
       "      <td>2015</td>\n",
       "      <td>60</td>\n",
       "    </tr>\n",
       "  </tbody>\n",
       "</table>\n",
       "</div>"
      ],
      "text/plain": [
       "                     title  year  yearly_views\n",
       "0                   !PAUS3  2015          1025\n",
       "1    \"Bassy\" Bob Brockmann  2015          1099\n",
       "2     \"Big\" Donnie MacLeod  2015           466\n",
       "3              \"By\" Dunham  2015            34\n",
       "4  \"Country\" Johnny Mathis  2015            60"
      ]
     },
     "execution_count": 19,
     "metadata": {},
     "output_type": "execute_result"
    }
   ],
   "source": [
    "wikipedia_2015_df.head()"
   ]
  },
  {
   "cell_type": "markdown",
   "metadata": {},
   "source": [
    "### 2. Filter By Novel Prize Winners:"
   ]
  },
  {
   "cell_type": "markdown",
   "metadata": {},
   "source": [
    "#### 2. group by date instead of mounth"
   ]
  },
  {
   "cell_type": "code",
   "execution_count": 14,
   "metadata": {},
   "outputs": [],
   "source": [
    "def convert_to_year_measurment(wikipedia_df):\n",
    "    updated_wikipedia_df = wikipedia_df.copy()\n",
    "    #remove from meomery\n",
    "    wikipedia_df = pd.DataFrame()\n",
    "    # Convert 'mounth' to datetime\n",
    "    updated_wikipedia_df['month'] = pd.to_datetime(updated_wikipedia_df['month'])\n",
    "    # Extract the year from 'mounth'\n",
    "    updated_wikipedia_df['year'] = updated_wikipedia_df['month'].dt.year\n",
    "    # Group by 'title' and 'year', then sum the 'activity'\n",
    "    updated_wikipedia_df = updated_wikipedia_df.groupby(['title', 'year'], as_index=False)['monthly_views'].sum()\n",
    "    updated_wikipedia_df = updated_wikipedia_df.rename(columns={'monthly_views':'yearly_views'})\n",
    "\n",
    "    return updated_wikipedia_df"
   ]
  },
  {
   "cell_type": "code",
   "execution_count": 15,
   "metadata": {},
   "outputs": [],
   "source": [
    "wikipedia_2015_df = convert_to_year_measurment(wikipedia_df=wikipedia_2015_df)"
   ]
  },
  {
   "cell_type": "markdown",
   "metadata": {},
   "source": [
    "### 3. Filter By Novel Prize Winners:"
   ]
  },
  {
   "cell_type": "code",
   "execution_count": 20,
   "metadata": {},
   "outputs": [],
   "source": [
    "def filter_by_novel_prize_winers(wikipedia_df, winners_df):\n",
    "    filtered_wikipedia_df = wikipedia_df[wikipedia_df[['title', 'year']].apply(\n",
    "    tuple, axis=1).isin(winners_df[['fullName', 'year']].apply(tuple, axis=1))]\n",
    "    return filtered_wikipedia_df"
   ]
  },
  {
   "cell_type": "code",
   "execution_count": 21,
   "metadata": {},
   "outputs": [],
   "source": [
    "wikipedia_2015_df = filter_by_novel_prize_winers(wikipedia_df=wikipedia_2015_df, winners_df=winners_df)"
   ]
  },
  {
   "cell_type": "markdown",
   "metadata": {},
   "source": [
    "#### 4. do it for all data sets and get new and matching verions"
   ]
  },
  {
   "cell_type": "markdown",
   "metadata": {},
   "source": [
    "first let's some it all for one method:"
   ]
  },
  {
   "cell_type": "code",
   "execution_count": 23,
   "metadata": {},
   "outputs": [],
   "source": [
    "def get_updated_wikipedia_yearly_df(wikipedia_df, winners_df):\n",
    "    wikipedia_df = match_titles(wikipedia_df=wikipedia_df)\n",
    "    wikipedia_df = convert_to_year_measurment(wikipedia_df=wikipedia_df)\n",
    "    wikipedia_df = filter_by_novel_prize_winers(wikipedia_df=wikipedia_df, winners_df=winners_df)\n",
    "    return wikipedia_df"
   ]
  },
  {
   "cell_type": "code",
   "execution_count": 24,
   "metadata": {},
   "outputs": [],
   "source": [
    "def get_all_updated_wikipedia_dfs(wikipedia_paths, winners_df):\n",
    "    dfs = []\n",
    "    for wikipedia_path in wikipedia_paths:\n",
    "        wikipedia_df = pd.read_csv(wikipedia_path)\n",
    "        updated_wikipdia_df = get_updated_wikipedia_yearly_df(wikipedia_df=wikipedia_df, winners_df=winners_df)\n",
    "        dfs.append(updated_wikipdia_df)\n",
    "    return dfs"
   ]
  },
  {
   "cell_type": "code",
   "execution_count": 27,
   "metadata": {},
   "outputs": [],
   "source": [
    "wikipedia_paths = [WIKIPEDIA_2015_PATH, WIKIPEDIA_2016_PATH, WIKIPEDIA_2017_PATH, WIKIPEDIA_2018_PATH, WIKIPEDIA_2019_PATH, WIKIPEDIA_2020_PATH, WIKIPEDIA_2021_PATH, WIKIPEDIA_2022_PATH, WIKIPEDIA_2023_PATH]\n",
    "wikipedia_dfs = get_all_updated_wikipedia_dfs(wikipedia_paths=wikipedia_paths, winners_df=winners_df)"
   ]
  },
  {
   "cell_type": "markdown",
   "metadata": {},
   "source": [
    "#### 5. connect all wikipidia data sets into one"
   ]
  },
  {
   "cell_type": "code",
   "execution_count": 28,
   "metadata": {},
   "outputs": [],
   "source": [
    "def connect_wikipedia_dfs(dfs):\n",
    "    full_wikipedia_df = pd.concat(dfs, ignore_index=True)\n",
    "    return full_wikipedia_df"
   ]
  },
  {
   "cell_type": "code",
   "execution_count": 29,
   "metadata": {},
   "outputs": [],
   "source": [
    "full_wikipedia_df = connect_wikipedia_dfs(dfs=wikipedia_dfs)"
   ]
  },
  {
   "cell_type": "markdown",
   "metadata": {},
   "source": [
    "#### 6. Match columns names"
   ]
  },
  {
   "cell_type": "code",
   "execution_count": 35,
   "metadata": {},
   "outputs": [],
   "source": [
    "def match_columns_names(full_wikipedia_df, winners_df):\n",
    "    full_wikipedia_df = full_wikipedia_df.rename(columns={'title':'name'})\n",
    "    winners_df = winners_df.rename(columns={'fullName':'name'})\n",
    "    return full_wikipedia_df, winners_df"
   ]
  },
  {
   "cell_type": "code",
   "execution_count": 36,
   "metadata": {},
   "outputs": [],
   "source": [
    "full_wikipedia_df, winners_df = match_columns_names(full_wikipedia_df=full_wikipedia_df, winners_df=winners_df)"
   ]
  },
  {
   "cell_type": "markdown",
   "metadata": {},
   "source": []
  },
  {
   "cell_type": "markdown",
   "metadata": {},
   "source": [
    "#### 7. Remove unmatched rows (match means both the winner name and the year identical)"
   ]
  },
  {
   "cell_type": "code",
   "execution_count": 38,
   "metadata": {},
   "outputs": [],
   "source": [
    "def remove_unmatched_rows(full_wikipedia_df, winners_df):\n",
    "    matched_wikipedia_df = pd.merge(full_wikipedia_df, winners_df, how='inner', on=['name', 'year'])\n",
    "    matching_wikipedia = full_wikipedia_df[full_wikipedia_df[['name', 'year']].apply(tuple, axis=1).isin(matched_wikipedia_df[['name', 'year']].apply(tuple, axis=1))]\n",
    "    matching_winners = winners_df[winners_df[['name', 'year']].apply(tuple, axis=1).isin(matched_wikipedia_df[['name', 'year']].apply(tuple, axis=1))]\n",
    "    return matching_wikipedia, matching_winners"
   ]
  },
  {
   "cell_type": "code",
   "execution_count": 39,
   "metadata": {},
   "outputs": [],
   "source": [
    "full_wikipedia_df, winners_df = remove_unmatched_rows(full_wikipedia_df=full_wikipedia_df, winners_df=winners_df)"
   ]
  },
  {
   "cell_type": "code",
   "execution_count": 43,
   "metadata": {},
   "outputs": [
    {
     "data": {
      "text/html": [
       "<div>\n",
       "<style scoped>\n",
       "    .dataframe tbody tr th:only-of-type {\n",
       "        vertical-align: middle;\n",
       "    }\n",
       "\n",
       "    .dataframe tbody tr th {\n",
       "        vertical-align: top;\n",
       "    }\n",
       "\n",
       "    .dataframe thead th {\n",
       "        text-align: right;\n",
       "    }\n",
       "</style>\n",
       "<table border=\"1\" class=\"dataframe\">\n",
       "  <thead>\n",
       "    <tr style=\"text-align: right;\">\n",
       "      <th></th>\n",
       "      <th>year</th>\n",
       "      <th>category</th>\n",
       "      <th>motivation</th>\n",
       "      <th>prizeShare</th>\n",
       "      <th>laureateID</th>\n",
       "      <th>name</th>\n",
       "      <th>gender</th>\n",
       "      <th>born</th>\n",
       "      <th>bornCountry</th>\n",
       "      <th>bornCity</th>\n",
       "      <th>died</th>\n",
       "      <th>diedCountry</th>\n",
       "      <th>diedCity</th>\n",
       "      <th>organizationName</th>\n",
       "      <th>organizationCountry</th>\n",
       "      <th>organizationCity</th>\n",
       "    </tr>\n",
       "  </thead>\n",
       "  <tbody>\n",
       "    <tr>\n",
       "      <th>1</th>\n",
       "      <td>2023</td>\n",
       "      <td>economics</td>\n",
       "      <td>for having advanced our understanding of women...</td>\n",
       "      <td>1</td>\n",
       "      <td>1034</td>\n",
       "      <td>Claudia Goldin</td>\n",
       "      <td>female</td>\n",
       "      <td>1946-00-00</td>\n",
       "      <td>USA</td>\n",
       "      <td>New York NY</td>\n",
       "      <td>0000-00-00</td>\n",
       "      <td>NaN</td>\n",
       "      <td>NaN</td>\n",
       "      <td>Harvard University</td>\n",
       "      <td>USA</td>\n",
       "      <td>Cambridge MA</td>\n",
       "    </tr>\n",
       "    <tr>\n",
       "      <th>2</th>\n",
       "      <td>2023</td>\n",
       "      <td>peace</td>\n",
       "      <td>for her fight against the oppression of women ...</td>\n",
       "      <td>1</td>\n",
       "      <td>1033</td>\n",
       "      <td>Narges Mohammadi</td>\n",
       "      <td>female</td>\n",
       "      <td>21-04-1972</td>\n",
       "      <td>Iran</td>\n",
       "      <td>Zanjan</td>\n",
       "      <td>0000-00-00</td>\n",
       "      <td>NaN</td>\n",
       "      <td>NaN</td>\n",
       "      <td>NaN</td>\n",
       "      <td>NaN</td>\n",
       "      <td>NaN</td>\n",
       "    </tr>\n",
       "    <tr>\n",
       "      <th>3</th>\n",
       "      <td>2023</td>\n",
       "      <td>literature</td>\n",
       "      <td>for his innovative plays and prose which give ...</td>\n",
       "      <td>1</td>\n",
       "      <td>1032</td>\n",
       "      <td>Jon Fosse</td>\n",
       "      <td>male</td>\n",
       "      <td>29-09-1959</td>\n",
       "      <td>Norway</td>\n",
       "      <td>Haugesund</td>\n",
       "      <td>0000-00-00</td>\n",
       "      <td>NaN</td>\n",
       "      <td>NaN</td>\n",
       "      <td>NaN</td>\n",
       "      <td>NaN</td>\n",
       "      <td>NaN</td>\n",
       "    </tr>\n",
       "    <tr>\n",
       "      <th>6</th>\n",
       "      <td>2023</td>\n",
       "      <td>chemistry</td>\n",
       "      <td>for the discovery and synthesis of quantum dots</td>\n",
       "      <td>3</td>\n",
       "      <td>1029</td>\n",
       "      <td>Moungi Bawendi</td>\n",
       "      <td>male</td>\n",
       "      <td>1961-00-00</td>\n",
       "      <td>France</td>\n",
       "      <td>Paris</td>\n",
       "      <td>0000-00-00</td>\n",
       "      <td>NaN</td>\n",
       "      <td>NaN</td>\n",
       "      <td>Massachusetts Institute of Technology (MIT)</td>\n",
       "      <td>USA</td>\n",
       "      <td>Cambridge MA</td>\n",
       "    </tr>\n",
       "    <tr>\n",
       "      <th>8</th>\n",
       "      <td>2023</td>\n",
       "      <td>physics</td>\n",
       "      <td>for experimental methods that generate attosec...</td>\n",
       "      <td>3</td>\n",
       "      <td>1027</td>\n",
       "      <td>Ferenc Krausz</td>\n",
       "      <td>male</td>\n",
       "      <td>17-05-1962</td>\n",
       "      <td>Hungary</td>\n",
       "      <td>Mor</td>\n",
       "      <td>0000-00-00</td>\n",
       "      <td>NaN</td>\n",
       "      <td>NaN</td>\n",
       "      <td>Max Planck Institute of Quantum Optics</td>\n",
       "      <td>Germany</td>\n",
       "      <td>Garching</td>\n",
       "    </tr>\n",
       "  </tbody>\n",
       "</table>\n",
       "</div>"
      ],
      "text/plain": [
       "   year    category                                         motivation  \\\n",
       "1  2023   economics  for having advanced our understanding of women...   \n",
       "2  2023       peace  for her fight against the oppression of women ...   \n",
       "3  2023  literature  for his innovative plays and prose which give ...   \n",
       "6  2023   chemistry    for the discovery and synthesis of quantum dots   \n",
       "8  2023     physics  for experimental methods that generate attosec...   \n",
       "\n",
       "   prizeShare  laureateID              name  gender        born bornCountry  \\\n",
       "1           1        1034    Claudia Goldin  female  1946-00-00         USA   \n",
       "2           1        1033  Narges Mohammadi  female  21-04-1972        Iran   \n",
       "3           1        1032         Jon Fosse    male  29-09-1959      Norway   \n",
       "6           3        1029    Moungi Bawendi    male  1961-00-00      France   \n",
       "8           3        1027     Ferenc Krausz    male  17-05-1962     Hungary   \n",
       "\n",
       "      bornCity        died diedCountry diedCity  \\\n",
       "1  New York NY  0000-00-00         NaN      NaN   \n",
       "2       Zanjan  0000-00-00         NaN      NaN   \n",
       "3    Haugesund  0000-00-00         NaN      NaN   \n",
       "6        Paris  0000-00-00         NaN      NaN   \n",
       "8          Mor  0000-00-00         NaN      NaN   \n",
       "\n",
       "                              organizationName organizationCountry  \\\n",
       "1                           Harvard University                 USA   \n",
       "2                                          NaN                 NaN   \n",
       "3                                          NaN                 NaN   \n",
       "6  Massachusetts Institute of Technology (MIT)                 USA   \n",
       "8       Max Planck Institute of Quantum Optics             Germany   \n",
       "\n",
       "  organizationCity  \n",
       "1     Cambridge MA  \n",
       "2              NaN  \n",
       "3              NaN  \n",
       "6     Cambridge MA  \n",
       "8         Garching  "
      ]
     },
     "execution_count": 43,
     "metadata": {},
     "output_type": "execute_result"
    }
   ],
   "source": [
    "winners_df.head()"
   ]
  },
  {
   "cell_type": "markdown",
   "metadata": {},
   "source": [
    "#### 8. Remove duplicated winners:"
   ]
  },
  {
   "cell_type": "code",
   "execution_count": 44,
   "metadata": {},
   "outputs": [],
   "source": [
    "def remove_duplicated_winners(winners_df):\n",
    "    winners_df_unique = winners_df.drop_duplicates(subset=['name', 'year'], keep='first')\n",
    "    return winners_df_unique\n"
   ]
  },
  {
   "cell_type": "code",
   "execution_count": 45,
   "metadata": {},
   "outputs": [],
   "source": [
    "winners_df = remove_duplicated_winners(winners_df=winners_df)"
   ]
  },
  {
   "cell_type": "markdown",
   "metadata": {},
   "source": [
    "#### 9. remove redundant columns from the winners df\n"
   ]
  },
  {
   "cell_type": "code",
   "execution_count": 48,
   "metadata": {},
   "outputs": [],
   "source": [
    "def remove_redundant_columns(winners_df):\n",
    "    return winners_df.drop(columns=['motivation','laureateID', 'bornCity', 'died', 'diedCountry', 'diedCity','organizationCity'])"
   ]
  },
  {
   "cell_type": "code",
   "execution_count": 49,
   "metadata": {},
   "outputs": [],
   "source": [
    "winners_df = remove_redundant_columns(winners_df=winners_df)"
   ]
  },
  {
   "cell_type": "markdown",
   "metadata": {},
   "source": [
    "#### 9. connect and get new data set"
   ]
  },
  {
   "cell_type": "code",
   "execution_count": 56,
   "metadata": {},
   "outputs": [],
   "source": [
    "def coombine_data_sets(full_wikipedia_df, winners_df):\n",
    "    combined_df = pd.merge(full_wikipedia_df, winners_df, on=['name', 'year'], how='right')\n",
    "    return combined_df\n"
   ]
  },
  {
   "cell_type": "code",
   "execution_count": 57,
   "metadata": {},
   "outputs": [],
   "source": [
    "combined_df = coombine_data_sets(full_wikipedia_df=full_wikipedia_df, winners_df=winners_df)"
   ]
  },
  {
   "cell_type": "markdown",
   "metadata": {},
   "source": [
    "#### 10. df transformations:"
   ]
  },
  {
   "cell_type": "code",
   "execution_count": 70,
   "metadata": {},
   "outputs": [],
   "source": [
    "def transform_data(full_wikipedia_df, winners_df, combined_df):\n",
    "    l_full_wikipedia_df = full_wikipedia_df.copy()\n",
    "    l_winners_df = winners_df.copy()\n",
    "    l_combined_df = combined_df.copy()\n",
    "\n",
    "\n",
    "    l_winners_df = pd.get_dummies(l_winners_df, columns=['gender', 'bornCountry', 'organizationCountry'])\n",
    "    l_combined_df = pd.get_dummies(combined_df, columns=['gender', 'bornCountry', 'organizationCountry'])\n",
    "\n",
    "    l_winners_df['category'], _ = pd.factorize(l_winners_df['category'])\n",
    "    l_combined_df['category'], _ = pd.factorize(l_combined_df['category'])\n",
    "\n",
    "    l_winners_df['organizationName'], _ = pd.factorize(l_winners_df['organizationName'])\n",
    "    l_combined_df['organizationName'], _ = pd.factorize(l_combined_df['organizationName'])\n",
    "\n",
    "    l_winners_df['name'], _ = pd.factorize(l_winners_df['name'])\n",
    "    l_combined_df['name'], _ = pd.factorize(l_combined_df['name'])\n",
    "    l_full_wikipedia_df['name'], _ = pd.factorize(l_full_wikipedia_df['name'])\n",
    "\n",
    "\n",
    "\n",
    "    return l_full_wikipedia_df, l_winners_df, l_combined_df"
   ]
  },
  {
   "cell_type": "code",
   "execution_count": 71,
   "metadata": {},
   "outputs": [],
   "source": [
    "l_full_wikipedia_df, l_winners_df, l_combined_df = transform_data(full_wikipedia_df=full_wikipedia_df, winners_df=winners_df, combined_df=combined_df)"
   ]
  },
  {
   "cell_type": "markdown",
   "metadata": {},
   "source": [
    "#### Write back as csv"
   ]
  },
  {
   "cell_type": "code",
   "execution_count": 67,
   "metadata": {},
   "outputs": [],
   "source": [
    "def write_dfs_as_csv(dfs):\n",
    "    for filename, df in dfs.items():\n",
    "        file_path = os.path.join('../../data/novel-prize/processed', f\"{filename}.csv\")\n",
    "        df.to_csv(file_path, index=False)"
   ]
  },
  {
   "cell_type": "code",
   "execution_count": 72,
   "metadata": {},
   "outputs": [],
   "source": [
    "write_dfs_as_csv(dfs=\n",
    "{\n",
    "    'eda_full_wikipedia':full_wikipedia_df,\n",
    "    'learning_full_wikipedia':l_full_wikipedia_df,\n",
    "    'eda_winners':winners_df,\n",
    "    'learning_winners':l_winners_df,\n",
    "    'eda_combined_novel_prize':combined_df,\n",
    "    'learning_combined_novel_prize':l_combined_df,\n",
    "})"
   ]
  },
  {
   "cell_type": "code",
   "execution_count": null,
   "metadata": {},
   "outputs": [],
   "source": []
  }
 ],
 "metadata": {
  "kernelspec": {
   "display_name": "Python 3",
   "language": "python",
   "name": "python3"
  },
  "language_info": {
   "codemirror_mode": {
    "name": "ipython",
    "version": 3
   },
   "file_extension": ".py",
   "mimetype": "text/x-python",
   "name": "python",
   "nbconvert_exporter": "python",
   "pygments_lexer": "ipython3",
   "version": "3.11.11"
  }
 },
 "nbformat": 4,
 "nbformat_minor": 2
}
